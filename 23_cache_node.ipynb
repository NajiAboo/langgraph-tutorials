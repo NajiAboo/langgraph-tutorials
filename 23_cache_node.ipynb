{
 "cells": [
  {
   "cell_type": "markdown",
   "id": "850256a9",
   "metadata": {},
   "source": [
    "## Node-level caching in LangGraph\n",
    "\n"
   ]
  },
  {
   "cell_type": "markdown",
   "id": "327d5b9e",
   "metadata": {},
   "source": []
  },
  {
   "cell_type": "code",
   "execution_count": 1,
   "id": "56cbbd07",
   "metadata": {},
   "outputs": [],
   "source": [
    "from langgraph.cache.memory import InMemoryCache\n",
    "from langgraph.graph import StateGraph\n",
    "from langgraph.types import CachePolicy\n",
    "from typing_extensions import TypedDict\n",
    "import time"
   ]
  },
  {
   "cell_type": "code",
   "execution_count": 2,
   "id": "e69c1a96",
   "metadata": {},
   "outputs": [],
   "source": [
    "class State(TypedDict):\n",
    "    x: int\n",
    "    result: int"
   ]
  },
  {
   "cell_type": "code",
   "execution_count": 29,
   "id": "59936ab7",
   "metadata": {},
   "outputs": [],
   "source": [
    "builder = StateGraph(State)"
   ]
  },
  {
   "cell_type": "code",
   "execution_count": 30,
   "id": "ee176ba6",
   "metadata": {},
   "outputs": [],
   "source": [
    "def expensive_node(state: State) -> dict[str, int]:\n",
    "    time.sleep(2)\n",
    "    return {\"result\": state[\"x\"] * 2}"
   ]
  },
  {
   "cell_type": "code",
   "execution_count": 31,
   "id": "1f05339e",
   "metadata": {},
   "outputs": [
    {
     "data": {
      "text/plain": [
       "<langgraph.graph.state.StateGraph at 0x1160ef210>"
      ]
     },
     "execution_count": 31,
     "metadata": {},
     "output_type": "execute_result"
    }
   ],
   "source": [
    "builder.add_node(\n",
    "    \"expensive_node\", \n",
    "    expensive_node, \n",
    "    cache_policy=CachePolicy(ttl=120)\n",
    ")"
   ]
  },
  {
   "cell_type": "code",
   "execution_count": 32,
   "id": "5fe7b49e",
   "metadata": {},
   "outputs": [
    {
     "data": {
      "text/plain": [
       "<langgraph.graph.state.StateGraph at 0x1160ef210>"
      ]
     },
     "execution_count": 32,
     "metadata": {},
     "output_type": "execute_result"
    }
   ],
   "source": [
    "builder.set_entry_point(\"expensive_node\")\n",
    "builder.set_finish_point(\"expensive_node\")"
   ]
  },
  {
   "cell_type": "code",
   "execution_count": 33,
   "id": "e8126938",
   "metadata": {},
   "outputs": [],
   "source": [
    "cache = InMemoryCache()\n"
   ]
  },
  {
   "cell_type": "code",
   "execution_count": 34,
   "id": "4feb662d",
   "metadata": {},
   "outputs": [],
   "source": [
    "graph = builder.compile(cache=cache)"
   ]
  },
  {
   "cell_type": "code",
   "execution_count": 45,
   "id": "f4cdae7f",
   "metadata": {},
   "outputs": [
    {
     "name": "stdout",
     "output_type": "stream",
     "text": [
      "[{'expensive_node': {'result': 12}, '__metadata__': {'cached': True}}]\n"
     ]
    }
   ],
   "source": [
    "print(graph.invoke({\"x\": 6}, stream_mode=\"updates\"))"
   ]
  },
  {
   "cell_type": "code",
   "execution_count": 43,
   "id": "6eb14b88",
   "metadata": {},
   "outputs": [],
   "source": [
    "cache.clear()"
   ]
  },
  {
   "cell_type": "code",
   "execution_count": null,
   "id": "433dd716",
   "metadata": {},
   "outputs": [],
   "source": []
  },
  {
   "cell_type": "code",
   "execution_count": null,
   "id": "d30a0577",
   "metadata": {},
   "outputs": [],
   "source": []
  },
  {
   "cell_type": "markdown",
   "id": "839e227b",
   "metadata": {},
   "source": [
    "## Two expensive nodes"
   ]
  },
  {
   "cell_type": "code",
   "execution_count": 46,
   "id": "9e1319d9",
   "metadata": {},
   "outputs": [],
   "source": [
    "class State(TypedDict):\n",
    "    x: int\n",
    "    y: int\n",
    "    result: int"
   ]
  },
  {
   "cell_type": "code",
   "execution_count": 47,
   "id": "7c48f4c7",
   "metadata": {},
   "outputs": [],
   "source": [
    "builder = StateGraph(State)"
   ]
  },
  {
   "cell_type": "code",
   "execution_count": 49,
   "id": "00efed71",
   "metadata": {},
   "outputs": [],
   "source": [
    "def expensive_node(state: State) -> dict[str, int]:\n",
    "    time.sleep(2)\n",
    "    return {\"result\": state[\"x\"] * 2}"
   ]
  },
  {
   "cell_type": "code",
   "execution_count": 50,
   "id": "a82ab685",
   "metadata": {},
   "outputs": [],
   "source": [
    "def expensive_node2(state: State) -> dict[str, int]:\n",
    "    time.sleep(2)\n",
    "    return {\"result\": state[\"y\"] * 20}"
   ]
  },
  {
   "cell_type": "code",
   "execution_count": 51,
   "id": "313e9b51",
   "metadata": {},
   "outputs": [
    {
     "data": {
      "text/plain": [
       "<langgraph.graph.state.StateGraph at 0x116a29f90>"
      ]
     },
     "execution_count": 51,
     "metadata": {},
     "output_type": "execute_result"
    }
   ],
   "source": [
    "builder.add_node(\n",
    "    \"expensive_node\",\n",
    "    expensive_node,\n",
    "    cache_policy=CachePolicy(\n",
    "        ttl=120\n",
    "    )\n",
    ")"
   ]
  },
  {
   "cell_type": "code",
   "execution_count": 52,
   "id": "0a009670",
   "metadata": {},
   "outputs": [
    {
     "data": {
      "text/plain": [
       "<langgraph.graph.state.StateGraph at 0x116a29f90>"
      ]
     },
     "execution_count": 52,
     "metadata": {},
     "output_type": "execute_result"
    }
   ],
   "source": [
    "builder.add_node(\n",
    "    \"expensive_node2\",\n",
    "    expensive_node2,\n",
    "    cache_policy=CachePolicy(\n",
    "        ttl=30\n",
    "    )\n",
    ")"
   ]
  },
  {
   "cell_type": "code",
   "execution_count": 53,
   "id": "1f63b2bd",
   "metadata": {},
   "outputs": [
    {
     "data": {
      "text/plain": [
       "<langgraph.graph.state.StateGraph at 0x116a29f90>"
      ]
     },
     "execution_count": 53,
     "metadata": {},
     "output_type": "execute_result"
    }
   ],
   "source": [
    "builder.add_edge(\"expensive_node\", \"expensive_node2\")\n",
    "builder.set_entry_point(\"expensive_node\")"
   ]
  },
  {
   "cell_type": "code",
   "execution_count": 54,
   "id": "5acd1484",
   "metadata": {},
   "outputs": [],
   "source": [
    "cache = InMemoryCache()\n",
    "graph = builder.compile(cache=cache)"
   ]
  },
  {
   "cell_type": "code",
   "execution_count": 68,
   "id": "513c1872",
   "metadata": {},
   "outputs": [
    {
     "name": "stdout",
     "output_type": "stream",
     "text": [
      "[{'expensive_node': {'result': 12}, '__metadata__': {'cached': True}}, {'expensive_node2': {'result': 160}}]\n"
     ]
    }
   ],
   "source": [
    "print(graph.invoke({\"x\": 6,\"y\": 8}, stream_mode=\"updates\"))"
   ]
  },
  {
   "cell_type": "code",
   "execution_count": 59,
   "id": "856e8c2f",
   "metadata": {},
   "outputs": [],
   "source": [
    "cache.clear()"
   ]
  },
  {
   "cell_type": "code",
   "execution_count": 62,
   "id": "31badd62",
   "metadata": {},
   "outputs": [
    {
     "data": {
      "text/plain": [
       "{('__pregel_ns_writes',\n",
       "  '__main__.expensive_node',\n",
       "  'expensive_node'): {'f4c56c93b6a9632f57c7ff6c9e03157e': ('msgpack',\n",
       "   b'\\xc79\\x00\\x93\\xabcollections\\xa5deque\\x92\\x92\\xa6result\\x0c\\x92\\xb9branch:to:expensive_node2\\xc0',\n",
       "   1750051821.612292)},\n",
       " ('__pregel_ns_writes',\n",
       "  '__main__.expensive_node2',\n",
       "  'expensive_node2'): {'8f152a5b6c4a173c478b25f2cc993866': ('msgpack',\n",
       "   b'\\xc7\\x1e\\x00\\x93\\xabcollections\\xa5deque\\x91\\x92\\xa6result\\xcc\\xa0',\n",
       "   1750051733.616265)}}"
      ]
     },
     "execution_count": 62,
     "metadata": {},
     "output_type": "execute_result"
    }
   ],
   "source": [
    "cache._cache"
   ]
  },
  {
   "cell_type": "code",
   "execution_count": 66,
   "id": "30af6c02",
   "metadata": {},
   "outputs": [],
   "source": [
    "cache.clear(namespaces={\n",
    "    ('__pregel_ns_writes',\n",
    "  '__main__.expensive_node',\n",
    "  'expensive_node')\n",
    "}\n",
    ")"
   ]
  },
  {
   "cell_type": "code",
   "execution_count": 69,
   "id": "a8ac571d",
   "metadata": {},
   "outputs": [],
   "source": [
    "cache.clear(namespaces={\n",
    "    ('__pregel_ns_writes',\n",
    "  '__main__.expensive_node2',\n",
    "  'expensive_node2')\n",
    "})"
   ]
  },
  {
   "cell_type": "code",
   "execution_count": 70,
   "id": "6e0c583a",
   "metadata": {},
   "outputs": [
    {
     "name": "stdout",
     "output_type": "stream",
     "text": [
      "[{'expensive_node': {'result': 12}, '__metadata__': {'cached': True}}, {'expensive_node2': {'result': 160}}]\n"
     ]
    }
   ],
   "source": [
    "print(graph.invoke({\"x\": 6,\"y\": 8}, stream_mode=\"updates\"))"
   ]
  },
  {
   "cell_type": "code",
   "execution_count": null,
   "id": "6675a700",
   "metadata": {},
   "outputs": [],
   "source": []
  }
 ],
 "metadata": {
  "kernelspec": {
   "display_name": "Python 3",
   "language": "python",
   "name": "python3"
  },
  "language_info": {
   "codemirror_mode": {
    "name": "ipython",
    "version": 3
   },
   "file_extension": ".py",
   "mimetype": "text/x-python",
   "name": "python",
   "nbconvert_exporter": "python",
   "pygments_lexer": "ipython3",
   "version": "3.11.11"
  }
 },
 "nbformat": 4,
 "nbformat_minor": 5
}
