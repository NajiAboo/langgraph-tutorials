{
 "cells": [
  {
   "cell_type": "markdown",
   "metadata": {},
   "source": [
    "# Recursion Limit\n",
    "### - The recursion limit sets the maximum number of super-steps the graph can execute during a single execution\n",
    "### - Once its reaches the limit it will raise as error , GraphRecursionError\n",
    "### - By default the recursion limit 25 steps\n"
   ]
  },
  {
   "cell_type": "markdown",
   "metadata": {},
   "source": []
  },
  {
   "cell_type": "code",
   "execution_count": 12,
   "metadata": {},
   "outputs": [],
   "source": [
    "import operator\n",
    "from typing import Annotated, Any\n",
    "\n",
    "from typing_extensions import TypedDict\n",
    "\n",
    "from langgraph.graph import StateGraph, START, END\n",
    "\n",
    "\n",
    "class State(TypedDict):\n",
    "    # The operator.add reducer fn makes this append-only\n",
    "    aggregate: Annotated[list, operator.add]\n",
    "\n",
    "\n",
    "def node_a(state):\n",
    "    return {\"aggregate\": [\"I'm A\"]}\n",
    "\n",
    "\n",
    "def node_b(state):\n",
    "    return {\"aggregate\": [\"I'm B\"]}\n",
    "\n",
    "\n",
    "def node_c(state):\n",
    "    return {\"aggregate\": [\"I'm C\"]}\n",
    "\n",
    "\n",
    "def node_d(state):\n",
    "    return {\"aggregate\": [\"I'm D\"]}\n",
    "\n",
    "\n",
    "builder = StateGraph(State)\n",
    "builder.add_node(\"a\", node_a)\n",
    "builder.add_edge(START, \"a\")\n",
    "builder.add_node(\"b\", node_b)\n",
    "builder.add_node(\"c\", node_c)\n",
    "builder.add_node(\"d\", node_d)\n",
    "builder.add_edge(\"a\", \"b\")\n",
    "builder.add_edge(\"a\", \"c\")\n",
    "builder.add_edge(\"b\", \"d\")\n",
    "builder.add_edge(\"c\", \"d\")\n",
    "builder.add_edge(\"d\", END)\n",
    "graph = builder.compile()"
   ]
  },
  {
   "cell_type": "code",
   "execution_count": 13,
   "metadata": {},
   "outputs": [
    {
     "data": {
      "image/png": "[encoded data removed]",
      "text/plain": [
       "<IPython.core.display.Image object>"
      ]
     },
     "metadata": {},
     "output_type": "display_data"
    }
   ],
   "source": [
    "from IPython.display import Image, display\n",
    "\n",
    "display(Image(graph.get_graph().draw_mermaid_png()))"
   ]
  },
  {
   "cell_type": "code",
   "execution_count": 15,
   "metadata": {},
   "outputs": [
    {
     "name": "stdout",
     "output_type": "stream",
     "text": [
      "Execution done successfully\n"
     ]
    }
   ],
   "source": [
    "from langgraph.errors import GraphRecursionError\n",
    "\n",
    "try:\n",
    "    graph.invoke({\"aggregate\": []}, {\"recursion_limit\": 4})\n",
    "    print(\"Execution done successfully\")\n",
    "except GraphRecursionError:\n",
    "    print(\"Recursion Error\")"
   ]
  },
  {
   "cell_type": "markdown",
   "metadata": {},
   "source": [
    "## How to return state before hitting recursion limit"
   ]
  },
  {
   "cell_type": "code",
   "execution_count": null,
   "metadata": {},
   "outputs": [],
   "source": []
  },
  {
   "cell_type": "code",
   "execution_count": 19,
   "metadata": {},
   "outputs": [],
   "source": [
    "from typing_extensions import TypedDict\n",
    "from langgraph.graph import StateGraph\n",
    "from langgraph.graph import START, END\n",
    "\n",
    "\n",
    "class State(TypedDict):\n",
    "    value: str\n",
    "    action_result: str\n",
    "    count: int\n",
    "\n",
    "\n",
    "def router(state: State):\n",
    "    if state[\"value\"] == \"end\":\n",
    "        return END\n",
    "    else:\n",
    "        return \"action\"\n",
    "\n",
    "\n",
    "def decision_node(state):\n",
    "    count = state[\"count\"] + 1\n",
    "    print(f\"count : {count}\")\n",
    "\n",
    "    return {\"value\": \"keep going!\", \"count\": count}\n",
    "\n",
    "\n",
    "def action_node(state: State):\n",
    "    # Do your action here ...\n",
    "    count = state[\"count\"] + 1\n",
    "    print(f\"count : {count}\")\n",
    "    return {\"action_result\": f\"what a great result!\", \"count\": count}\n",
    "\n",
    "\n",
    "workflow = StateGraph(State)\n",
    "workflow.add_node(\"decision\", decision_node)\n",
    "workflow.add_node(\"action\", action_node)\n",
    "workflow.add_edge(START, \"decision\")\n",
    "workflow.add_conditional_edges(\"decision\", router, [\"action\", END])\n",
    "workflow.add_edge(\"action\", \"decision\")\n",
    "app = workflow.compile()"
   ]
  },
  {
   "cell_type": "code",
   "execution_count": 17,
   "metadata": {},
   "outputs": [
    {
     "data": {
      "image/png": "[encoded data removed]",
      "text/plain": [
       "<IPython.core.display.Image object>"
      ]
     },
     "metadata": {},
     "output_type": "display_data"
    }
   ],
   "source": [
    "from IPython.display import Image, display\n",
    "\n",
    "display(Image(app.get_graph().draw_mermaid_png()))"
   ]
  },
  {
   "cell_type": "code",
   "execution_count": 20,
   "metadata": {},
   "outputs": [
    {
     "name": "stdout",
     "output_type": "stream",
     "text": [
      "count : 1\n",
      "count : 2\n",
      "count : 3\n",
      "count : 4\n",
      "count : 5\n",
      "count : 6\n",
      "count : 7\n",
      "count : 8\n",
      "count : 9\n",
      "count : 10\n",
      "count : 11\n",
      "count : 12\n",
      "count : 13\n",
      "count : 14\n",
      "count : 15\n",
      "count : 16\n",
      "count : 17\n",
      "count : 18\n",
      "count : 19\n",
      "count : 20\n",
      "count : 21\n",
      "count : 22\n",
      "count : 23\n",
      "count : 24\n",
      "count : 25\n",
      "Recursion Error\n"
     ]
    }
   ],
   "source": [
    "from langgraph.errors import GraphRecursionError\n",
    "\n",
    "try:\n",
    "    app.invoke({\"value\": \"hi!\", \"count\": 0})\n",
    "except GraphRecursionError:\n",
    "    print(\"Recursion Error\")"
   ]
  },
  {
   "cell_type": "code",
   "execution_count": null,
   "metadata": {},
   "outputs": [],
   "source": []
  },
  {
   "cell_type": "code",
   "execution_count": 24,
   "metadata": {},
   "outputs": [],
   "source": [
    "from typing_extensions import TypedDict\n",
    "from langgraph.graph import StateGraph\n",
    "from typing import Annotated\n",
    "\n",
    "from langgraph.managed.is_last_step import RemainingSteps\n",
    "\n",
    "\n",
    "class State(TypedDict):\n",
    "    value: str\n",
    "    action_result: str\n",
    "    remaining_steps: RemainingSteps\n",
    "    count: int\n",
    "\n",
    "\n",
    "def router(state: State):\n",
    "    # Force the agent to end\n",
    "    if state[\"remaining_steps\"] <= 2:\n",
    "        return END\n",
    "    if state[\"value\"] == \"end\":\n",
    "        return END\n",
    "    else:\n",
    "        return \"action\"\n",
    "\n",
    "\n",
    "def decision_node(state):\n",
    "    count = state[\"count\"] + 1\n",
    "    return {\"value\": \"keep going!\", \"count\": count}\n",
    "\n",
    "\n",
    "def action_node(state: State):\n",
    "    # Do your action here ...\n",
    "    count = state[\"count\"] + 1\n",
    "    return {\"action_result\": f\"what a great result! {count}\", \"count\": count}\n",
    "\n",
    "\n",
    "workflow = StateGraph(State)\n",
    "workflow.add_node(\"decision\", decision_node)\n",
    "workflow.add_node(\"action\", action_node)\n",
    "workflow.add_edge(START, \"decision\")\n",
    "workflow.add_conditional_edges(\"decision\", router, [\"action\", END])\n",
    "workflow.add_edge(\"action\", \"decision\")\n",
    "app = workflow.compile()"
   ]
  },
  {
   "cell_type": "code",
   "execution_count": 25,
   "metadata": {},
   "outputs": [
    {
     "data": {
      "text/plain": [
       "{'value': 'keep going!',\n",
       " 'action_result': 'what a great result! 22',\n",
       " 'count': 23}"
      ]
     },
     "execution_count": 25,
     "metadata": {},
     "output_type": "execute_result"
    }
   ],
   "source": [
    "app.invoke({\"value\": \"hi!\", \"count\": 0})"
   ]
  },
  {
   "cell_type": "markdown",
   "metadata": {},
   "source": []
  }
 ],
 "metadata": {
  "kernelspec": {
   "display_name": "test",
   "language": "python",
   "name": "python3"
  },
  "language_info": {
   "codemirror_mode": {
    "name": "ipython",
    "version": 3
   },
   "file_extension": ".py",
   "mimetype": "text/x-python",
   "name": "python",
   "nbconvert_exporter": "python",
   "pygments_lexer": "ipython3",
   "version": "3.10.15"
  }
 },
 "nbformat": 4,
 "nbformat_minor": 2
}
