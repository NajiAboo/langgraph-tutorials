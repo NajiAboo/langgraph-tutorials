{
 "cells": [
  {
   "cell_type": "markdown",
   "id": "e71c3866",
   "metadata": {},
   "source": [
    "# Human's in the loop"
   ]
  },
  {
   "cell_type": "code",
   "execution_count": 2,
   "id": "b9f472b9",
   "metadata": {},
   "outputs": [],
   "source": [
    "from langgraph.checkpoint.memory import InMemorySaver\n",
    "from langgraph.types import interrupt\n",
    "from langgraph.prebuilt import create_react_agent"
   ]
  },
  {
   "cell_type": "code",
   "execution_count": 3,
   "id": "514c8da0",
   "metadata": {},
   "outputs": [],
   "source": [
    "def book_hote(hotel_name: str):\n",
    "    \"\"\" Book a hote\"\"\"\n",
    "    response = interrupt(\n",
    "        f\"Trying to call book hote with args {{'hotel_name' : {hotel_name}}}\"\n",
    "        \"Please approve or suggests edits\"\n",
    "    )\n",
    "    if response['type'] == 'accept':\n",
    "        pass\n",
    "    elif response['type'] == 'edit':\n",
    "            hotel_name = response[\"args\"][\"hotel_name\"]\n",
    "    else:\n",
    "         raise ValueError(f\"Unknown type\")\n",
    "\n",
    "    return f\" Successfully booked a stay at {hotel_name}\"\n",
    "\n"
   ]
  },
  {
   "cell_type": "code",
   "execution_count": 4,
   "id": "15cd6c44",
   "metadata": {},
   "outputs": [],
   "source": [
    "checkpointer = InMemorySaver()"
   ]
  },
  {
   "cell_type": "code",
   "execution_count": 5,
   "id": "431f0dc4",
   "metadata": {},
   "outputs": [],
   "source": [
    "agent = create_react_agent(\n",
    "    model=\"openai:gpt-4o\",\n",
    "    tools=[book_hote],\n",
    "    checkpointer=checkpointer\n",
    ")"
   ]
  },
  {
   "cell_type": "code",
   "execution_count": 6,
   "id": "e5d90088",
   "metadata": {},
   "outputs": [],
   "source": [
    "config = {\n",
    "    \"configurable\": {\n",
    "        \"thread_id\": 1\n",
    "    }\n",
    "}"
   ]
  },
  {
   "cell_type": "code",
   "execution_count": 13,
   "id": "a252fb7a",
   "metadata": {},
   "outputs": [
    {
     "name": "stdout",
     "output_type": "stream",
     "text": [
      "{'agent': {'messages': [AIMessage(content='', additional_kwargs={'tool_calls': [{'id': 'call_lNeCJMa0UP09WwKub36cY4pE', 'function': {'arguments': '{\"hotel_name\":\"ABC hote\"}', 'name': 'book_hote'}, 'type': 'function'}], 'refusal': None}, response_metadata={'token_usage': {'completion_tokens': 18, 'prompt_tokens': 179, 'total_tokens': 197, 'completion_tokens_details': {'accepted_prediction_tokens': 0, 'audio_tokens': 0, 'reasoning_tokens': 0, 'rejected_prediction_tokens': 0}, 'prompt_tokens_details': {'audio_tokens': 0, 'cached_tokens': 0}}, 'model_name': 'gpt-4o-2024-08-06', 'system_fingerprint': 'fp_a288987b44', 'id': 'chatcmpl-BjP0vkjs8Xpsv73pupiQW7MZ2ow3N', 'finish_reason': 'tool_calls', 'logprobs': None}, id='run--1898a467-46e4-4522-a33b-3c227e59de2f-0', tool_calls=[{'name': 'book_hote', 'args': {'hotel_name': 'ABC hote'}, 'id': 'call_lNeCJMa0UP09WwKub36cY4pE', 'type': 'tool_call'}], usage_metadata={'input_tokens': 179, 'output_tokens': 18, 'total_tokens': 197, 'input_token_details': {'audio': 0, 'cache_read': 0}, 'output_token_details': {'audio': 0, 'reasoning': 0}})]}}\n",
      "\n",
      "\n",
      "{'__interrupt__': (Interrupt(value=\"Trying to call book hote with args {'hotel_name' : ABC hote}Please approve or suggests edits\", resumable=True, ns=['tools:b3f4ed5b-15ae-ca65-4e70-4114ebb693c8']),)}\n",
      "\n",
      "\n"
     ]
    }
   ],
   "source": [
    "for chunk in agent.stream(\n",
    "    {\"messages\": [{\"role\": \"user\", \"content\": \"Book a stay at ABC hote\"}]}, \n",
    "    config=config\n",
    "):\n",
    "    print(chunk)\n",
    "    print(\"\\n\")"
   ]
  },
  {
   "cell_type": "code",
   "execution_count": 12,
   "id": "1c6ba66a",
   "metadata": {},
   "outputs": [
    {
     "name": "stdout",
     "output_type": "stream",
     "text": [
      "{'tools': {'messages': [ToolMessage(content=' Successfully booked a stay at ABC hote', name='book_hote', id='7e38a7ea-6251-44c5-ab65-ca19d88be367', tool_call_id='call_U8i8hjpqiZVFQ0mWyJjO4FW7')]}}\n",
      "\n",
      "\n",
      "{'agent': {'messages': [AIMessage(content='Your stay at ABC hote has been successfully booked. If you need further assistance, feel free to ask!', additional_kwargs={'refusal': None}, response_metadata={'token_usage': {'completion_tokens': 23, 'prompt_tokens': 142, 'total_tokens': 165, 'completion_tokens_details': {'accepted_prediction_tokens': 0, 'audio_tokens': 0, 'reasoning_tokens': 0, 'rejected_prediction_tokens': 0}, 'prompt_tokens_details': {'audio_tokens': 0, 'cached_tokens': 0}}, 'model_name': 'gpt-4o-2024-08-06', 'system_fingerprint': 'fp_a288987b44', 'id': 'chatcmpl-BjOzLuzJGJPskAxgrTAjvpgv2akqK', 'finish_reason': 'stop', 'logprobs': None}, id='run--50e8fe7a-fdcf-49cb-a308-ab7b5b3d649c-0', usage_metadata={'input_tokens': 142, 'output_tokens': 23, 'total_tokens': 165, 'input_token_details': {'audio': 0, 'cache_read': 0}, 'output_token_details': {'audio': 0, 'reasoning': 0}})]}}\n",
      "\n",
      "\n"
     ]
    }
   ],
   "source": [
    "from langgraph.types import Command\n",
    "\n",
    "for chunk in agent.stream(\n",
    "    Command(resume={\"type\": \"accept\"}),\n",
    "    config=config\n",
    "):\n",
    "    print(chunk)\n",
    "    print(\"\\n\")"
   ]
  },
  {
   "cell_type": "code",
   "execution_count": 14,
   "id": "f4acf357",
   "metadata": {},
   "outputs": [
    {
     "name": "stdout",
     "output_type": "stream",
     "text": [
      "{'tools': {'messages': [ToolMessage(content=' Successfully booked a stay at XYZ', name='book_hote', id='f75ae292-de6e-4d18-a25a-96c811049c87', tool_call_id='call_lNeCJMa0UP09WwKub36cY4pE')]}}\n",
      "\n",
      "\n",
      "{'agent': {'messages': [AIMessage(content='Your stay at XYZ has been successfully booked. If you intended to book at \"ABC hote,\" please let me know so I can correct it.', additional_kwargs={'refusal': None}, response_metadata={'token_usage': {'completion_tokens': 31, 'prompt_tokens': 212, 'total_tokens': 243, 'completion_tokens_details': {'accepted_prediction_tokens': 0, 'audio_tokens': 0, 'reasoning_tokens': 0, 'rejected_prediction_tokens': 0}, 'prompt_tokens_details': {'audio_tokens': 0, 'cached_tokens': 0}}, 'model_name': 'gpt-4o-2024-08-06', 'system_fingerprint': 'fp_a288987b44', 'id': 'chatcmpl-BjP12mjOMq8LMBTnNhrTlfOjcwMfZ', 'finish_reason': 'stop', 'logprobs': None}, id='run--2a378767-3062-4c42-9aa5-1d0f98bb4f81-0', usage_metadata={'input_tokens': 212, 'output_tokens': 31, 'total_tokens': 243, 'input_token_details': {'audio': 0, 'cache_read': 0}, 'output_token_details': {'audio': 0, 'reasoning': 0}})]}}\n",
      "\n",
      "\n"
     ]
    }
   ],
   "source": [
    "from langgraph.types import Command\n",
    "\n",
    "for chunk in agent.stream(\n",
    "    Command(resume={\"type\": \"edit\", \"args\": {\"hotel_name\": \"XYZ\"}}),\n",
    "    config=config\n",
    "):\n",
    "    print(chunk)\n",
    "    print(\"\\n\")"
   ]
  },
  {
   "cell_type": "code",
   "execution_count": null,
   "id": "7d150afa",
   "metadata": {},
   "outputs": [],
   "source": []
  }
 ],
 "metadata": {
  "kernelspec": {
   "display_name": "Python 3",
   "language": "python",
   "name": "python3"
  },
  "language_info": {
   "codemirror_mode": {
    "name": "ipython",
    "version": 3
   },
   "file_extension": ".py",
   "mimetype": "text/x-python",
   "name": "python",
   "nbconvert_exporter": "python",
   "pygments_lexer": "ipython3",
   "version": "3.11.11"
  }
 },
 "nbformat": 4,
 "nbformat_minor": 5
}
