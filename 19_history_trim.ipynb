{
 "cells": [
  {
   "cell_type": "code",
   "execution_count": 40,
   "id": "ba1d470d",
   "metadata": {},
   "outputs": [],
   "source": [
    "from langchain_core.messages.utils import(\n",
    "    trim_messages,\n",
    "    count_tokens_approximately\n",
    ")"
   ]
  },
  {
   "cell_type": "code",
   "execution_count": 41,
   "id": "d88f6721",
   "metadata": {},
   "outputs": [],
   "source": [
    "from langchain.chat_models import init_chat_model\n",
    "from langgraph.graph import StateGraph, START, MessagesState"
   ]
  },
  {
   "cell_type": "code",
   "execution_count": 42,
   "id": "3d38c71e",
   "metadata": {},
   "outputs": [],
   "source": [
    "model = init_chat_model(\"gpt-4o\")"
   ]
  },
  {
   "cell_type": "code",
   "execution_count": 43,
   "id": "60f37656",
   "metadata": {},
   "outputs": [],
   "source": [
    "trim_model = model.bind(max_tokens=128)"
   ]
  },
  {
   "cell_type": "code",
   "execution_count": 44,
   "id": "519733c5",
   "metadata": {},
   "outputs": [],
   "source": [
    "def call_model(state: MessagesState):\n",
    "    messages = trim_messages(\n",
    "        state[\"messages\"],\n",
    "        strategy=\"last\",\n",
    "        token_counter=count_tokens_approximately,\n",
    "        max_tokens=1280,\n",
    "        start_on=\"human\",\n",
    "        end_on=[\"human\", 'tool']\n",
    "    )\n",
    "\n",
    "    print(f\"trimmed messages {messages}\")\n",
    "    response = model.invoke(messages)\n",
    "    return {\"messages\": [response]}\n",
    "\n",
    "\n"
   ]
  },
  {
   "cell_type": "code",
   "execution_count": 45,
   "id": "71f16795",
   "metadata": {},
   "outputs": [],
   "source": [
    "from langgraph.checkpoint.memory import InMemorySaver\n",
    "checkpointer = InMemorySaver()"
   ]
  },
  {
   "cell_type": "code",
   "execution_count": 46,
   "id": "e3f2d93f",
   "metadata": {},
   "outputs": [],
   "source": [
    "config = {\n",
    "    \"configurable\": {\n",
    "        \"thread_id\": 1\n",
    "    }\n",
    "}"
   ]
  },
  {
   "cell_type": "code",
   "execution_count": 47,
   "id": "a6cb47d2",
   "metadata": {},
   "outputs": [],
   "source": [
    "builder = StateGraph(MessagesState)\n",
    "builder.add_node(call_model)\n",
    "builder.add_edge(START, \"call_model\")\n",
    "graph = builder.compile(checkpointer=checkpointer)"
   ]
  },
  {
   "cell_type": "code",
   "execution_count": 48,
   "id": "6f03058b",
   "metadata": {},
   "outputs": [
    {
     "name": "stdout",
     "output_type": "stream",
     "text": [
      "trimmed messages [HumanMessage(content='Hi, I am Naji', additional_kwargs={}, response_metadata={}, id='e5c11cad-c086-4086-93de-aac133097f82')]\n"
     ]
    },
    {
     "data": {
      "text/plain": [
       "{'messages': [HumanMessage(content='Hi, I am Naji', additional_kwargs={}, response_metadata={}, id='e5c11cad-c086-4086-93de-aac133097f82'),\n",
       "  AIMessage(content='Hello Naji! How can I assist you today?', additional_kwargs={'refusal': None}, response_metadata={'token_usage': {'completion_tokens': 11, 'prompt_tokens': 13, 'total_tokens': 24, 'completion_tokens_details': {'accepted_prediction_tokens': 0, 'audio_tokens': 0, 'reasoning_tokens': 0, 'rejected_prediction_tokens': 0}, 'prompt_tokens_details': {'audio_tokens': 0, 'cached_tokens': 0}}, 'model_name': 'gpt-4o-2024-08-06', 'system_fingerprint': 'fp_a288987b44', 'id': 'chatcmpl-BahVv4DUGEX2atQd6YpYcfMDkLoNN', 'finish_reason': 'stop', 'logprobs': None}, id='run-2612e1c9-2beb-49df-ae3c-6468982a7f89-0', usage_metadata={'input_tokens': 13, 'output_tokens': 11, 'total_tokens': 24, 'input_token_details': {'audio': 0, 'cache_read': 0}, 'output_token_details': {'audio': 0, 'reasoning': 0}})]}"
      ]
     },
     "execution_count": 48,
     "metadata": {},
     "output_type": "execute_result"
    }
   ],
   "source": [
    "graph.invoke({\"messages\": \"Hi, I am Naji\"}, config=config)"
   ]
  },
  {
   "cell_type": "code",
   "execution_count": 49,
   "id": "3615e462",
   "metadata": {},
   "outputs": [
    {
     "name": "stdout",
     "output_type": "stream",
     "text": [
      "trimmed messages [HumanMessage(content='Hi, I am Naji', additional_kwargs={}, response_metadata={}, id='e5c11cad-c086-4086-93de-aac133097f82'), AIMessage(content='Hello Naji! How can I assist you today?', additional_kwargs={'refusal': None}, response_metadata={'token_usage': {'completion_tokens': 11, 'prompt_tokens': 13, 'total_tokens': 24, 'completion_tokens_details': {'accepted_prediction_tokens': 0, 'audio_tokens': 0, 'reasoning_tokens': 0, 'rejected_prediction_tokens': 0}, 'prompt_tokens_details': {'audio_tokens': 0, 'cached_tokens': 0}}, 'model_name': 'gpt-4o-2024-08-06', 'system_fingerprint': 'fp_a288987b44', 'id': 'chatcmpl-BahVv4DUGEX2atQd6YpYcfMDkLoNN', 'finish_reason': 'stop', 'logprobs': None}, id='run-2612e1c9-2beb-49df-ae3c-6468982a7f89-0', usage_metadata={'input_tokens': 13, 'output_tokens': 11, 'total_tokens': 24, 'input_token_details': {'audio': 0, 'cache_read': 0}, 'output_token_details': {'audio': 0, 'reasoning': 0}}), HumanMessage(content='Write a short poem about cats', additional_kwargs={}, response_metadata={}, id='3c822f40-f910-49b8-81d5-7e1f6282d406')]\n"
     ]
    },
    {
     "data": {
      "text/plain": [
       "{'messages': [HumanMessage(content='Hi, I am Naji', additional_kwargs={}, response_metadata={}, id='e5c11cad-c086-4086-93de-aac133097f82'),\n",
       "  AIMessage(content='Hello Naji! How can I assist you today?', additional_kwargs={'refusal': None}, response_metadata={'token_usage': {'completion_tokens': 11, 'prompt_tokens': 13, 'total_tokens': 24, 'completion_tokens_details': {'accepted_prediction_tokens': 0, 'audio_tokens': 0, 'reasoning_tokens': 0, 'rejected_prediction_tokens': 0}, 'prompt_tokens_details': {'audio_tokens': 0, 'cached_tokens': 0}}, 'model_name': 'gpt-4o-2024-08-06', 'system_fingerprint': 'fp_a288987b44', 'id': 'chatcmpl-BahVv4DUGEX2atQd6YpYcfMDkLoNN', 'finish_reason': 'stop', 'logprobs': None}, id='run-2612e1c9-2beb-49df-ae3c-6468982a7f89-0', usage_metadata={'input_tokens': 13, 'output_tokens': 11, 'total_tokens': 24, 'input_token_details': {'audio': 0, 'cache_read': 0}, 'output_token_details': {'audio': 0, 'reasoning': 0}}),\n",
       "  HumanMessage(content='Write a short poem about cats', additional_kwargs={}, response_metadata={}, id='3c822f40-f910-49b8-81d5-7e1f6282d406'),\n",
       "  AIMessage(content='In the quiet of the moonlit night,  \\nGraceful shadows take their flight,  \\nWhiskers twitch and tails sway,  \\nFeline charm in soft display.  \\n\\nEmerald eyes in twilight gleam,  \\nProwling softly like a dream,  \\nPaws that dance on silent floors,  \\nMystery walks on velvet shores.  \\n\\nA playful leap, a gentle purr,  \\nIn their world, no need to stir,  \\nCurled up warm in cozy nooks,  \\nSilent sages, unread books.  \\n\\nOh, the stories they must know,  \\nIn their gaze, a secret glow,  \\nCats, the keepers of the night,  \\nSilent whispers in the light.', additional_kwargs={'refusal': None}, response_metadata={'token_usage': {'completion_tokens': 141, 'prompt_tokens': 38, 'total_tokens': 179, 'completion_tokens_details': {'accepted_prediction_tokens': 0, 'audio_tokens': 0, 'reasoning_tokens': 0, 'rejected_prediction_tokens': 0}, 'prompt_tokens_details': {'audio_tokens': 0, 'cached_tokens': 0}}, 'model_name': 'gpt-4o-2024-08-06', 'system_fingerprint': 'fp_07871e2ad8', 'id': 'chatcmpl-BahVwPLdineVoc459oNh9RT5J9vUV', 'finish_reason': 'stop', 'logprobs': None}, id='run-d0eb808d-8c90-45cf-8328-7d8b816b3ae8-0', usage_metadata={'input_tokens': 38, 'output_tokens': 141, 'total_tokens': 179, 'input_token_details': {'audio': 0, 'cache_read': 0}, 'output_token_details': {'audio': 0, 'reasoning': 0}})]}"
      ]
     },
     "execution_count": 49,
     "metadata": {},
     "output_type": "execute_result"
    }
   ],
   "source": [
    "graph.invoke({'messages': \"Write a short poem about cats\"}, config=config)"
   ]
  },
  {
   "cell_type": "code",
   "execution_count": 50,
   "id": "88f7340c",
   "metadata": {},
   "outputs": [
    {
     "name": "stdout",
     "output_type": "stream",
     "text": [
      "trimmed messages [HumanMessage(content='Hi, I am Naji', additional_kwargs={}, response_metadata={}, id='e5c11cad-c086-4086-93de-aac133097f82'), AIMessage(content='Hello Naji! How can I assist you today?', additional_kwargs={'refusal': None}, response_metadata={'token_usage': {'completion_tokens': 11, 'prompt_tokens': 13, 'total_tokens': 24, 'completion_tokens_details': {'accepted_prediction_tokens': 0, 'audio_tokens': 0, 'reasoning_tokens': 0, 'rejected_prediction_tokens': 0}, 'prompt_tokens_details': {'audio_tokens': 0, 'cached_tokens': 0}}, 'model_name': 'gpt-4o-2024-08-06', 'system_fingerprint': 'fp_a288987b44', 'id': 'chatcmpl-BahVv4DUGEX2atQd6YpYcfMDkLoNN', 'finish_reason': 'stop', 'logprobs': None}, id='run-2612e1c9-2beb-49df-ae3c-6468982a7f89-0', usage_metadata={'input_tokens': 13, 'output_tokens': 11, 'total_tokens': 24, 'input_token_details': {'audio': 0, 'cache_read': 0}, 'output_token_details': {'audio': 0, 'reasoning': 0}}), HumanMessage(content='Write a short poem about cats', additional_kwargs={}, response_metadata={}, id='3c822f40-f910-49b8-81d5-7e1f6282d406'), AIMessage(content='In the quiet of the moonlit night,  \\nGraceful shadows take their flight,  \\nWhiskers twitch and tails sway,  \\nFeline charm in soft display.  \\n\\nEmerald eyes in twilight gleam,  \\nProwling softly like a dream,  \\nPaws that dance on silent floors,  \\nMystery walks on velvet shores.  \\n\\nA playful leap, a gentle purr,  \\nIn their world, no need to stir,  \\nCurled up warm in cozy nooks,  \\nSilent sages, unread books.  \\n\\nOh, the stories they must know,  \\nIn their gaze, a secret glow,  \\nCats, the keepers of the night,  \\nSilent whispers in the light.', additional_kwargs={'refusal': None}, response_metadata={'token_usage': {'completion_tokens': 141, 'prompt_tokens': 38, 'total_tokens': 179, 'completion_tokens_details': {'accepted_prediction_tokens': 0, 'audio_tokens': 0, 'reasoning_tokens': 0, 'rejected_prediction_tokens': 0}, 'prompt_tokens_details': {'audio_tokens': 0, 'cached_tokens': 0}}, 'model_name': 'gpt-4o-2024-08-06', 'system_fingerprint': 'fp_07871e2ad8', 'id': 'chatcmpl-BahVwPLdineVoc459oNh9RT5J9vUV', 'finish_reason': 'stop', 'logprobs': None}, id='run-d0eb808d-8c90-45cf-8328-7d8b816b3ae8-0', usage_metadata={'input_tokens': 38, 'output_tokens': 141, 'total_tokens': 179, 'input_token_details': {'audio': 0, 'cache_read': 0}, 'output_token_details': {'audio': 0, 'reasoning': 0}}), HumanMessage(content='now dot the same but for dogs', additional_kwargs={}, response_metadata={}, id='50ad098b-a67e-47ad-a708-570f5ae0296e')]\n"
     ]
    },
    {
     "data": {
      "text/plain": [
       "{'messages': [HumanMessage(content='Hi, I am Naji', additional_kwargs={}, response_metadata={}, id='e5c11cad-c086-4086-93de-aac133097f82'),\n",
       "  AIMessage(content='Hello Naji! How can I assist you today?', additional_kwargs={'refusal': None}, response_metadata={'token_usage': {'completion_tokens': 11, 'prompt_tokens': 13, 'total_tokens': 24, 'completion_tokens_details': {'accepted_prediction_tokens': 0, 'audio_tokens': 0, 'reasoning_tokens': 0, 'rejected_prediction_tokens': 0}, 'prompt_tokens_details': {'audio_tokens': 0, 'cached_tokens': 0}}, 'model_name': 'gpt-4o-2024-08-06', 'system_fingerprint': 'fp_a288987b44', 'id': 'chatcmpl-BahVv4DUGEX2atQd6YpYcfMDkLoNN', 'finish_reason': 'stop', 'logprobs': None}, id='run-2612e1c9-2beb-49df-ae3c-6468982a7f89-0', usage_metadata={'input_tokens': 13, 'output_tokens': 11, 'total_tokens': 24, 'input_token_details': {'audio': 0, 'cache_read': 0}, 'output_token_details': {'audio': 0, 'reasoning': 0}}),\n",
       "  HumanMessage(content='Write a short poem about cats', additional_kwargs={}, response_metadata={}, id='3c822f40-f910-49b8-81d5-7e1f6282d406'),\n",
       "  AIMessage(content='In the quiet of the moonlit night,  \\nGraceful shadows take their flight,  \\nWhiskers twitch and tails sway,  \\nFeline charm in soft display.  \\n\\nEmerald eyes in twilight gleam,  \\nProwling softly like a dream,  \\nPaws that dance on silent floors,  \\nMystery walks on velvet shores.  \\n\\nA playful leap, a gentle purr,  \\nIn their world, no need to stir,  \\nCurled up warm in cozy nooks,  \\nSilent sages, unread books.  \\n\\nOh, the stories they must know,  \\nIn their gaze, a secret glow,  \\nCats, the keepers of the night,  \\nSilent whispers in the light.', additional_kwargs={'refusal': None}, response_metadata={'token_usage': {'completion_tokens': 141, 'prompt_tokens': 38, 'total_tokens': 179, 'completion_tokens_details': {'accepted_prediction_tokens': 0, 'audio_tokens': 0, 'reasoning_tokens': 0, 'rejected_prediction_tokens': 0}, 'prompt_tokens_details': {'audio_tokens': 0, 'cached_tokens': 0}}, 'model_name': 'gpt-4o-2024-08-06', 'system_fingerprint': 'fp_07871e2ad8', 'id': 'chatcmpl-BahVwPLdineVoc459oNh9RT5J9vUV', 'finish_reason': 'stop', 'logprobs': None}, id='run-d0eb808d-8c90-45cf-8328-7d8b816b3ae8-0', usage_metadata={'input_tokens': 38, 'output_tokens': 141, 'total_tokens': 179, 'input_token_details': {'audio': 0, 'cache_read': 0}, 'output_token_details': {'audio': 0, 'reasoning': 0}}),\n",
       "  HumanMessage(content='now dot the same but for dogs', additional_kwargs={}, response_metadata={}, id='50ad098b-a67e-47ad-a708-570f5ae0296e'),\n",
       "  AIMessage(content='In the golden light of day,  \\nBounding hearts are at play,  \\nWagging tails and joyful barks,  \\nFriendship ignites, like sudden sparks.  \\n\\nUnderneath the sunny skies,  \\nDevotion beams from loving eyes,  \\nWet noses nuzzle with delight,  \\nIn their presence, all feels right.  \\n\\nChasing shadows, fetching dreams,  \\nRunning free by babbling streams,  \\nLoyal guardians, steadfast and true,  \\nBringing warmth in all they do.  \\n\\nOh, the stories they could tell,  \\nOf every scent, each grassy knell,  \\nDogs, companions through and through,  \\nEndless love in eyes of blue.', additional_kwargs={'refusal': None}, response_metadata={'token_usage': {'completion_tokens': 136, 'prompt_tokens': 194, 'total_tokens': 330, 'completion_tokens_details': {'accepted_prediction_tokens': 0, 'audio_tokens': 0, 'reasoning_tokens': 0, 'rejected_prediction_tokens': 0}, 'prompt_tokens_details': {'audio_tokens': 0, 'cached_tokens': 0}}, 'model_name': 'gpt-4o-2024-08-06', 'system_fingerprint': 'fp_a288987b44', 'id': 'chatcmpl-BahVzWH9JRG56nYGNblYW2LtjLamF', 'finish_reason': 'stop', 'logprobs': None}, id='run-a79356ac-b6af-4bf4-adbd-e1e3f1a67209-0', usage_metadata={'input_tokens': 194, 'output_tokens': 136, 'total_tokens': 330, 'input_token_details': {'audio': 0, 'cache_read': 0}, 'output_token_details': {'audio': 0, 'reasoning': 0}})]}"
      ]
     },
     "execution_count": 50,
     "metadata": {},
     "output_type": "execute_result"
    }
   ],
   "source": [
    "graph.invoke({'messages': \"now dot the same but for dogs\"}, config=config)"
   ]
  },
  {
   "cell_type": "code",
   "execution_count": 51,
   "id": "5bfc24dd",
   "metadata": {},
   "outputs": [
    {
     "name": "stdout",
     "output_type": "stream",
     "text": [
      "trimmed messages [HumanMessage(content='Hi, I am Naji', additional_kwargs={}, response_metadata={}, id='e5c11cad-c086-4086-93de-aac133097f82'), AIMessage(content='Hello Naji! How can I assist you today?', additional_kwargs={'refusal': None}, response_metadata={'token_usage': {'completion_tokens': 11, 'prompt_tokens': 13, 'total_tokens': 24, 'completion_tokens_details': {'accepted_prediction_tokens': 0, 'audio_tokens': 0, 'reasoning_tokens': 0, 'rejected_prediction_tokens': 0}, 'prompt_tokens_details': {'audio_tokens': 0, 'cached_tokens': 0}}, 'model_name': 'gpt-4o-2024-08-06', 'system_fingerprint': 'fp_a288987b44', 'id': 'chatcmpl-BahVv4DUGEX2atQd6YpYcfMDkLoNN', 'finish_reason': 'stop', 'logprobs': None}, id='run-2612e1c9-2beb-49df-ae3c-6468982a7f89-0', usage_metadata={'input_tokens': 13, 'output_tokens': 11, 'total_tokens': 24, 'input_token_details': {'audio': 0, 'cache_read': 0}, 'output_token_details': {'audio': 0, 'reasoning': 0}}), HumanMessage(content='Write a short poem about cats', additional_kwargs={}, response_metadata={}, id='3c822f40-f910-49b8-81d5-7e1f6282d406'), AIMessage(content='In the quiet of the moonlit night,  \\nGraceful shadows take their flight,  \\nWhiskers twitch and tails sway,  \\nFeline charm in soft display.  \\n\\nEmerald eyes in twilight gleam,  \\nProwling softly like a dream,  \\nPaws that dance on silent floors,  \\nMystery walks on velvet shores.  \\n\\nA playful leap, a gentle purr,  \\nIn their world, no need to stir,  \\nCurled up warm in cozy nooks,  \\nSilent sages, unread books.  \\n\\nOh, the stories they must know,  \\nIn their gaze, a secret glow,  \\nCats, the keepers of the night,  \\nSilent whispers in the light.', additional_kwargs={'refusal': None}, response_metadata={'token_usage': {'completion_tokens': 141, 'prompt_tokens': 38, 'total_tokens': 179, 'completion_tokens_details': {'accepted_prediction_tokens': 0, 'audio_tokens': 0, 'reasoning_tokens': 0, 'rejected_prediction_tokens': 0}, 'prompt_tokens_details': {'audio_tokens': 0, 'cached_tokens': 0}}, 'model_name': 'gpt-4o-2024-08-06', 'system_fingerprint': 'fp_07871e2ad8', 'id': 'chatcmpl-BahVwPLdineVoc459oNh9RT5J9vUV', 'finish_reason': 'stop', 'logprobs': None}, id='run-d0eb808d-8c90-45cf-8328-7d8b816b3ae8-0', usage_metadata={'input_tokens': 38, 'output_tokens': 141, 'total_tokens': 179, 'input_token_details': {'audio': 0, 'cache_read': 0}, 'output_token_details': {'audio': 0, 'reasoning': 0}}), HumanMessage(content='now dot the same but for dogs', additional_kwargs={}, response_metadata={}, id='50ad098b-a67e-47ad-a708-570f5ae0296e'), AIMessage(content='In the golden light of day,  \\nBounding hearts are at play,  \\nWagging tails and joyful barks,  \\nFriendship ignites, like sudden sparks.  \\n\\nUnderneath the sunny skies,  \\nDevotion beams from loving eyes,  \\nWet noses nuzzle with delight,  \\nIn their presence, all feels right.  \\n\\nChasing shadows, fetching dreams,  \\nRunning free by babbling streams,  \\nLoyal guardians, steadfast and true,  \\nBringing warmth in all they do.  \\n\\nOh, the stories they could tell,  \\nOf every scent, each grassy knell,  \\nDogs, companions through and through,  \\nEndless love in eyes of blue.', additional_kwargs={'refusal': None}, response_metadata={'token_usage': {'completion_tokens': 136, 'prompt_tokens': 194, 'total_tokens': 330, 'completion_tokens_details': {'accepted_prediction_tokens': 0, 'audio_tokens': 0, 'reasoning_tokens': 0, 'rejected_prediction_tokens': 0}, 'prompt_tokens_details': {'audio_tokens': 0, 'cached_tokens': 0}}, 'model_name': 'gpt-4o-2024-08-06', 'system_fingerprint': 'fp_a288987b44', 'id': 'chatcmpl-BahVzWH9JRG56nYGNblYW2LtjLamF', 'finish_reason': 'stop', 'logprobs': None}, id='run-a79356ac-b6af-4bf4-adbd-e1e3f1a67209-0', usage_metadata={'input_tokens': 194, 'output_tokens': 136, 'total_tokens': 330, 'input_token_details': {'audio': 0, 'cache_read': 0}, 'output_token_details': {'audio': 0, 'reasoning': 0}}), HumanMessage(content='who are you?', additional_kwargs={}, response_metadata={}, id='3fed9cb7-b49b-4455-91e6-f886f5bb4825')]\n"
     ]
    },
    {
     "data": {
      "text/plain": [
       "{'messages': [HumanMessage(content='Hi, I am Naji', additional_kwargs={}, response_metadata={}, id='e5c11cad-c086-4086-93de-aac133097f82'),\n",
       "  AIMessage(content='Hello Naji! How can I assist you today?', additional_kwargs={'refusal': None}, response_metadata={'token_usage': {'completion_tokens': 11, 'prompt_tokens': 13, 'total_tokens': 24, 'completion_tokens_details': {'accepted_prediction_tokens': 0, 'audio_tokens': 0, 'reasoning_tokens': 0, 'rejected_prediction_tokens': 0}, 'prompt_tokens_details': {'audio_tokens': 0, 'cached_tokens': 0}}, 'model_name': 'gpt-4o-2024-08-06', 'system_fingerprint': 'fp_a288987b44', 'id': 'chatcmpl-BahVv4DUGEX2atQd6YpYcfMDkLoNN', 'finish_reason': 'stop', 'logprobs': None}, id='run-2612e1c9-2beb-49df-ae3c-6468982a7f89-0', usage_metadata={'input_tokens': 13, 'output_tokens': 11, 'total_tokens': 24, 'input_token_details': {'audio': 0, 'cache_read': 0}, 'output_token_details': {'audio': 0, 'reasoning': 0}}),\n",
       "  HumanMessage(content='Write a short poem about cats', additional_kwargs={}, response_metadata={}, id='3c822f40-f910-49b8-81d5-7e1f6282d406'),\n",
       "  AIMessage(content='In the quiet of the moonlit night,  \\nGraceful shadows take their flight,  \\nWhiskers twitch and tails sway,  \\nFeline charm in soft display.  \\n\\nEmerald eyes in twilight gleam,  \\nProwling softly like a dream,  \\nPaws that dance on silent floors,  \\nMystery walks on velvet shores.  \\n\\nA playful leap, a gentle purr,  \\nIn their world, no need to stir,  \\nCurled up warm in cozy nooks,  \\nSilent sages, unread books.  \\n\\nOh, the stories they must know,  \\nIn their gaze, a secret glow,  \\nCats, the keepers of the night,  \\nSilent whispers in the light.', additional_kwargs={'refusal': None}, response_metadata={'token_usage': {'completion_tokens': 141, 'prompt_tokens': 38, 'total_tokens': 179, 'completion_tokens_details': {'accepted_prediction_tokens': 0, 'audio_tokens': 0, 'reasoning_tokens': 0, 'rejected_prediction_tokens': 0}, 'prompt_tokens_details': {'audio_tokens': 0, 'cached_tokens': 0}}, 'model_name': 'gpt-4o-2024-08-06', 'system_fingerprint': 'fp_07871e2ad8', 'id': 'chatcmpl-BahVwPLdineVoc459oNh9RT5J9vUV', 'finish_reason': 'stop', 'logprobs': None}, id='run-d0eb808d-8c90-45cf-8328-7d8b816b3ae8-0', usage_metadata={'input_tokens': 38, 'output_tokens': 141, 'total_tokens': 179, 'input_token_details': {'audio': 0, 'cache_read': 0}, 'output_token_details': {'audio': 0, 'reasoning': 0}}),\n",
       "  HumanMessage(content='now dot the same but for dogs', additional_kwargs={}, response_metadata={}, id='50ad098b-a67e-47ad-a708-570f5ae0296e'),\n",
       "  AIMessage(content='In the golden light of day,  \\nBounding hearts are at play,  \\nWagging tails and joyful barks,  \\nFriendship ignites, like sudden sparks.  \\n\\nUnderneath the sunny skies,  \\nDevotion beams from loving eyes,  \\nWet noses nuzzle with delight,  \\nIn their presence, all feels right.  \\n\\nChasing shadows, fetching dreams,  \\nRunning free by babbling streams,  \\nLoyal guardians, steadfast and true,  \\nBringing warmth in all they do.  \\n\\nOh, the stories they could tell,  \\nOf every scent, each grassy knell,  \\nDogs, companions through and through,  \\nEndless love in eyes of blue.', additional_kwargs={'refusal': None}, response_metadata={'token_usage': {'completion_tokens': 136, 'prompt_tokens': 194, 'total_tokens': 330, 'completion_tokens_details': {'accepted_prediction_tokens': 0, 'audio_tokens': 0, 'reasoning_tokens': 0, 'rejected_prediction_tokens': 0}, 'prompt_tokens_details': {'audio_tokens': 0, 'cached_tokens': 0}}, 'model_name': 'gpt-4o-2024-08-06', 'system_fingerprint': 'fp_a288987b44', 'id': 'chatcmpl-BahVzWH9JRG56nYGNblYW2LtjLamF', 'finish_reason': 'stop', 'logprobs': None}, id='run-a79356ac-b6af-4bf4-adbd-e1e3f1a67209-0', usage_metadata={'input_tokens': 194, 'output_tokens': 136, 'total_tokens': 330, 'input_token_details': {'audio': 0, 'cache_read': 0}, 'output_token_details': {'audio': 0, 'reasoning': 0}}),\n",
       "  HumanMessage(content='who are you?', additional_kwargs={}, response_metadata={}, id='3fed9cb7-b49b-4455-91e6-f886f5bb4825'),\n",
       "  AIMessage(content=\"I am an AI language model created by OpenAI, designed to assist with a wide range of queries by providing information and generating text based on your prompts. I'm here to help with answering questions, offering explanations, and even creating creative content. How can I assist you today?\", additional_kwargs={'refusal': None}, response_metadata={'token_usage': {'completion_tokens': 55, 'prompt_tokens': 342, 'total_tokens': 397, 'completion_tokens_details': {'accepted_prediction_tokens': 0, 'audio_tokens': 0, 'reasoning_tokens': 0, 'rejected_prediction_tokens': 0}, 'prompt_tokens_details': {'audio_tokens': 0, 'cached_tokens': 0}}, 'model_name': 'gpt-4o-2024-08-06', 'system_fingerprint': 'fp_a288987b44', 'id': 'chatcmpl-BahW12JlN9r6SlGejKCpbzxPgha7r', 'finish_reason': 'stop', 'logprobs': None}, id='run-988914fb-317a-4850-8e64-68c418254a66-0', usage_metadata={'input_tokens': 342, 'output_tokens': 55, 'total_tokens': 397, 'input_token_details': {'audio': 0, 'cache_read': 0}, 'output_token_details': {'audio': 0, 'reasoning': 0}})]}"
      ]
     },
     "execution_count": 51,
     "metadata": {},
     "output_type": "execute_result"
    }
   ],
   "source": [
    "graph.invoke({'messages': \"who are you?\"}, config=config)"
   ]
  },
  {
   "cell_type": "code",
   "execution_count": 52,
   "id": "609796e7",
   "metadata": {},
   "outputs": [
    {
     "name": "stdout",
     "output_type": "stream",
     "text": [
      "trimmed messages [HumanMessage(content='Hi, I am Naji', additional_kwargs={}, response_metadata={}, id='e5c11cad-c086-4086-93de-aac133097f82'), AIMessage(content='Hello Naji! How can I assist you today?', additional_kwargs={'refusal': None}, response_metadata={'token_usage': {'completion_tokens': 11, 'prompt_tokens': 13, 'total_tokens': 24, 'completion_tokens_details': {'accepted_prediction_tokens': 0, 'audio_tokens': 0, 'reasoning_tokens': 0, 'rejected_prediction_tokens': 0}, 'prompt_tokens_details': {'audio_tokens': 0, 'cached_tokens': 0}}, 'model_name': 'gpt-4o-2024-08-06', 'system_fingerprint': 'fp_a288987b44', 'id': 'chatcmpl-BahVv4DUGEX2atQd6YpYcfMDkLoNN', 'finish_reason': 'stop', 'logprobs': None}, id='run-2612e1c9-2beb-49df-ae3c-6468982a7f89-0', usage_metadata={'input_tokens': 13, 'output_tokens': 11, 'total_tokens': 24, 'input_token_details': {'audio': 0, 'cache_read': 0}, 'output_token_details': {'audio': 0, 'reasoning': 0}}), HumanMessage(content='Write a short poem about cats', additional_kwargs={}, response_metadata={}, id='3c822f40-f910-49b8-81d5-7e1f6282d406'), AIMessage(content='In the quiet of the moonlit night,  \\nGraceful shadows take their flight,  \\nWhiskers twitch and tails sway,  \\nFeline charm in soft display.  \\n\\nEmerald eyes in twilight gleam,  \\nProwling softly like a dream,  \\nPaws that dance on silent floors,  \\nMystery walks on velvet shores.  \\n\\nA playful leap, a gentle purr,  \\nIn their world, no need to stir,  \\nCurled up warm in cozy nooks,  \\nSilent sages, unread books.  \\n\\nOh, the stories they must know,  \\nIn their gaze, a secret glow,  \\nCats, the keepers of the night,  \\nSilent whispers in the light.', additional_kwargs={'refusal': None}, response_metadata={'token_usage': {'completion_tokens': 141, 'prompt_tokens': 38, 'total_tokens': 179, 'completion_tokens_details': {'accepted_prediction_tokens': 0, 'audio_tokens': 0, 'reasoning_tokens': 0, 'rejected_prediction_tokens': 0}, 'prompt_tokens_details': {'audio_tokens': 0, 'cached_tokens': 0}}, 'model_name': 'gpt-4o-2024-08-06', 'system_fingerprint': 'fp_07871e2ad8', 'id': 'chatcmpl-BahVwPLdineVoc459oNh9RT5J9vUV', 'finish_reason': 'stop', 'logprobs': None}, id='run-d0eb808d-8c90-45cf-8328-7d8b816b3ae8-0', usage_metadata={'input_tokens': 38, 'output_tokens': 141, 'total_tokens': 179, 'input_token_details': {'audio': 0, 'cache_read': 0}, 'output_token_details': {'audio': 0, 'reasoning': 0}}), HumanMessage(content='now dot the same but for dogs', additional_kwargs={}, response_metadata={}, id='50ad098b-a67e-47ad-a708-570f5ae0296e'), AIMessage(content='In the golden light of day,  \\nBounding hearts are at play,  \\nWagging tails and joyful barks,  \\nFriendship ignites, like sudden sparks.  \\n\\nUnderneath the sunny skies,  \\nDevotion beams from loving eyes,  \\nWet noses nuzzle with delight,  \\nIn their presence, all feels right.  \\n\\nChasing shadows, fetching dreams,  \\nRunning free by babbling streams,  \\nLoyal guardians, steadfast and true,  \\nBringing warmth in all they do.  \\n\\nOh, the stories they could tell,  \\nOf every scent, each grassy knell,  \\nDogs, companions through and through,  \\nEndless love in eyes of blue.', additional_kwargs={'refusal': None}, response_metadata={'token_usage': {'completion_tokens': 136, 'prompt_tokens': 194, 'total_tokens': 330, 'completion_tokens_details': {'accepted_prediction_tokens': 0, 'audio_tokens': 0, 'reasoning_tokens': 0, 'rejected_prediction_tokens': 0}, 'prompt_tokens_details': {'audio_tokens': 0, 'cached_tokens': 0}}, 'model_name': 'gpt-4o-2024-08-06', 'system_fingerprint': 'fp_a288987b44', 'id': 'chatcmpl-BahVzWH9JRG56nYGNblYW2LtjLamF', 'finish_reason': 'stop', 'logprobs': None}, id='run-a79356ac-b6af-4bf4-adbd-e1e3f1a67209-0', usage_metadata={'input_tokens': 194, 'output_tokens': 136, 'total_tokens': 330, 'input_token_details': {'audio': 0, 'cache_read': 0}, 'output_token_details': {'audio': 0, 'reasoning': 0}}), HumanMessage(content='who are you?', additional_kwargs={}, response_metadata={}, id='3fed9cb7-b49b-4455-91e6-f886f5bb4825'), AIMessage(content=\"I am an AI language model created by OpenAI, designed to assist with a wide range of queries by providing information and generating text based on your prompts. I'm here to help with answering questions, offering explanations, and even creating creative content. How can I assist you today?\", additional_kwargs={'refusal': None}, response_metadata={'token_usage': {'completion_tokens': 55, 'prompt_tokens': 342, 'total_tokens': 397, 'completion_tokens_details': {'accepted_prediction_tokens': 0, 'audio_tokens': 0, 'reasoning_tokens': 0, 'rejected_prediction_tokens': 0}, 'prompt_tokens_details': {'audio_tokens': 0, 'cached_tokens': 0}}, 'model_name': 'gpt-4o-2024-08-06', 'system_fingerprint': 'fp_a288987b44', 'id': 'chatcmpl-BahW12JlN9r6SlGejKCpbzxPgha7r', 'finish_reason': 'stop', 'logprobs': None}, id='run-988914fb-317a-4850-8e64-68c418254a66-0', usage_metadata={'input_tokens': 342, 'output_tokens': 55, 'total_tokens': 397, 'input_token_details': {'audio': 0, 'cache_read': 0}, 'output_token_details': {'audio': 0, 'reasoning': 0}}), HumanMessage(content='what is my name?', additional_kwargs={}, response_metadata={}, id='940432a8-f269-4311-a7a3-198a4e5e99d4')]\n"
     ]
    },
    {
     "data": {
      "text/plain": [
       "{'messages': [HumanMessage(content='Hi, I am Naji', additional_kwargs={}, response_metadata={}, id='e5c11cad-c086-4086-93de-aac133097f82'),\n",
       "  AIMessage(content='Hello Naji! How can I assist you today?', additional_kwargs={'refusal': None}, response_metadata={'token_usage': {'completion_tokens': 11, 'prompt_tokens': 13, 'total_tokens': 24, 'completion_tokens_details': {'accepted_prediction_tokens': 0, 'audio_tokens': 0, 'reasoning_tokens': 0, 'rejected_prediction_tokens': 0}, 'prompt_tokens_details': {'audio_tokens': 0, 'cached_tokens': 0}}, 'model_name': 'gpt-4o-2024-08-06', 'system_fingerprint': 'fp_a288987b44', 'id': 'chatcmpl-BahVv4DUGEX2atQd6YpYcfMDkLoNN', 'finish_reason': 'stop', 'logprobs': None}, id='run-2612e1c9-2beb-49df-ae3c-6468982a7f89-0', usage_metadata={'input_tokens': 13, 'output_tokens': 11, 'total_tokens': 24, 'input_token_details': {'audio': 0, 'cache_read': 0}, 'output_token_details': {'audio': 0, 'reasoning': 0}}),\n",
       "  HumanMessage(content='Write a short poem about cats', additional_kwargs={}, response_metadata={}, id='3c822f40-f910-49b8-81d5-7e1f6282d406'),\n",
       "  AIMessage(content='In the quiet of the moonlit night,  \\nGraceful shadows take their flight,  \\nWhiskers twitch and tails sway,  \\nFeline charm in soft display.  \\n\\nEmerald eyes in twilight gleam,  \\nProwling softly like a dream,  \\nPaws that dance on silent floors,  \\nMystery walks on velvet shores.  \\n\\nA playful leap, a gentle purr,  \\nIn their world, no need to stir,  \\nCurled up warm in cozy nooks,  \\nSilent sages, unread books.  \\n\\nOh, the stories they must know,  \\nIn their gaze, a secret glow,  \\nCats, the keepers of the night,  \\nSilent whispers in the light.', additional_kwargs={'refusal': None}, response_metadata={'token_usage': {'completion_tokens': 141, 'prompt_tokens': 38, 'total_tokens': 179, 'completion_tokens_details': {'accepted_prediction_tokens': 0, 'audio_tokens': 0, 'reasoning_tokens': 0, 'rejected_prediction_tokens': 0}, 'prompt_tokens_details': {'audio_tokens': 0, 'cached_tokens': 0}}, 'model_name': 'gpt-4o-2024-08-06', 'system_fingerprint': 'fp_07871e2ad8', 'id': 'chatcmpl-BahVwPLdineVoc459oNh9RT5J9vUV', 'finish_reason': 'stop', 'logprobs': None}, id='run-d0eb808d-8c90-45cf-8328-7d8b816b3ae8-0', usage_metadata={'input_tokens': 38, 'output_tokens': 141, 'total_tokens': 179, 'input_token_details': {'audio': 0, 'cache_read': 0}, 'output_token_details': {'audio': 0, 'reasoning': 0}}),\n",
       "  HumanMessage(content='now dot the same but for dogs', additional_kwargs={}, response_metadata={}, id='50ad098b-a67e-47ad-a708-570f5ae0296e'),\n",
       "  AIMessage(content='In the golden light of day,  \\nBounding hearts are at play,  \\nWagging tails and joyful barks,  \\nFriendship ignites, like sudden sparks.  \\n\\nUnderneath the sunny skies,  \\nDevotion beams from loving eyes,  \\nWet noses nuzzle with delight,  \\nIn their presence, all feels right.  \\n\\nChasing shadows, fetching dreams,  \\nRunning free by babbling streams,  \\nLoyal guardians, steadfast and true,  \\nBringing warmth in all they do.  \\n\\nOh, the stories they could tell,  \\nOf every scent, each grassy knell,  \\nDogs, companions through and through,  \\nEndless love in eyes of blue.', additional_kwargs={'refusal': None}, response_metadata={'token_usage': {'completion_tokens': 136, 'prompt_tokens': 194, 'total_tokens': 330, 'completion_tokens_details': {'accepted_prediction_tokens': 0, 'audio_tokens': 0, 'reasoning_tokens': 0, 'rejected_prediction_tokens': 0}, 'prompt_tokens_details': {'audio_tokens': 0, 'cached_tokens': 0}}, 'model_name': 'gpt-4o-2024-08-06', 'system_fingerprint': 'fp_a288987b44', 'id': 'chatcmpl-BahVzWH9JRG56nYGNblYW2LtjLamF', 'finish_reason': 'stop', 'logprobs': None}, id='run-a79356ac-b6af-4bf4-adbd-e1e3f1a67209-0', usage_metadata={'input_tokens': 194, 'output_tokens': 136, 'total_tokens': 330, 'input_token_details': {'audio': 0, 'cache_read': 0}, 'output_token_details': {'audio': 0, 'reasoning': 0}}),\n",
       "  HumanMessage(content='who are you?', additional_kwargs={}, response_metadata={}, id='3fed9cb7-b49b-4455-91e6-f886f5bb4825'),\n",
       "  AIMessage(content=\"I am an AI language model created by OpenAI, designed to assist with a wide range of queries by providing information and generating text based on your prompts. I'm here to help with answering questions, offering explanations, and even creating creative content. How can I assist you today?\", additional_kwargs={'refusal': None}, response_metadata={'token_usage': {'completion_tokens': 55, 'prompt_tokens': 342, 'total_tokens': 397, 'completion_tokens_details': {'accepted_prediction_tokens': 0, 'audio_tokens': 0, 'reasoning_tokens': 0, 'rejected_prediction_tokens': 0}, 'prompt_tokens_details': {'audio_tokens': 0, 'cached_tokens': 0}}, 'model_name': 'gpt-4o-2024-08-06', 'system_fingerprint': 'fp_a288987b44', 'id': 'chatcmpl-BahW12JlN9r6SlGejKCpbzxPgha7r', 'finish_reason': 'stop', 'logprobs': None}, id='run-988914fb-317a-4850-8e64-68c418254a66-0', usage_metadata={'input_tokens': 342, 'output_tokens': 55, 'total_tokens': 397, 'input_token_details': {'audio': 0, 'cache_read': 0}, 'output_token_details': {'audio': 0, 'reasoning': 0}}),\n",
       "  HumanMessage(content='what is my name?', additional_kwargs={}, response_metadata={}, id='940432a8-f269-4311-a7a3-198a4e5e99d4'),\n",
       "  AIMessage(content=\"You mentioned earlier that your name is Naji. If there's anything else you'd like to discuss or ask, feel free to let me know!\", additional_kwargs={'refusal': None}, response_metadata={'token_usage': {'completion_tokens': 28, 'prompt_tokens': 410, 'total_tokens': 438, 'completion_tokens_details': {'accepted_prediction_tokens': 0, 'audio_tokens': 0, 'reasoning_tokens': 0, 'rejected_prediction_tokens': 0}, 'prompt_tokens_details': {'audio_tokens': 0, 'cached_tokens': 0}}, 'model_name': 'gpt-4o-2024-08-06', 'system_fingerprint': 'fp_a288987b44', 'id': 'chatcmpl-BahW3NtbIv8D6l8HxKcsNAI6H2JWB', 'finish_reason': 'stop', 'logprobs': None}, id='run-569eea45-0c0a-4bc5-aa1a-e0ce424eb781-0', usage_metadata={'input_tokens': 410, 'output_tokens': 28, 'total_tokens': 438, 'input_token_details': {'audio': 0, 'cache_read': 0}, 'output_token_details': {'audio': 0, 'reasoning': 0}})]}"
      ]
     },
     "execution_count": 52,
     "metadata": {},
     "output_type": "execute_result"
    }
   ],
   "source": [
    "graph.invoke({'messages': \"what is my name?\"}, config=config)"
   ]
  },
  {
   "cell_type": "code",
   "execution_count": null,
   "id": "fc0985e9",
   "metadata": {},
   "outputs": [],
   "source": []
  },
  {
   "cell_type": "code",
   "execution_count": null,
   "id": "cea7b980",
   "metadata": {},
   "outputs": [],
   "source": []
  },
  {
   "cell_type": "code",
   "execution_count": null,
   "id": "b960159f",
   "metadata": {},
   "outputs": [],
   "source": []
  }
 ],
 "metadata": {
  "kernelspec": {
   "display_name": "Python 3",
   "language": "python",
   "name": "python3"
  },
  "language_info": {
   "codemirror_mode": {
    "name": "ipython",
    "version": 3
   },
   "file_extension": ".py",
   "mimetype": "text/x-python",
   "name": "python",
   "nbconvert_exporter": "python",
   "pygments_lexer": "ipython3",
   "version": "3.11.11"
  }
 },
 "nbformat": 4,
 "nbformat_minor": 5
}
