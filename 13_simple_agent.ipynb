{
 "cells": [
  {
   "attachments": {
    "450250f2-b59c-4bab-af75-cf4367c2e61b.png": {
     "image/png": "[encoded data removed]"
    }
   },
   "cell_type": "markdown",
   "metadata": {},
   "source": [
    "![450250f2-b59c-4bab-af75-cf4367c2e61b.png](attachment:450250f2-b59c-4bab-af75-cf4367c2e61b.png)"
   ]
  },
  {
   "cell_type": "code",
   "execution_count": 2,
   "metadata": {},
   "outputs": [
    {
     "name": "stdout",
     "output_type": "stream",
     "text": [
      "Requirement already satisfied: langgraph in /Users/mohamednajiaboo/Desktop/DocumentChat/Document_Chat_Langchain/env/lib/python3.11/site-packages (from -r requirements.txt (line 1)) (0.2.60)\n",
      "Requirement already satisfied: langchain_community in /Users/mohamednajiaboo/Desktop/DocumentChat/Document_Chat_Langchain/env/lib/python3.11/site-packages (from -r requirements.txt (line 2)) (0.3.13)\n",
      "Requirement already satisfied: langchain_openai in /Users/mohamednajiaboo/Desktop/DocumentChat/Document_Chat_Langchain/env/lib/python3.11/site-packages (from -r requirements.txt (line 3)) (0.2.14)\n",
      "Requirement already satisfied: langchain_chroma in /Users/mohamednajiaboo/Desktop/DocumentChat/Document_Chat_Langchain/env/lib/python3.11/site-packages (from -r requirements.txt (line 4)) (0.1.4)\n",
      "Requirement already satisfied: pypdf in /Users/mohamednajiaboo/Desktop/DocumentChat/Document_Chat_Langchain/env/lib/python3.11/site-packages (from -r requirements.txt (line 5)) (5.1.0)\n",
      "Requirement already satisfied: langchain-core!=0.3.0,!=0.3.1,!=0.3.10,!=0.3.11,!=0.3.12,!=0.3.13,!=0.3.14,!=0.3.15,!=0.3.16,!=0.3.17,!=0.3.18,!=0.3.19,!=0.3.2,!=0.3.20,!=0.3.21,!=0.3.22,!=0.3.3,!=0.3.4,!=0.3.5,!=0.3.6,!=0.3.7,!=0.3.8,!=0.3.9,<0.4.0,>=0.2.43 in /Users/mohamednajiaboo/Desktop/DocumentChat/Document_Chat_Langchain/env/lib/python3.11/site-packages (from langgraph->-r requirements.txt (line 1)) (0.3.28)\n",
      "Requirement already satisfied: langgraph-checkpoint<3.0.0,>=2.0.4 in /Users/mohamednajiaboo/Desktop/DocumentChat/Document_Chat_Langchain/env/lib/python3.11/site-packages (from langgraph->-r requirements.txt (line 1)) (2.0.9)\n",
      "Requirement already satisfied: langgraph-sdk<0.2.0,>=0.1.42 in /Users/mohamednajiaboo/Desktop/DocumentChat/Document_Chat_Langchain/env/lib/python3.11/site-packages (from langgraph->-r requirements.txt (line 1)) (0.1.48)\n",
      "Requirement already satisfied: PyYAML>=5.3 in /Users/mohamednajiaboo/Desktop/DocumentChat/Document_Chat_Langchain/env/lib/python3.11/site-packages (from langchain_community->-r requirements.txt (line 2)) (6.0.2)\n",
      "Requirement already satisfied: SQLAlchemy<3,>=1.4 in /Users/mohamednajiaboo/Desktop/DocumentChat/Document_Chat_Langchain/env/lib/python3.11/site-packages (from langchain_community->-r requirements.txt (line 2)) (2.0.36)\n",
      "Requirement already satisfied: aiohttp<4.0.0,>=3.8.3 in /Users/mohamednajiaboo/Desktop/DocumentChat/Document_Chat_Langchain/env/lib/python3.11/site-packages (from langchain_community->-r requirements.txt (line 2)) (3.11.11)\n",
      "Requirement already satisfied: dataclasses-json<0.7,>=0.5.7 in /Users/mohamednajiaboo/Desktop/DocumentChat/Document_Chat_Langchain/env/lib/python3.11/site-packages (from langchain_community->-r requirements.txt (line 2)) (0.6.7)\n",
      "Requirement already satisfied: httpx-sse<0.5.0,>=0.4.0 in /Users/mohamednajiaboo/Desktop/DocumentChat/Document_Chat_Langchain/env/lib/python3.11/site-packages (from langchain_community->-r requirements.txt (line 2)) (0.4.0)\n",
      "Requirement already satisfied: langchain<0.4.0,>=0.3.13 in /Users/mohamednajiaboo/Desktop/DocumentChat/Document_Chat_Langchain/env/lib/python3.11/site-packages (from langchain_community->-r requirements.txt (line 2)) (0.3.13)\n",
      "Requirement already satisfied: langsmith<0.3,>=0.1.125 in /Users/mohamednajiaboo/Desktop/DocumentChat/Document_Chat_Langchain/env/lib/python3.11/site-packages (from langchain_community->-r requirements.txt (line 2)) (0.2.6)\n",
      "Requirement already satisfied: numpy<2,>=1.22.4 in /Users/mohamednajiaboo/Desktop/DocumentChat/Document_Chat_Langchain/env/lib/python3.11/site-packages (from langchain_community->-r requirements.txt (line 2)) (1.26.4)\n",
      "Requirement already satisfied: pydantic-settings<3.0.0,>=2.4.0 in /Users/mohamednajiaboo/Desktop/DocumentChat/Document_Chat_Langchain/env/lib/python3.11/site-packages (from langchain_community->-r requirements.txt (line 2)) (2.7.0)\n",
      "Requirement already satisfied: requests<3,>=2 in /Users/mohamednajiaboo/Desktop/DocumentChat/Document_Chat_Langchain/env/lib/python3.11/site-packages (from langchain_community->-r requirements.txt (line 2)) (2.32.3)\n",
      "Requirement already satisfied: tenacity!=8.4.0,<10,>=8.1.0 in /Users/mohamednajiaboo/Desktop/DocumentChat/Document_Chat_Langchain/env/lib/python3.11/site-packages (from langchain_community->-r requirements.txt (line 2)) (9.0.0)\n",
      "Requirement already satisfied: openai<2.0.0,>=1.58.1 in /Users/mohamednajiaboo/Desktop/DocumentChat/Document_Chat_Langchain/env/lib/python3.11/site-packages (from langchain_openai->-r requirements.txt (line 3)) (1.58.1)\n",
      "Requirement already satisfied: tiktoken<1,>=0.7 in /Users/mohamednajiaboo/Desktop/DocumentChat/Document_Chat_Langchain/env/lib/python3.11/site-packages (from langchain_openai->-r requirements.txt (line 3)) (0.8.0)\n",
      "Requirement already satisfied: chromadb!=0.5.4,!=0.5.5,<0.6.0,>=0.4.0 in /Users/mohamednajiaboo/Desktop/DocumentChat/Document_Chat_Langchain/env/lib/python3.11/site-packages (from langchain_chroma->-r requirements.txt (line 4)) (0.5.23)\n",
      "Requirement already satisfied: fastapi<1,>=0.95.2 in /Users/mohamednajiaboo/Desktop/DocumentChat/Document_Chat_Langchain/env/lib/python3.11/site-packages (from langchain_chroma->-r requirements.txt (line 4)) (0.115.6)\n",
      "Requirement already satisfied: aiohappyeyeballs>=2.3.0 in /Users/mohamednajiaboo/Desktop/DocumentChat/Document_Chat_Langchain/env/lib/python3.11/site-packages (from aiohttp<4.0.0,>=3.8.3->langchain_community->-r requirements.txt (line 2)) (2.4.4)\n",
      "Requirement already satisfied: aiosignal>=1.1.2 in /Users/mohamednajiaboo/Desktop/DocumentChat/Document_Chat_Langchain/env/lib/python3.11/site-packages (from aiohttp<4.0.0,>=3.8.3->langchain_community->-r requirements.txt (line 2)) (1.3.2)\n",
      "Requirement already satisfied: attrs>=17.3.0 in /Users/mohamednajiaboo/Desktop/DocumentChat/Document_Chat_Langchain/env/lib/python3.11/site-packages (from aiohttp<4.0.0,>=3.8.3->langchain_community->-r requirements.txt (line 2)) (24.3.0)\n",
      "Requirement already satisfied: frozenlist>=1.1.1 in /Users/mohamednajiaboo/Desktop/DocumentChat/Document_Chat_Langchain/env/lib/python3.11/site-packages (from aiohttp<4.0.0,>=3.8.3->langchain_community->-r requirements.txt (line 2)) (1.5.0)\n",
      "Requirement already satisfied: multidict<7.0,>=4.5 in /Users/mohamednajiaboo/Desktop/DocumentChat/Document_Chat_Langchain/env/lib/python3.11/site-packages (from aiohttp<4.0.0,>=3.8.3->langchain_community->-r requirements.txt (line 2)) (6.1.0)\n",
      "Requirement already satisfied: propcache>=0.2.0 in /Users/mohamednajiaboo/Desktop/DocumentChat/Document_Chat_Langchain/env/lib/python3.11/site-packages (from aiohttp<4.0.0,>=3.8.3->langchain_community->-r requirements.txt (line 2)) (0.2.1)\n",
      "Requirement already satisfied: yarl<2.0,>=1.17.0 in /Users/mohamednajiaboo/Desktop/DocumentChat/Document_Chat_Langchain/env/lib/python3.11/site-packages (from aiohttp<4.0.0,>=3.8.3->langchain_community->-r requirements.txt (line 2)) (1.18.3)\n",
      "Requirement already satisfied: build>=1.0.3 in /Users/mohamednajiaboo/Desktop/DocumentChat/Document_Chat_Langchain/env/lib/python3.11/site-packages (from chromadb!=0.5.4,!=0.5.5,<0.6.0,>=0.4.0->langchain_chroma->-r requirements.txt (line 4)) (1.2.2.post1)\n",
      "Requirement already satisfied: pydantic>=1.9 in /Users/mohamednajiaboo/Desktop/DocumentChat/Document_Chat_Langchain/env/lib/python3.11/site-packages (from chromadb!=0.5.4,!=0.5.5,<0.6.0,>=0.4.0->langchain_chroma->-r requirements.txt (line 4)) (2.10.4)\n",
      "Requirement already satisfied: chroma-hnswlib==0.7.6 in /Users/mohamednajiaboo/Desktop/DocumentChat/Document_Chat_Langchain/env/lib/python3.11/site-packages (from chromadb!=0.5.4,!=0.5.5,<0.6.0,>=0.4.0->langchain_chroma->-r requirements.txt (line 4)) (0.7.6)\n",
      "Requirement already satisfied: uvicorn>=0.18.3 in /Users/mohamednajiaboo/Desktop/DocumentChat/Document_Chat_Langchain/env/lib/python3.11/site-packages (from uvicorn[standard]>=0.18.3->chromadb!=0.5.4,!=0.5.5,<0.6.0,>=0.4.0->langchain_chroma->-r requirements.txt (line 4)) (0.34.0)\n",
      "Requirement already satisfied: posthog>=2.4.0 in /Users/mohamednajiaboo/Desktop/DocumentChat/Document_Chat_Langchain/env/lib/python3.11/site-packages (from chromadb!=0.5.4,!=0.5.5,<0.6.0,>=0.4.0->langchain_chroma->-r requirements.txt (line 4)) (3.7.4)\n",
      "Requirement already satisfied: typing_extensions>=4.5.0 in /Users/mohamednajiaboo/Desktop/DocumentChat/Document_Chat_Langchain/env/lib/python3.11/site-packages (from chromadb!=0.5.4,!=0.5.5,<0.6.0,>=0.4.0->langchain_chroma->-r requirements.txt (line 4)) (4.12.2)\n",
      "Requirement already satisfied: onnxruntime>=1.14.1 in /Users/mohamednajiaboo/Desktop/DocumentChat/Document_Chat_Langchain/env/lib/python3.11/site-packages (from chromadb!=0.5.4,!=0.5.5,<0.6.0,>=0.4.0->langchain_chroma->-r requirements.txt (line 4)) (1.20.1)\n",
      "Requirement already satisfied: opentelemetry-api>=1.2.0 in /Users/mohamednajiaboo/Desktop/DocumentChat/Document_Chat_Langchain/env/lib/python3.11/site-packages (from chromadb!=0.5.4,!=0.5.5,<0.6.0,>=0.4.0->langchain_chroma->-r requirements.txt (line 4)) (1.29.0)\n",
      "Requirement already satisfied: opentelemetry-exporter-otlp-proto-grpc>=1.2.0 in /Users/mohamednajiaboo/Desktop/DocumentChat/Document_Chat_Langchain/env/lib/python3.11/site-packages (from chromadb!=0.5.4,!=0.5.5,<0.6.0,>=0.4.0->langchain_chroma->-r requirements.txt (line 4)) (1.29.0)\n",
      "Requirement already satisfied: opentelemetry-instrumentation-fastapi>=0.41b0 in /Users/mohamednajiaboo/Desktop/DocumentChat/Document_Chat_Langchain/env/lib/python3.11/site-packages (from chromadb!=0.5.4,!=0.5.5,<0.6.0,>=0.4.0->langchain_chroma->-r requirements.txt (line 4)) (0.50b0)\n",
      "Requirement already satisfied: opentelemetry-sdk>=1.2.0 in /Users/mohamednajiaboo/Desktop/DocumentChat/Document_Chat_Langchain/env/lib/python3.11/site-packages (from chromadb!=0.5.4,!=0.5.5,<0.6.0,>=0.4.0->langchain_chroma->-r requirements.txt (line 4)) (1.29.0)\n",
      "Requirement already satisfied: tokenizers<=0.20.3,>=0.13.2 in /Users/mohamednajiaboo/Desktop/DocumentChat/Document_Chat_Langchain/env/lib/python3.11/site-packages (from chromadb!=0.5.4,!=0.5.5,<0.6.0,>=0.4.0->langchain_chroma->-r requirements.txt (line 4)) (0.20.3)\n",
      "Requirement already satisfied: pypika>=0.48.9 in /Users/mohamednajiaboo/Desktop/DocumentChat/Document_Chat_Langchain/env/lib/python3.11/site-packages (from chromadb!=0.5.4,!=0.5.5,<0.6.0,>=0.4.0->langchain_chroma->-r requirements.txt (line 4)) (0.48.9)\n",
      "Requirement already satisfied: tqdm>=4.65.0 in /Users/mohamednajiaboo/Desktop/DocumentChat/Document_Chat_Langchain/env/lib/python3.11/site-packages (from chromadb!=0.5.4,!=0.5.5,<0.6.0,>=0.4.0->langchain_chroma->-r requirements.txt (line 4)) (4.67.1)\n",
      "Requirement already satisfied: overrides>=7.3.1 in /Users/mohamednajiaboo/Desktop/DocumentChat/Document_Chat_Langchain/env/lib/python3.11/site-packages (from chromadb!=0.5.4,!=0.5.5,<0.6.0,>=0.4.0->langchain_chroma->-r requirements.txt (line 4)) (7.7.0)\n",
      "Requirement already satisfied: importlib-resources in /Users/mohamednajiaboo/Desktop/DocumentChat/Document_Chat_Langchain/env/lib/python3.11/site-packages (from chromadb!=0.5.4,!=0.5.5,<0.6.0,>=0.4.0->langchain_chroma->-r requirements.txt (line 4)) (6.4.5)\n",
      "Requirement already satisfied: grpcio>=1.58.0 in /Users/mohamednajiaboo/Desktop/DocumentChat/Document_Chat_Langchain/env/lib/python3.11/site-packages (from chromadb!=0.5.4,!=0.5.5,<0.6.0,>=0.4.0->langchain_chroma->-r requirements.txt (line 4)) (1.68.1)\n",
      "Requirement already satisfied: bcrypt>=4.0.1 in /Users/mohamednajiaboo/Desktop/DocumentChat/Document_Chat_Langchain/env/lib/python3.11/site-packages (from chromadb!=0.5.4,!=0.5.5,<0.6.0,>=0.4.0->langchain_chroma->-r requirements.txt (line 4)) (4.2.1)\n",
      "Requirement already satisfied: typer>=0.9.0 in /Users/mohamednajiaboo/Desktop/DocumentChat/Document_Chat_Langchain/env/lib/python3.11/site-packages (from chromadb!=0.5.4,!=0.5.5,<0.6.0,>=0.4.0->langchain_chroma->-r requirements.txt (line 4)) (0.15.1)\n",
      "Requirement already satisfied: kubernetes>=28.1.0 in /Users/mohamednajiaboo/Desktop/DocumentChat/Document_Chat_Langchain/env/lib/python3.11/site-packages (from chromadb!=0.5.4,!=0.5.5,<0.6.0,>=0.4.0->langchain_chroma->-r requirements.txt (line 4)) (31.0.0)\n",
      "Requirement already satisfied: mmh3>=4.0.1 in /Users/mohamednajiaboo/Desktop/DocumentChat/Document_Chat_Langchain/env/lib/python3.11/site-packages (from chromadb!=0.5.4,!=0.5.5,<0.6.0,>=0.4.0->langchain_chroma->-r requirements.txt (line 4)) (5.0.1)\n",
      "Requirement already satisfied: orjson>=3.9.12 in /Users/mohamednajiaboo/Desktop/DocumentChat/Document_Chat_Langchain/env/lib/python3.11/site-packages (from chromadb!=0.5.4,!=0.5.5,<0.6.0,>=0.4.0->langchain_chroma->-r requirements.txt (line 4)) (3.10.13)\n",
      "Requirement already satisfied: httpx>=0.27.0 in /Users/mohamednajiaboo/Desktop/DocumentChat/Document_Chat_Langchain/env/lib/python3.11/site-packages (from chromadb!=0.5.4,!=0.5.5,<0.6.0,>=0.4.0->langchain_chroma->-r requirements.txt (line 4)) (0.27.2)\n",
      "Requirement already satisfied: rich>=10.11.0 in /Users/mohamednajiaboo/Desktop/DocumentChat/Document_Chat_Langchain/env/lib/python3.11/site-packages (from chromadb!=0.5.4,!=0.5.5,<0.6.0,>=0.4.0->langchain_chroma->-r requirements.txt (line 4)) (13.9.4)\n",
      "Requirement already satisfied: marshmallow<4.0.0,>=3.18.0 in /Users/mohamednajiaboo/Desktop/DocumentChat/Document_Chat_Langchain/env/lib/python3.11/site-packages (from dataclasses-json<0.7,>=0.5.7->langchain_community->-r requirements.txt (line 2)) (3.23.2)\n",
      "Requirement already satisfied: typing-inspect<1,>=0.4.0 in /Users/mohamednajiaboo/Desktop/DocumentChat/Document_Chat_Langchain/env/lib/python3.11/site-packages (from dataclasses-json<0.7,>=0.5.7->langchain_community->-r requirements.txt (line 2)) (0.9.0)\n",
      "Requirement already satisfied: starlette<0.42.0,>=0.40.0 in /Users/mohamednajiaboo/Desktop/DocumentChat/Document_Chat_Langchain/env/lib/python3.11/site-packages (from fastapi<1,>=0.95.2->langchain_chroma->-r requirements.txt (line 4)) (0.41.3)\n",
      "Requirement already satisfied: langchain-text-splitters<0.4.0,>=0.3.3 in /Users/mohamednajiaboo/Desktop/DocumentChat/Document_Chat_Langchain/env/lib/python3.11/site-packages (from langchain<0.4.0,>=0.3.13->langchain_community->-r requirements.txt (line 2)) (0.3.4)\n",
      "Requirement already satisfied: jsonpatch<2.0,>=1.33 in /Users/mohamednajiaboo/Desktop/DocumentChat/Document_Chat_Langchain/env/lib/python3.11/site-packages (from langchain-core!=0.3.0,!=0.3.1,!=0.3.10,!=0.3.11,!=0.3.12,!=0.3.13,!=0.3.14,!=0.3.15,!=0.3.16,!=0.3.17,!=0.3.18,!=0.3.19,!=0.3.2,!=0.3.20,!=0.3.21,!=0.3.22,!=0.3.3,!=0.3.4,!=0.3.5,!=0.3.6,!=0.3.7,!=0.3.8,!=0.3.9,<0.4.0,>=0.2.43->langgraph->-r requirements.txt (line 1)) (1.33)\n",
      "Requirement already satisfied: packaging<25,>=23.2 in /Users/mohamednajiaboo/Desktop/DocumentChat/Document_Chat_Langchain/env/lib/python3.11/site-packages (from langchain-core!=0.3.0,!=0.3.1,!=0.3.10,!=0.3.11,!=0.3.12,!=0.3.13,!=0.3.14,!=0.3.15,!=0.3.16,!=0.3.17,!=0.3.18,!=0.3.19,!=0.3.2,!=0.3.20,!=0.3.21,!=0.3.22,!=0.3.3,!=0.3.4,!=0.3.5,!=0.3.6,!=0.3.7,!=0.3.8,!=0.3.9,<0.4.0,>=0.2.43->langgraph->-r requirements.txt (line 1)) (24.2)\n",
      "Requirement already satisfied: msgpack<2.0.0,>=1.1.0 in /Users/mohamednajiaboo/Desktop/DocumentChat/Document_Chat_Langchain/env/lib/python3.11/site-packages (from langgraph-checkpoint<3.0.0,>=2.0.4->langgraph->-r requirements.txt (line 1)) (1.1.0)\n",
      "Requirement already satisfied: requests-toolbelt<2.0.0,>=1.0.0 in /Users/mohamednajiaboo/Desktop/DocumentChat/Document_Chat_Langchain/env/lib/python3.11/site-packages (from langsmith<0.3,>=0.1.125->langchain_community->-r requirements.txt (line 2)) (1.0.0)\n",
      "Requirement already satisfied: anyio<5,>=3.5.0 in /Users/mohamednajiaboo/Desktop/DocumentChat/Document_Chat_Langchain/env/lib/python3.11/site-packages (from openai<2.0.0,>=1.58.1->langchain_openai->-r requirements.txt (line 3)) (4.7.0)\n",
      "Requirement already satisfied: distro<2,>=1.7.0 in /Users/mohamednajiaboo/Desktop/DocumentChat/Document_Chat_Langchain/env/lib/python3.11/site-packages (from openai<2.0.0,>=1.58.1->langchain_openai->-r requirements.txt (line 3)) (1.9.0)\n",
      "Requirement already satisfied: jiter<1,>=0.4.0 in /Users/mohamednajiaboo/Desktop/DocumentChat/Document_Chat_Langchain/env/lib/python3.11/site-packages (from openai<2.0.0,>=1.58.1->langchain_openai->-r requirements.txt (line 3)) (0.8.2)\n",
      "Requirement already satisfied: sniffio in /Users/mohamednajiaboo/Desktop/DocumentChat/Document_Chat_Langchain/env/lib/python3.11/site-packages (from openai<2.0.0,>=1.58.1->langchain_openai->-r requirements.txt (line 3)) (1.3.1)\n",
      "Requirement already satisfied: python-dotenv>=0.21.0 in /Users/mohamednajiaboo/Desktop/DocumentChat/Document_Chat_Langchain/env/lib/python3.11/site-packages (from pydantic-settings<3.0.0,>=2.4.0->langchain_community->-r requirements.txt (line 2)) (1.0.1)\n",
      "Requirement already satisfied: charset-normalizer<4,>=2 in /Users/mohamednajiaboo/Desktop/DocumentChat/Document_Chat_Langchain/env/lib/python3.11/site-packages (from requests<3,>=2->langchain_community->-r requirements.txt (line 2)) (3.4.1)\n",
      "Requirement already satisfied: idna<4,>=2.5 in /Users/mohamednajiaboo/Desktop/DocumentChat/Document_Chat_Langchain/env/lib/python3.11/site-packages (from requests<3,>=2->langchain_community->-r requirements.txt (line 2)) (3.10)\n",
      "Requirement already satisfied: urllib3<3,>=1.21.1 in /Users/mohamednajiaboo/Desktop/DocumentChat/Document_Chat_Langchain/env/lib/python3.11/site-packages (from requests<3,>=2->langchain_community->-r requirements.txt (line 2)) (2.3.0)\n",
      "Requirement already satisfied: certifi>=2017.4.17 in /Users/mohamednajiaboo/Desktop/DocumentChat/Document_Chat_Langchain/env/lib/python3.11/site-packages (from requests<3,>=2->langchain_community->-r requirements.txt (line 2)) (2024.12.14)\n",
      "Requirement already satisfied: greenlet!=0.4.17 in /Users/mohamednajiaboo/Desktop/DocumentChat/Document_Chat_Langchain/env/lib/python3.11/site-packages (from SQLAlchemy<3,>=1.4->langchain_community->-r requirements.txt (line 2)) (3.1.1)\n",
      "Requirement already satisfied: regex>=2022.1.18 in /Users/mohamednajiaboo/Desktop/DocumentChat/Document_Chat_Langchain/env/lib/python3.11/site-packages (from tiktoken<1,>=0.7->langchain_openai->-r requirements.txt (line 3)) (2024.11.6)\n",
      "Requirement already satisfied: pyproject_hooks in /Users/mohamednajiaboo/Desktop/DocumentChat/Document_Chat_Langchain/env/lib/python3.11/site-packages (from build>=1.0.3->chromadb!=0.5.4,!=0.5.5,<0.6.0,>=0.4.0->langchain_chroma->-r requirements.txt (line 4)) (1.2.0)\n",
      "Requirement already satisfied: httpcore==1.* in /Users/mohamednajiaboo/Desktop/DocumentChat/Document_Chat_Langchain/env/lib/python3.11/site-packages (from httpx>=0.27.0->chromadb!=0.5.4,!=0.5.5,<0.6.0,>=0.4.0->langchain_chroma->-r requirements.txt (line 4)) (1.0.7)\n",
      "Requirement already satisfied: h11<0.15,>=0.13 in /Users/mohamednajiaboo/Desktop/DocumentChat/Document_Chat_Langchain/env/lib/python3.11/site-packages (from httpcore==1.*->httpx>=0.27.0->chromadb!=0.5.4,!=0.5.5,<0.6.0,>=0.4.0->langchain_chroma->-r requirements.txt (line 4)) (0.14.0)\n",
      "Requirement already satisfied: jsonpointer>=1.9 in /Users/mohamednajiaboo/Desktop/DocumentChat/Document_Chat_Langchain/env/lib/python3.11/site-packages (from jsonpatch<2.0,>=1.33->langchain-core!=0.3.0,!=0.3.1,!=0.3.10,!=0.3.11,!=0.3.12,!=0.3.13,!=0.3.14,!=0.3.15,!=0.3.16,!=0.3.17,!=0.3.18,!=0.3.19,!=0.3.2,!=0.3.20,!=0.3.21,!=0.3.22,!=0.3.3,!=0.3.4,!=0.3.5,!=0.3.6,!=0.3.7,!=0.3.8,!=0.3.9,<0.4.0,>=0.2.43->langgraph->-r requirements.txt (line 1)) (3.0.0)\n",
      "Requirement already satisfied: six>=1.9.0 in /Users/mohamednajiaboo/Desktop/DocumentChat/Document_Chat_Langchain/env/lib/python3.11/site-packages (from kubernetes>=28.1.0->chromadb!=0.5.4,!=0.5.5,<0.6.0,>=0.4.0->langchain_chroma->-r requirements.txt (line 4)) (1.17.0)\n",
      "Requirement already satisfied: python-dateutil>=2.5.3 in /Users/mohamednajiaboo/Desktop/DocumentChat/Document_Chat_Langchain/env/lib/python3.11/site-packages (from kubernetes>=28.1.0->chromadb!=0.5.4,!=0.5.5,<0.6.0,>=0.4.0->langchain_chroma->-r requirements.txt (line 4)) (2.9.0.post0)\n",
      "Requirement already satisfied: google-auth>=1.0.1 in /Users/mohamednajiaboo/Desktop/DocumentChat/Document_Chat_Langchain/env/lib/python3.11/site-packages (from kubernetes>=28.1.0->chromadb!=0.5.4,!=0.5.5,<0.6.0,>=0.4.0->langchain_chroma->-r requirements.txt (line 4)) (2.37.0)\n",
      "Requirement already satisfied: websocket-client!=0.40.0,!=0.41.*,!=0.42.*,>=0.32.0 in /Users/mohamednajiaboo/Desktop/DocumentChat/Document_Chat_Langchain/env/lib/python3.11/site-packages (from kubernetes>=28.1.0->chromadb!=0.5.4,!=0.5.5,<0.6.0,>=0.4.0->langchain_chroma->-r requirements.txt (line 4)) (1.8.0)\n",
      "Requirement already satisfied: requests-oauthlib in /Users/mohamednajiaboo/Desktop/DocumentChat/Document_Chat_Langchain/env/lib/python3.11/site-packages (from kubernetes>=28.1.0->chromadb!=0.5.4,!=0.5.5,<0.6.0,>=0.4.0->langchain_chroma->-r requirements.txt (line 4)) (2.0.0)\n",
      "Requirement already satisfied: oauthlib>=3.2.2 in /Users/mohamednajiaboo/Desktop/DocumentChat/Document_Chat_Langchain/env/lib/python3.11/site-packages (from kubernetes>=28.1.0->chromadb!=0.5.4,!=0.5.5,<0.6.0,>=0.4.0->langchain_chroma->-r requirements.txt (line 4)) (3.2.2)\n",
      "Requirement already satisfied: durationpy>=0.7 in /Users/mohamednajiaboo/Desktop/DocumentChat/Document_Chat_Langchain/env/lib/python3.11/site-packages (from kubernetes>=28.1.0->chromadb!=0.5.4,!=0.5.5,<0.6.0,>=0.4.0->langchain_chroma->-r requirements.txt (line 4)) (0.9)\n",
      "Requirement already satisfied: coloredlogs in /Users/mohamednajiaboo/Desktop/DocumentChat/Document_Chat_Langchain/env/lib/python3.11/site-packages (from onnxruntime>=1.14.1->chromadb!=0.5.4,!=0.5.5,<0.6.0,>=0.4.0->langchain_chroma->-r requirements.txt (line 4)) (15.0.1)\n",
      "Requirement already satisfied: flatbuffers in /Users/mohamednajiaboo/Desktop/DocumentChat/Document_Chat_Langchain/env/lib/python3.11/site-packages (from onnxruntime>=1.14.1->chromadb!=0.5.4,!=0.5.5,<0.6.0,>=0.4.0->langchain_chroma->-r requirements.txt (line 4)) (24.12.23)\n",
      "Requirement already satisfied: protobuf in /Users/mohamednajiaboo/Desktop/DocumentChat/Document_Chat_Langchain/env/lib/python3.11/site-packages (from onnxruntime>=1.14.1->chromadb!=0.5.4,!=0.5.5,<0.6.0,>=0.4.0->langchain_chroma->-r requirements.txt (line 4)) (5.29.2)\n",
      "Requirement already satisfied: sympy in /Users/mohamednajiaboo/Desktop/DocumentChat/Document_Chat_Langchain/env/lib/python3.11/site-packages (from onnxruntime>=1.14.1->chromadb!=0.5.4,!=0.5.5,<0.6.0,>=0.4.0->langchain_chroma->-r requirements.txt (line 4)) (1.13.3)\n",
      "Requirement already satisfied: deprecated>=1.2.6 in /Users/mohamednajiaboo/Desktop/DocumentChat/Document_Chat_Langchain/env/lib/python3.11/site-packages (from opentelemetry-api>=1.2.0->chromadb!=0.5.4,!=0.5.5,<0.6.0,>=0.4.0->langchain_chroma->-r requirements.txt (line 4)) (1.2.15)\n",
      "Requirement already satisfied: importlib-metadata<=8.5.0,>=6.0 in /Users/mohamednajiaboo/Desktop/DocumentChat/Document_Chat_Langchain/env/lib/python3.11/site-packages (from opentelemetry-api>=1.2.0->chromadb!=0.5.4,!=0.5.5,<0.6.0,>=0.4.0->langchain_chroma->-r requirements.txt (line 4)) (8.5.0)\n",
      "Requirement already satisfied: googleapis-common-protos~=1.52 in /Users/mohamednajiaboo/Desktop/DocumentChat/Document_Chat_Langchain/env/lib/python3.11/site-packages (from opentelemetry-exporter-otlp-proto-grpc>=1.2.0->chromadb!=0.5.4,!=0.5.5,<0.6.0,>=0.4.0->langchain_chroma->-r requirements.txt (line 4)) (1.66.0)\n",
      "Requirement already satisfied: opentelemetry-exporter-otlp-proto-common==1.29.0 in /Users/mohamednajiaboo/Desktop/DocumentChat/Document_Chat_Langchain/env/lib/python3.11/site-packages (from opentelemetry-exporter-otlp-proto-grpc>=1.2.0->chromadb!=0.5.4,!=0.5.5,<0.6.0,>=0.4.0->langchain_chroma->-r requirements.txt (line 4)) (1.29.0)\n",
      "Requirement already satisfied: opentelemetry-proto==1.29.0 in /Users/mohamednajiaboo/Desktop/DocumentChat/Document_Chat_Langchain/env/lib/python3.11/site-packages (from opentelemetry-exporter-otlp-proto-grpc>=1.2.0->chromadb!=0.5.4,!=0.5.5,<0.6.0,>=0.4.0->langchain_chroma->-r requirements.txt (line 4)) (1.29.0)\n",
      "Requirement already satisfied: opentelemetry-instrumentation-asgi==0.50b0 in /Users/mohamednajiaboo/Desktop/DocumentChat/Document_Chat_Langchain/env/lib/python3.11/site-packages (from opentelemetry-instrumentation-fastapi>=0.41b0->chromadb!=0.5.4,!=0.5.5,<0.6.0,>=0.4.0->langchain_chroma->-r requirements.txt (line 4)) (0.50b0)\n",
      "Requirement already satisfied: opentelemetry-instrumentation==0.50b0 in /Users/mohamednajiaboo/Desktop/DocumentChat/Document_Chat_Langchain/env/lib/python3.11/site-packages (from opentelemetry-instrumentation-fastapi>=0.41b0->chromadb!=0.5.4,!=0.5.5,<0.6.0,>=0.4.0->langchain_chroma->-r requirements.txt (line 4)) (0.50b0)\n",
      "Requirement already satisfied: opentelemetry-semantic-conventions==0.50b0 in /Users/mohamednajiaboo/Desktop/DocumentChat/Document_Chat_Langchain/env/lib/python3.11/site-packages (from opentelemetry-instrumentation-fastapi>=0.41b0->chromadb!=0.5.4,!=0.5.5,<0.6.0,>=0.4.0->langchain_chroma->-r requirements.txt (line 4)) (0.50b0)\n",
      "Requirement already satisfied: opentelemetry-util-http==0.50b0 in /Users/mohamednajiaboo/Desktop/DocumentChat/Document_Chat_Langchain/env/lib/python3.11/site-packages (from opentelemetry-instrumentation-fastapi>=0.41b0->chromadb!=0.5.4,!=0.5.5,<0.6.0,>=0.4.0->langchain_chroma->-r requirements.txt (line 4)) (0.50b0)\n",
      "Requirement already satisfied: wrapt<2.0.0,>=1.0.0 in /Users/mohamednajiaboo/Desktop/DocumentChat/Document_Chat_Langchain/env/lib/python3.11/site-packages (from opentelemetry-instrumentation==0.50b0->opentelemetry-instrumentation-fastapi>=0.41b0->chromadb!=0.5.4,!=0.5.5,<0.6.0,>=0.4.0->langchain_chroma->-r requirements.txt (line 4)) (1.17.0)\n",
      "Requirement already satisfied: asgiref~=3.0 in /Users/mohamednajiaboo/Desktop/DocumentChat/Document_Chat_Langchain/env/lib/python3.11/site-packages (from opentelemetry-instrumentation-asgi==0.50b0->opentelemetry-instrumentation-fastapi>=0.41b0->chromadb!=0.5.4,!=0.5.5,<0.6.0,>=0.4.0->langchain_chroma->-r requirements.txt (line 4)) (3.8.1)\n",
      "Requirement already satisfied: monotonic>=1.5 in /Users/mohamednajiaboo/Desktop/DocumentChat/Document_Chat_Langchain/env/lib/python3.11/site-packages (from posthog>=2.4.0->chromadb!=0.5.4,!=0.5.5,<0.6.0,>=0.4.0->langchain_chroma->-r requirements.txt (line 4)) (1.6)\n",
      "Requirement already satisfied: backoff>=1.10.0 in /Users/mohamednajiaboo/Desktop/DocumentChat/Document_Chat_Langchain/env/lib/python3.11/site-packages (from posthog>=2.4.0->chromadb!=0.5.4,!=0.5.5,<0.6.0,>=0.4.0->langchain_chroma->-r requirements.txt (line 4)) (2.2.1)\n",
      "Requirement already satisfied: annotated-types>=0.6.0 in /Users/mohamednajiaboo/Desktop/DocumentChat/Document_Chat_Langchain/env/lib/python3.11/site-packages (from pydantic>=1.9->chromadb!=0.5.4,!=0.5.5,<0.6.0,>=0.4.0->langchain_chroma->-r requirements.txt (line 4)) (0.7.0)\n",
      "Requirement already satisfied: pydantic-core==2.27.2 in /Users/mohamednajiaboo/Desktop/DocumentChat/Document_Chat_Langchain/env/lib/python3.11/site-packages (from pydantic>=1.9->chromadb!=0.5.4,!=0.5.5,<0.6.0,>=0.4.0->langchain_chroma->-r requirements.txt (line 4)) (2.27.2)\n",
      "Requirement already satisfied: markdown-it-py>=2.2.0 in /Users/mohamednajiaboo/Desktop/DocumentChat/Document_Chat_Langchain/env/lib/python3.11/site-packages (from rich>=10.11.0->chromadb!=0.5.4,!=0.5.5,<0.6.0,>=0.4.0->langchain_chroma->-r requirements.txt (line 4)) (3.0.0)\n",
      "Requirement already satisfied: pygments<3.0.0,>=2.13.0 in /Users/mohamednajiaboo/Desktop/DocumentChat/Document_Chat_Langchain/env/lib/python3.11/site-packages (from rich>=10.11.0->chromadb!=0.5.4,!=0.5.5,<0.6.0,>=0.4.0->langchain_chroma->-r requirements.txt (line 4)) (2.18.0)\n",
      "Requirement already satisfied: huggingface-hub<1.0,>=0.16.4 in /Users/mohamednajiaboo/Desktop/DocumentChat/Document_Chat_Langchain/env/lib/python3.11/site-packages (from tokenizers<=0.20.3,>=0.13.2->chromadb!=0.5.4,!=0.5.5,<0.6.0,>=0.4.0->langchain_chroma->-r requirements.txt (line 4)) (0.27.0)\n",
      "Requirement already satisfied: click>=8.0.0 in /Users/mohamednajiaboo/Desktop/DocumentChat/Document_Chat_Langchain/env/lib/python3.11/site-packages (from typer>=0.9.0->chromadb!=0.5.4,!=0.5.5,<0.6.0,>=0.4.0->langchain_chroma->-r requirements.txt (line 4)) (8.1.8)\n",
      "Requirement already satisfied: shellingham>=1.3.0 in /Users/mohamednajiaboo/Desktop/DocumentChat/Document_Chat_Langchain/env/lib/python3.11/site-packages (from typer>=0.9.0->chromadb!=0.5.4,!=0.5.5,<0.6.0,>=0.4.0->langchain_chroma->-r requirements.txt (line 4)) (1.5.4)\n",
      "Requirement already satisfied: mypy-extensions>=0.3.0 in /Users/mohamednajiaboo/Desktop/DocumentChat/Document_Chat_Langchain/env/lib/python3.11/site-packages (from typing-inspect<1,>=0.4.0->dataclasses-json<0.7,>=0.5.7->langchain_community->-r requirements.txt (line 2)) (1.0.0)\n",
      "Requirement already satisfied: httptools>=0.6.3 in /Users/mohamednajiaboo/Desktop/DocumentChat/Document_Chat_Langchain/env/lib/python3.11/site-packages (from uvicorn[standard]>=0.18.3->chromadb!=0.5.4,!=0.5.5,<0.6.0,>=0.4.0->langchain_chroma->-r requirements.txt (line 4)) (0.6.4)\n",
      "Requirement already satisfied: uvloop!=0.15.0,!=0.15.1,>=0.14.0 in /Users/mohamednajiaboo/Desktop/DocumentChat/Document_Chat_Langchain/env/lib/python3.11/site-packages (from uvicorn[standard]>=0.18.3->chromadb!=0.5.4,!=0.5.5,<0.6.0,>=0.4.0->langchain_chroma->-r requirements.txt (line 4)) (0.21.0)\n",
      "Requirement already satisfied: watchfiles>=0.13 in /Users/mohamednajiaboo/Desktop/DocumentChat/Document_Chat_Langchain/env/lib/python3.11/site-packages (from uvicorn[standard]>=0.18.3->chromadb!=0.5.4,!=0.5.5,<0.6.0,>=0.4.0->langchain_chroma->-r requirements.txt (line 4)) (1.0.3)\n",
      "Requirement already satisfied: websockets>=10.4 in /Users/mohamednajiaboo/Desktop/DocumentChat/Document_Chat_Langchain/env/lib/python3.11/site-packages (from uvicorn[standard]>=0.18.3->chromadb!=0.5.4,!=0.5.5,<0.6.0,>=0.4.0->langchain_chroma->-r requirements.txt (line 4)) (14.1)\n",
      "Requirement already satisfied: cachetools<6.0,>=2.0.0 in /Users/mohamednajiaboo/Desktop/DocumentChat/Document_Chat_Langchain/env/lib/python3.11/site-packages (from google-auth>=1.0.1->kubernetes>=28.1.0->chromadb!=0.5.4,!=0.5.5,<0.6.0,>=0.4.0->langchain_chroma->-r requirements.txt (line 4)) (5.5.0)\n",
      "Requirement already satisfied: pyasn1-modules>=0.2.1 in /Users/mohamednajiaboo/Desktop/DocumentChat/Document_Chat_Langchain/env/lib/python3.11/site-packages (from google-auth>=1.0.1->kubernetes>=28.1.0->chromadb!=0.5.4,!=0.5.5,<0.6.0,>=0.4.0->langchain_chroma->-r requirements.txt (line 4)) (0.4.1)\n",
      "Requirement already satisfied: rsa<5,>=3.1.4 in /Users/mohamednajiaboo/Desktop/DocumentChat/Document_Chat_Langchain/env/lib/python3.11/site-packages (from google-auth>=1.0.1->kubernetes>=28.1.0->chromadb!=0.5.4,!=0.5.5,<0.6.0,>=0.4.0->langchain_chroma->-r requirements.txt (line 4)) (4.9)\n",
      "Requirement already satisfied: filelock in /Users/mohamednajiaboo/Desktop/DocumentChat/Document_Chat_Langchain/env/lib/python3.11/site-packages (from huggingface-hub<1.0,>=0.16.4->tokenizers<=0.20.3,>=0.13.2->chromadb!=0.5.4,!=0.5.5,<0.6.0,>=0.4.0->langchain_chroma->-r requirements.txt (line 4)) (3.16.1)\n",
      "Requirement already satisfied: fsspec>=2023.5.0 in /Users/mohamednajiaboo/Desktop/DocumentChat/Document_Chat_Langchain/env/lib/python3.11/site-packages (from huggingface-hub<1.0,>=0.16.4->tokenizers<=0.20.3,>=0.13.2->chromadb!=0.5.4,!=0.5.5,<0.6.0,>=0.4.0->langchain_chroma->-r requirements.txt (line 4)) (2024.12.0)\n",
      "Requirement already satisfied: zipp>=3.20 in /Users/mohamednajiaboo/Desktop/DocumentChat/Document_Chat_Langchain/env/lib/python3.11/site-packages (from importlib-metadata<=8.5.0,>=6.0->opentelemetry-api>=1.2.0->chromadb!=0.5.4,!=0.5.5,<0.6.0,>=0.4.0->langchain_chroma->-r requirements.txt (line 4)) (3.21.0)\n",
      "Requirement already satisfied: mdurl~=0.1 in /Users/mohamednajiaboo/Desktop/DocumentChat/Document_Chat_Langchain/env/lib/python3.11/site-packages (from markdown-it-py>=2.2.0->rich>=10.11.0->chromadb!=0.5.4,!=0.5.5,<0.6.0,>=0.4.0->langchain_chroma->-r requirements.txt (line 4)) (0.1.2)\n",
      "Requirement already satisfied: humanfriendly>=9.1 in /Users/mohamednajiaboo/Desktop/DocumentChat/Document_Chat_Langchain/env/lib/python3.11/site-packages (from coloredlogs->onnxruntime>=1.14.1->chromadb!=0.5.4,!=0.5.5,<0.6.0,>=0.4.0->langchain_chroma->-r requirements.txt (line 4)) (10.0)\n",
      "Requirement already satisfied: mpmath<1.4,>=1.1.0 in /Users/mohamednajiaboo/Desktop/DocumentChat/Document_Chat_Langchain/env/lib/python3.11/site-packages (from sympy->onnxruntime>=1.14.1->chromadb!=0.5.4,!=0.5.5,<0.6.0,>=0.4.0->langchain_chroma->-r requirements.txt (line 4)) (1.3.0)\n",
      "Requirement already satisfied: pyasn1<0.7.0,>=0.4.6 in /Users/mohamednajiaboo/Desktop/DocumentChat/Document_Chat_Langchain/env/lib/python3.11/site-packages (from pyasn1-modules>=0.2.1->google-auth>=1.0.1->kubernetes>=28.1.0->chromadb!=0.5.4,!=0.5.5,<0.6.0,>=0.4.0->langchain_chroma->-r requirements.txt (line 4)) (0.6.1)\n"
     ]
    }
   ],
   "source": [
    "!pip install -r requirements.txt"
   ]
  },
  {
   "cell_type": "code",
   "execution_count": 3,
   "metadata": {},
   "outputs": [
    {
     "data": {
      "text/plain": [
       "True"
      ]
     },
     "execution_count": 3,
     "metadata": {},
     "output_type": "execute_result"
    }
   ],
   "source": [
    "import os\n",
    "from dotenv import load_dotenv\n",
    "load_dotenv()"
   ]
  },
  {
   "cell_type": "code",
   "execution_count": 4,
   "metadata": {},
   "outputs": [],
   "source": [
    "from langchain_openai import ChatOpenAI\n",
    "llm = ChatOpenAI(model='gpt-4o')"
   ]
  },
  {
   "cell_type": "code",
   "execution_count": 5,
   "metadata": {},
   "outputs": [],
   "source": [
    "from langchain_community.tools import DuckDuckGoSearchResults"
   ]
  },
  {
   "cell_type": "code",
   "execution_count": 6,
   "metadata": {},
   "outputs": [
    {
     "name": "stderr",
     "output_type": "stream",
     "text": [
      "/Users/mohamednajiaboo/Desktop/DocumentChat/Document_Chat_Langchain/env/lib/python3.11/site-packages/langchain_community/utilities/duckduckgo_search.py:64: UserWarning: backend='api' is deprecated, using backend='auto'\n",
      "  ddgs_gen = ddgs.text(\n"
     ]
    },
    {
     "data": {
      "text/plain": [
       "\"snippet: Today, gray skies in the morning will gradually clear, leading to a warmer, sunnier afternoon. The highest temperature will be an enjoyable 64.4°F, while the lowest forecasted temperature is a cool 51.8°F. The day's maximum of 64.4°F shows a shift toward May's pattern over April's. Sunrise will be at 6:16 am and sunset at 7:35 pm; the daylight will last for 13h and 19min., title: Weather today - New York, NY, link: https://www.weather-atlas.com/en/new-york-usa/new-york, snippet: New York City Weather Forecasts. Weather Underground provides local & long-range weather forecasts, weatherreports, maps & tropical weather conditions for the New York City area., title: New York City, NY Weather Conditions | Weather Underground, link: https://www.wunderground.com/weather/us/ny/new-york-city\""
      ]
     },
     "execution_count": 6,
     "metadata": {},
     "output_type": "execute_result"
    }
   ],
   "source": [
    "search = DuckDuckGoSearchResults(num_results=2)\n",
    "search.invoke(\"Give me temperature in NY\")"
   ]
  },
  {
   "cell_type": "code",
   "execution_count": 7,
   "metadata": {},
   "outputs": [
    {
     "name": "stdout",
     "output_type": "stream",
     "text": [
      "Requirement already satisfied: duckduckgo-search in /Users/mohamednajiaboo/Desktop/DocumentChat/Document_Chat_Langchain/env/lib/python3.11/site-packages (8.0.0)\n",
      "Requirement already satisfied: click>=8.1.8 in /Users/mohamednajiaboo/Desktop/DocumentChat/Document_Chat_Langchain/env/lib/python3.11/site-packages (from duckduckgo-search) (8.1.8)\n",
      "Requirement already satisfied: primp>=0.14.0 in /Users/mohamednajiaboo/Desktop/DocumentChat/Document_Chat_Langchain/env/lib/python3.11/site-packages (from duckduckgo-search) (0.14.0)\n",
      "Requirement already satisfied: lxml>=5.3.0 in /Users/mohamednajiaboo/Desktop/DocumentChat/Document_Chat_Langchain/env/lib/python3.11/site-packages (from duckduckgo-search) (5.3.2)\n"
     ]
    }
   ],
   "source": [
    "!pip install duckduckgo-search"
   ]
  },
  {
   "cell_type": "code",
   "execution_count": 8,
   "metadata": {},
   "outputs": [],
   "source": [
    "web_search_tool = DuckDuckGoSearchResults(num_results=2)"
   ]
  },
  {
   "cell_type": "markdown",
   "metadata": {},
   "source": [
    "#RAG Tool \n",
    "- Load the document\n",
    "- Split document\n",
    "- save to vector db "
   ]
  },
  {
   "cell_type": "code",
   "execution_count": 9,
   "metadata": {},
   "outputs": [],
   "source": [
    "from langchain_community.document_loaders import PyPDFLoader, Docx2txtLoader\n",
    "from typing import List\n",
    "from langchain_core.documents import Document"
   ]
  },
  {
   "cell_type": "code",
   "execution_count": 10,
   "metadata": {},
   "outputs": [],
   "source": [
    "def load_document(folder_path: str) -> List[Document]:\n",
    "    document = []\n",
    "    for filename in os.listdir(folder_path):\n",
    "        fil_path = os.path.join(folder_path, filename)\n",
    "        if filename.endswith(\".pdf\"):\n",
    "            loader = PyPDFLoader(file_path=fil_path)\n",
    "        elif filename.endswith(\".docx\"):\n",
    "            loader = Docx2txtLoader(file_path=fil_path)\n",
    "        else:\n",
    "            print(f\"Unsupported file type\")\n",
    "        document.extend(loader.load())\n",
    "    return document\n"
   ]
  },
  {
   "cell_type": "code",
   "execution_count": 11,
   "metadata": {},
   "outputs": [],
   "source": [
    "folder_path = 'contents/docs'"
   ]
  },
  {
   "cell_type": "code",
   "execution_count": 12,
   "metadata": {},
   "outputs": [],
   "source": [
    "documents = load_document(folder_path=folder_path)"
   ]
  },
  {
   "cell_type": "code",
   "execution_count": 13,
   "metadata": {},
   "outputs": [
    {
     "name": "stdout",
     "output_type": "stream",
     "text": [
      "Loaded 8\n"
     ]
    }
   ],
   "source": [
    "print(f\"Loaded {len(documents)}\")"
   ]
  },
  {
   "cell_type": "code",
   "execution_count": 14,
   "metadata": {},
   "outputs": [],
   "source": [
    "from langchain_text_splitters import RecursiveCharacterTextSplitter"
   ]
  },
  {
   "cell_type": "code",
   "execution_count": 15,
   "metadata": {},
   "outputs": [],
   "source": [
    "text_splitter = RecursiveCharacterTextSplitter(\n",
    "    chunk_size =1000,\n",
    "    chunk_overlap = 200, \n",
    "    length_function = len\n",
    ")"
   ]
  },
  {
   "cell_type": "code",
   "execution_count": 16,
   "metadata": {},
   "outputs": [],
   "source": [
    "splits = text_splitter.split_documents(documents=documents)"
   ]
  },
  {
   "cell_type": "code",
   "execution_count": 17,
   "metadata": {},
   "outputs": [
    {
     "name": "stdout",
     "output_type": "stream",
     "text": [
      "17\n"
     ]
    }
   ],
   "source": [
    "print(len(splits))"
   ]
  },
  {
   "cell_type": "code",
   "execution_count": 18,
   "metadata": {},
   "outputs": [],
   "source": [
    "from langchain_chroma import Chroma\n",
    "from langchain_openai import OpenAIEmbeddings"
   ]
  },
  {
   "cell_type": "code",
   "execution_count": 19,
   "metadata": {},
   "outputs": [],
   "source": [
    "collection_name = \"my_collection\"\n",
    "vector_store = Chroma.from_documents(\n",
    "    collection_name=collection_name,\n",
    "    documents=splits,\n",
    "    embedding=OpenAIEmbeddings(),\n",
    "    persist_directory=\"./chroma_db\"\n",
    ")"
   ]
  },
  {
   "cell_type": "code",
   "execution_count": 20,
   "metadata": {},
   "outputs": [],
   "source": [
    "from langchain.tools import tool\n",
    "from pydantic import BaseModel"
   ]
  },
  {
   "cell_type": "code",
   "execution_count": 21,
   "metadata": {},
   "outputs": [],
   "source": [
    "class RagToolSchema(BaseModel):\n",
    "    question: str"
   ]
  },
  {
   "cell_type": "code",
   "execution_count": 22,
   "metadata": {},
   "outputs": [],
   "source": [
    "@tool(args_schema=RagToolSchema)\n",
    "def retriver_tool(question: str):\n",
    "    \"\"\"\n",
    "        Tool to retrieve semantically similar documents to answer related to company leave policy\n",
    "    \"\"\"\n",
    "    retriever = vector_store.as_retriever(search_kwargs={\"k\": 2})\n",
    "    retriever_result = retriever.invoke(question)\n",
    "    return \"\\n\\n\".join( doc.page_content for doc in retriever_result)\n"
   ]
  },
  {
   "cell_type": "code",
   "execution_count": 23,
   "metadata": {},
   "outputs": [
    {
     "data": {
      "text/plain": [
       "[Document(metadata={'page': 0, 'source': 'contents/docs/Leave-Policy-India.pdf'}, page_content='Leave Policy - INDIA'),\n",
       " Document(metadata={'page': 0, 'source': 'contents/docs/Leave-Policy-India.pdf'}, page_content='Leave Policy - INDIA')]"
      ]
     },
     "execution_count": 23,
     "metadata": {},
     "output_type": "execute_result"
    }
   ],
   "source": [
    "ret = vector_store.as_retriever(search_kwargs={\"k\": 2})\n",
    "ret.invoke(\"Give me leave policy\")"
   ]
  },
  {
   "cell_type": "code",
   "execution_count": 24,
   "metadata": {},
   "outputs": [
    {
     "name": "stdout",
     "output_type": "stream",
     "text": [
      "--2025-04-16 15:54:26--  https://github.com/lerocha/chinook-database/raw/master/ChinookDatabase/DataSources/Chinook_Sqlite.sqlite\n",
      "Resolving github.com (github.com)... 20.207.73.82\n",
      "Connecting to github.com (github.com)|20.207.73.82|:443... connected.\n",
      "HTTP request sent, awaiting response... 302 Found\n",
      "Location: https://raw.githubusercontent.com/lerocha/chinook-database/master/ChinookDatabase/DataSources/Chinook_Sqlite.sqlite [following]\n",
      "--2025-04-16 15:54:27--  https://raw.githubusercontent.com/lerocha/chinook-database/master/ChinookDatabase/DataSources/Chinook_Sqlite.sqlite\n",
      "Resolving raw.githubusercontent.com (raw.githubusercontent.com)... 185.199.110.133, 185.199.111.133, 185.199.109.133, ...\n",
      "Connecting to raw.githubusercontent.com (raw.githubusercontent.com)|185.199.110.133|:443... connected.\n",
      "HTTP request sent, awaiting response... 200 OK\n",
      "Length: 1067008 (1.0M) [application/octet-stream]\n",
      "Saving to: ‘Chinook_Sqlite.sqlite’\n",
      "\n",
      "Chinook_Sqlite.sqli 100%[===================>]   1.02M  1.98MB/s    in 0.5s    \n",
      "\n",
      "2025-04-16 15:54:28 (1.98 MB/s) - ‘Chinook_Sqlite.sqlite’ saved [1067008/1067008]\n",
      "\n"
     ]
    }
   ],
   "source": [
    "!wget https://github.com/lerocha/chinook-database/raw/master/ChinookDatabase/DataSources/Chinook_Sqlite.sqlite"
   ]
  },
  {
   "cell_type": "code",
   "execution_count": 25,
   "metadata": {},
   "outputs": [],
   "source": [
    "\n",
    "!mv Chinook_Sqlite.sqlite Chinook.db"
   ]
  },
  {
   "cell_type": "code",
   "execution_count": 26,
   "metadata": {},
   "outputs": [],
   "source": [
    "\n",
    "import re\n",
    "\n",
    "def clean_sql_query(text: str) -> str:\n",
    "    \"\"\"\n",
    "    Clean SQL query by removing code block syntax, various SQL tags, backticks,\n",
    "    prefixes, and unnecessary whitespace while preserving the core SQL query.\n",
    "\n",
    "    Args:\n",
    "        text (str): Raw SQL query text that may contain code blocks, tags, and backticks\n",
    "\n",
    "    Returns:\n",
    "        str: Cleaned SQL query\n",
    "    \"\"\"\n",
    "    # Step 1: Remove code block syntax and any SQL-related tags\n",
    "    # This handles variations like ```sql, ```SQL, ```SQLQuery, etc.\n",
    "    block_pattern = r\"```(?:sql|SQL|SQLQuery|mysql|postgresql)?\\s*(.*?)\\s*```\"\n",
    "    text = re.sub(block_pattern, r\"\\1\", text, flags=re.DOTALL)\n",
    "\n",
    "    # Step 2: Handle \"SQLQuery:\" prefix and similar variations\n",
    "    # This will match patterns like \"SQLQuery:\", \"SQL Query:\", \"MySQL:\", etc.\n",
    "    prefix_pattern = r\"^(?:SQL\\s*Query|SQLQuery|MySQL|PostgreSQL|SQL)\\s*:\\s*\"\n",
    "    text = re.sub(prefix_pattern, \"\", text, flags=re.IGNORECASE)\n",
    "\n",
    "    # Step 3: Extract the first SQL statement if there's random text after it\n",
    "    # Look for a complete SQL statement ending with semicolon\n",
    "    sql_statement_pattern = r\"(SELECT.*?;)\"\n",
    "    sql_match = re.search(sql_statement_pattern, text, flags=re.IGNORECASE | re.DOTALL)\n",
    "    if sql_match:\n",
    "        text = sql_match.group(1)\n",
    "\n",
    "    # Step 4: Remove backticks around identifiers\n",
    "    text = re.sub(r'`([^`]*)`', r'\\1', text)\n",
    "\n",
    "    # Step 5: Normalize whitespace\n",
    "    # Replace multiple spaces with single space\n",
    "    text = re.sub(r'\\s+', ' ', text)\n",
    "\n",
    "    # Step 6: Preserve newlines for main SQL keywords to maintain readability\n",
    "    keywords = ['SELECT', 'FROM', 'WHERE', 'GROUP BY', 'HAVING', 'ORDER BY',\n",
    "               'LIMIT', 'JOIN', 'LEFT JOIN', 'RIGHT JOIN', 'INNER JOIN',\n",
    "               'OUTER JOIN', 'UNION', 'VALUES', 'INSERT', 'UPDATE', 'DELETE']\n",
    "\n",
    "    # Case-insensitive replacement for keywords\n",
    "    pattern = '|'.join(r'\\b{}\\b'.format(k) for k in keywords)\n",
    "    text = re.sub(f'({pattern})', r'\\n\\1', text, flags=re.IGNORECASE)\n",
    "\n",
    "    # Step 7: Final cleanup\n",
    "    # Remove leading/trailing whitespace and extra newlines\n",
    "    text = text.strip()\n",
    "    text = re.sub(r'\\n\\s*\\n', '\\n', text)\n",
    "\n",
    "    return text\n"
   ]
  },
  {
   "cell_type": "code",
   "execution_count": 27,
   "metadata": {},
   "outputs": [],
   "source": [
    "from langchain.chains import create_sql_query_chain\n",
    "from langchain_community.tools.sql_database.tool import QuerySQLDataBaseTool\n",
    "from operator import itemgetter\n",
    "import re\n",
    "from langchain_core.output_parsers import StrOutputParser\n",
    "from langchain_core.prompts import PromptTemplate\n",
    "from langchain_core.runnables import RunnablePassthrough, RunnableLambda"
   ]
  },
  {
   "cell_type": "code",
   "execution_count": 28,
   "metadata": {},
   "outputs": [],
   "source": [
    "from langchain_community.utilities import SQLDatabase\n",
    "db = SQLDatabase.from_uri(\"sqlite:///Chinook.db\")"
   ]
  },
  {
   "cell_type": "code",
   "execution_count": 29,
   "metadata": {},
   "outputs": [],
   "source": [
    "class SQlToolSchema(BaseModel):\n",
    "    question : str"
   ]
  },
  {
   "cell_type": "code",
   "execution_count": 30,
   "metadata": {},
   "outputs": [],
   "source": [
    " from langchain.chains import create_sql_query_chain\n",
    " from langchain_community.tools.sql_database.tool import QuerySQLDataBaseTool\n",
    " from operator import itemgetter\n",
    " import re\n",
    " from langchain_core.output_parsers import StrOutputParser\n",
    " from langchain_core.prompts import PromptTemplate\n",
    " from langchain_core.runnables import RunnablePassthrough, RunnableLambda\n",
    "\n",
    " class SQLToolSchema(BaseModel):\n",
    "     question: str\n",
    "\n",
    " @tool(args_schema=SQLToolSchema)\n",
    " def nl2sql_tool(question):\n",
    "   \"\"\"Tool to Generate and Execute SQL Query to answer User Questions related to chinook DB\"\"\"\n",
    "   print(\"INSIDE NL2SQL TOOL\")\n",
    "   execute_query = QuerySQLDataBaseTool(db=db)\n",
    "   write_query = create_sql_query_chain(llm, db)\n",
    "\n",
    "   chain = (\n",
    "       RunnablePassthrough.assign(query=write_query | RunnableLambda(clean_sql_query)).assign(\n",
    "           result=itemgetter(\"query\") | execute_query\n",
    "       )\n",
    "   )\n",
    "\n",
    "   response = chain.invoke({\"question\": question})\n",
    "   return response['result']\n"
   ]
  },
  {
   "cell_type": "code",
   "execution_count": 31,
   "metadata": {},
   "outputs": [
    {
     "name": "stdout",
     "output_type": "stream",
     "text": [
      "INSIDE NL2SQL TOOL\n"
     ]
    },
    {
     "name": "stderr",
     "output_type": "stream",
     "text": [
      "/var/folders/rj/djrt00t535d50y8w12q37gfc0000gn/T/ipykernel_41938/2970222711.py:16: LangChainDeprecationWarning: The class `QuerySQLDataBaseTool` was deprecated in LangChain 0.3.12 and will be removed in 1.0. An updated version of the class exists in the :class:`~langchain-community package and should be used instead. To use it run `pip install -U :class:`~langchain-community` and import as `from :class:`~langchain_community.tools import QuerySQLDatabaseTool``.\n",
      "  execute_query = QuerySQLDataBaseTool(db=db)\n"
     ]
    }
   ],
   "source": [
    "question =\"How many employees are there?\"\n",
    "result = nl2sql_tool.invoke({\"question\": question})"
   ]
  },
  {
   "cell_type": "code",
   "execution_count": 32,
   "metadata": {},
   "outputs": [
    {
     "data": {
      "text/plain": [
       "'[(8,)]'"
      ]
     },
     "execution_count": 32,
     "metadata": {},
     "output_type": "execute_result"
    }
   ],
   "source": [
    "result"
   ]
  },
  {
   "cell_type": "code",
   "execution_count": 33,
   "metadata": {},
   "outputs": [],
   "source": [
    "tools =[ web_search_tool, retriver_tool, nl2sql_tool]\n",
    "llm_with_tools = llm.bind_tools(tools=tools)"
   ]
  },
  {
   "cell_type": "code",
   "execution_count": 34,
   "metadata": {},
   "outputs": [],
   "source": [
    "from typing import TypedDict\n",
    "from langgraph.prebuilt import ToolNode"
   ]
  },
  {
   "cell_type": "code",
   "execution_count": 35,
   "metadata": {},
   "outputs": [],
   "source": [
    "from langgraph.graph import StateGraph\n",
    "from langgraph.graph.message import add_messages\n",
    "from typing import Annotated"
   ]
  },
  {
   "cell_type": "code",
   "execution_count": 36,
   "metadata": {},
   "outputs": [],
   "source": [
    "class State(TypedDict):\n",
    "    messages : Annotated[list, add_messages]"
   ]
  },
  {
   "cell_type": "code",
   "execution_count": 45,
   "metadata": {},
   "outputs": [],
   "source": [
    "def chatbot(state: State):\n",
    "    return {\"messages\" : [llm_with_tools.invoke(state[\"messages\"])]}"
   ]
  },
  {
   "cell_type": "code",
   "execution_count": 46,
   "metadata": {},
   "outputs": [
    {
     "data": {
      "text/plain": [
       "<langgraph.graph.state.StateGraph at 0x1347d4910>"
      ]
     },
     "execution_count": 46,
     "metadata": {},
     "output_type": "execute_result"
    }
   ],
   "source": [
    "graph_builder = StateGraph(State)\n",
    "graph_builder.add_node(\"chatbot\", chatbot)\n",
    "\n",
    "tool_node = ToolNode(tools=[web_search_tool,retriver_tool,nl2sql_tool])\n",
    "graph_builder.add_node(\"tools\", tool_node)"
   ]
  },
  {
   "cell_type": "code",
   "execution_count": 47,
   "metadata": {},
   "outputs": [
    {
     "data": {
      "text/plain": [
       "<langgraph.graph.state.StateGraph at 0x1347d4910>"
      ]
     },
     "execution_count": 47,
     "metadata": {},
     "output_type": "execute_result"
    }
   ],
   "source": [
    "from langgraph.prebuilt import tools_condition\n",
    "graph_builder.add_conditional_edges(\"chatbot\", tools_condition)\n",
    "graph_builder.add_edge(\"tools\", \"chatbot\")\n",
    "graph_builder.set_entry_point(\"chatbot\")"
   ]
  },
  {
   "cell_type": "code",
   "execution_count": 48,
   "metadata": {},
   "outputs": [],
   "source": [
    "graph = graph_builder.compile()"
   ]
  },
  {
   "cell_type": "code",
   "execution_count": 49,
   "metadata": {},
   "outputs": [
    {
     "data": {
      "image/png": "[encoded data removed]",
      "text/plain": [
       "<IPython.core.display.Image object>"
      ]
     },
     "metadata": {},
     "output_type": "display_data"
    }
   ],
   "source": [
    "from IPython.display import Image, display\n",
    "display(Image(graph.get_graph().draw_mermaid_png()))"
   ]
  },
  {
   "cell_type": "code",
   "execution_count": 50,
   "metadata": {},
   "outputs": [],
   "source": [
    "config = {\"configurable\": {\"thread_id\": \"1\"}}"
   ]
  },
  {
   "cell_type": "code",
   "execution_count": 53,
   "metadata": {},
   "outputs": [
    {
     "name": "stdout",
     "output_type": "stream",
     "text": [
      "{'messages': [AIMessage(content='', additional_kwargs={'tool_calls': [{'id': 'call_R2DIhch0QGnkmizlZzouPIDe', 'function': {'arguments': '{\"question\":\"What is the total number of employees in the database?\"}', 'name': 'nl2sql_tool'}, 'type': 'function'}], 'refusal': None}, response_metadata={'token_usage': {'completion_tokens': 27, 'prompt_tokens': 144, 'total_tokens': 171, 'completion_tokens_details': {'accepted_prediction_tokens': 0, 'audio_tokens': 0, 'reasoning_tokens': 0, 'rejected_prediction_tokens': 0}, 'prompt_tokens_details': {'audio_tokens': 0, 'cached_tokens': 0}}, 'model_name': 'gpt-4o-2024-08-06', 'system_fingerprint': 'fp_92f14e8683', 'finish_reason': 'tool_calls', 'logprobs': None}, id='run-a4c81500-24de-4180-90b6-8be960f6bbe8-0', tool_calls=[{'name': 'nl2sql_tool', 'args': {'question': 'What is the total number of employees in the database?'}, 'id': 'call_R2DIhch0QGnkmizlZzouPIDe', 'type': 'tool_call'}], usage_metadata={'input_tokens': 144, 'output_tokens': 27, 'total_tokens': 171, 'input_token_details': {'audio': 0, 'cache_read': 0}, 'output_token_details': {'audio': 0, 'reasoning': 0}})]}\n",
      "INSIDE NL2SQL TOOL\n",
      "{'messages': [ToolMessage(content='Error: (sqlite3.OperationalError) near \"we\": syntax error\\n[SQL: SELECT COUNT(\"EmployeeId\") AS \"TotalEmployees\" \\nFROM \"Employee\" Assuming we run the above query, let\\'s move to the result. `plaintext]\\n(Background on this error at: https://sqlalche.me/e/20/e3q8)', name='nl2sql_tool', id='2ce904db-f64c-44d3-888c-4f59f07b5959', tool_call_id='call_R2DIhch0QGnkmizlZzouPIDe')]}\n",
      "{'messages': [AIMessage(content='', additional_kwargs={'tool_calls': [{'id': 'call_tOQICjnUUp87mOGforK6Zvm1', 'function': {'arguments': '{\"question\":\"How many employees are there in the Employee table?\"}', 'name': 'nl2sql_tool'}, 'type': 'function'}], 'refusal': None}, response_metadata={'token_usage': {'completion_tokens': 26, 'prompt_tokens': 252, 'total_tokens': 278, 'completion_tokens_details': {'accepted_prediction_tokens': 0, 'audio_tokens': 0, 'reasoning_tokens': 0, 'rejected_prediction_tokens': 0}, 'prompt_tokens_details': {'audio_tokens': 0, 'cached_tokens': 0}}, 'model_name': 'gpt-4o-2024-08-06', 'system_fingerprint': 'fp_92f14e8683', 'finish_reason': 'tool_calls', 'logprobs': None}, id='run-bee4ee53-2893-49a3-8f33-453592eb9e09-0', tool_calls=[{'name': 'nl2sql_tool', 'args': {'question': 'How many employees are there in the Employee table?'}, 'id': 'call_tOQICjnUUp87mOGforK6Zvm1', 'type': 'tool_call'}], usage_metadata={'input_tokens': 252, 'output_tokens': 26, 'total_tokens': 278, 'input_token_details': {'audio': 0, 'cache_read': 0}, 'output_token_details': {'audio': 0, 'reasoning': 0}})]}\n",
      "INSIDE NL2SQL TOOL\n",
      "{'messages': [ToolMessage(content='[(8,)]', name='nl2sql_tool', id='0ee62c4b-89d4-4516-9985-c4459c3e83a4', tool_call_id='call_tOQICjnUUp87mOGforK6Zvm1')]}\n",
      "{'messages': [AIMessage(content='The total number of employees in the database is 8.', additional_kwargs={'refusal': None}, response_metadata={'token_usage': {'completion_tokens': 14, 'prompt_tokens': 291, 'total_tokens': 305, 'completion_tokens_details': {'accepted_prediction_tokens': 0, 'audio_tokens': 0, 'reasoning_tokens': 0, 'rejected_prediction_tokens': 0}, 'prompt_tokens_details': {'audio_tokens': 0, 'cached_tokens': 0}}, 'model_name': 'gpt-4o-2024-08-06', 'system_fingerprint': 'fp_92f14e8683', 'finish_reason': 'stop', 'logprobs': None}, id='run-e5c54cc4-b194-44f5-a866-fa4b95c5c7cc-0', usage_metadata={'input_tokens': 291, 'output_tokens': 14, 'total_tokens': 305, 'input_token_details': {'audio': 0, 'cache_read': 0}, 'output_token_details': {'audio': 0, 'reasoning': 0}})]}\n",
      "{'messages': [AIMessage(content='', additional_kwargs={'tool_calls': [{'id': 'call_JaoX6czOuf5DdTUw5h63KXwG', 'function': {'arguments': '{\"question\":\"maternity leave policy\"}', 'name': 'retriver_tool'}, 'type': 'function'}], 'refusal': None}, response_metadata={'token_usage': {'completion_tokens': 20, 'prompt_tokens': 144, 'total_tokens': 164, 'completion_tokens_details': {'accepted_prediction_tokens': 0, 'audio_tokens': 0, 'reasoning_tokens': 0, 'rejected_prediction_tokens': 0}, 'prompt_tokens_details': {'audio_tokens': 0, 'cached_tokens': 0}}, 'model_name': 'gpt-4o-2024-08-06', 'system_fingerprint': 'fp_92f14e8683', 'finish_reason': 'tool_calls', 'logprobs': None}, id='run-1d9fe561-02be-4b7a-921f-4cc9425e2ed3-0', tool_calls=[{'name': 'retriver_tool', 'args': {'question': 'maternity leave policy'}, 'id': 'call_JaoX6czOuf5DdTUw5h63KXwG', 'type': 'tool_call'}], usage_metadata={'input_tokens': 144, 'output_tokens': 20, 'total_tokens': 164, 'input_token_details': {'audio': 0, 'cache_read': 0}, 'output_token_details': {'audio': 0, 'reasoning': 0}})]}\n",
      "{'messages': [ToolMessage(content='\\uf0b7 If such an employee who has been granted Maternity leave is found working in any other \\nestablishment during ones leave period, she shall forfeit her claim for Maternity leave and \\nwarrant disciplinary action. \\n\\uf0b7 If an employee resigns from employment during Maternity leave without resuming duty, \\nthe benefit shall be extended only up to the last day of employment with the Company. \\n\\uf0b7 Any additional leaves used beyond 225 days & the accumulated PL balance will be treated \\nas Loss of pay. \\n\\uf0b7 During the maternity leave, women employees will be considered as active employees for \\nperformance management process and variable pay outs if any. \\n \\n4.6 Paternity Leave  \\n \\nEligibility - 7 working days (excluding holidays & intervening weekends). \\nAccumulation - Cannot be accumulated or encashed. \\nMale employees whose spouse has given birth to a baby or is under medical supervision due to \\na maternity related emergency or situation can avail paternity leave for 7 working days. Paternity\\n\\n\\uf0b7 If such an employee who has been granted Maternity leave is found working in any other \\nestablishment during ones leave period, she shall forfeit her claim for Maternity leave and \\nwarrant disciplinary action. \\n\\uf0b7 If an employee resigns from employment during Maternity leave without resuming duty, \\nthe benefit shall be extended only up to the last day of employment with the Company. \\n\\uf0b7 Any additional leaves used beyond 225 days & the accumulated PL balance will be treated \\nas Loss of pay. \\n\\uf0b7 During the maternity leave, women employees will be considered as active employees for \\nperformance management process and variable pay outs if any. \\n \\n4.6 Paternity Leave  \\n \\nEligibility - 7 working days (excluding holidays & intervening weekends). \\nAccumulation - Cannot be accumulated or encashed. \\nMale employees whose spouse has given birth to a baby or is under medical supervision due to \\na maternity related emergency or situation can avail paternity leave for 7 working days. Paternity', name='retriver_tool', id='f009e850-c3c7-4e2b-b78c-9f21b74dc253', tool_call_id='call_JaoX6czOuf5DdTUw5h63KXwG')]}\n",
      "{'messages': [AIMessage(content=\"Here's a summary of the maternity leave policy:\\n\\n- **Working During Leave:** If an employee on maternity leave is found working elsewhere, she will forfeit her maternity leave rights and may face disciplinary action.\\n- **Resignation During Leave:** If an employee resigns during maternity leave without returning to work, the benefits will only be extended up to the last day of employment.\\n- **Additional Leave:** Any leave taken beyond 225 days and the accumulated paid leave (PL) balance will be treated as unpaid leave.\\n- **Performance Management:** During maternity leave, women employees are considered active for performance management processes and any variable payouts.\\n\\nAdditionally, for **paternity leave**:\\n\\n- **Eligibility:** 7 working days of leave (excluding holidays and weekends) for male employees.\\n- **Conditions:** This leave cannot be accumulated or cashed out. It is available for male employees whose spouse has given birth or is under medical supervision due to maternity-related emergencies.\", additional_kwargs={'refusal': None}, response_metadata={'token_usage': {'completion_tokens': 192, 'prompt_tokens': 577, 'total_tokens': 769, 'completion_tokens_details': {'accepted_prediction_tokens': 0, 'audio_tokens': 0, 'reasoning_tokens': 0, 'rejected_prediction_tokens': 0}, 'prompt_tokens_details': {'audio_tokens': 0, 'cached_tokens': 0}}, 'model_name': 'gpt-4o-2024-08-06', 'system_fingerprint': 'fp_92f14e8683', 'finish_reason': 'stop', 'logprobs': None}, id='run-e1761171-571c-4f25-a3db-babd5e9c8aad-0', usage_metadata={'input_tokens': 577, 'output_tokens': 192, 'total_tokens': 769, 'input_token_details': {'audio': 0, 'cache_read': 0}, 'output_token_details': {'audio': 0, 'reasoning': 0}})]}\n",
      "{'messages': [AIMessage(content='', additional_kwargs={'tool_calls': [{'id': 'call_VDQnAz8dZzU0p9pkhhW5ByY5', 'function': {'arguments': '{\"query\":\"GDP of California 2023\"}', 'name': 'duckduckgo_results_json'}, 'type': 'function'}], 'refusal': None}, response_metadata={'token_usage': {'completion_tokens': 24, 'prompt_tokens': 144, 'total_tokens': 168, 'completion_tokens_details': {'accepted_prediction_tokens': 0, 'audio_tokens': 0, 'reasoning_tokens': 0, 'rejected_prediction_tokens': 0}, 'prompt_tokens_details': {'audio_tokens': 0, 'cached_tokens': 0}}, 'model_name': 'gpt-4o-2024-08-06', 'system_fingerprint': 'fp_92f14e8683', 'finish_reason': 'tool_calls', 'logprobs': None}, id='run-2d776960-99b6-4356-9258-29b4459a4180-0', tool_calls=[{'name': 'duckduckgo_results_json', 'args': {'query': 'GDP of California 2023'}, 'id': 'call_VDQnAz8dZzU0p9pkhhW5ByY5', 'type': 'tool_call'}], usage_metadata={'input_tokens': 144, 'output_tokens': 24, 'total_tokens': 168, 'input_token_details': {'audio': 0, 'cache_read': 0}, 'output_token_details': {'audio': 0, 'reasoning': 0}})]}\n"
     ]
    },
    {
     "name": "stderr",
     "output_type": "stream",
     "text": [
      "/Users/mohamednajiaboo/Desktop/DocumentChat/Document_Chat_Langchain/env/lib/python3.11/site-packages/langchain_community/utilities/duckduckgo_search.py:64: UserWarning: backend='api' is deprecated, using backend='auto'\n",
      "  ddgs_gen = ddgs.text(\n"
     ]
    },
    {
     "name": "stdout",
     "output_type": "stream",
     "text": [
      "{'messages': [ToolMessage(content='snippet: California remains the 5th largest economy in the world since 2017. California is the 5th largest economy in the world for the seventh consecutive year, with a nominal GDP of nearly $3.9 trillion in 2023 and a growth rate of 6.1% since the year prior, according to the U.S. Bureau of Economic Analysis (BEA). On a per capita basis, California is ..., title: California Remains the World\\'s 5th Largest Economy, link: https://www.gov.ca.gov/2024/04/16/california-remains-the-worlds-5th-largest-economy/, snippet: About $3.2 trillion in 2023. Gross domestic product (GDP) measures the value of goods and services a country or state produces — it\\'s the sum of consumer spending, business investment, government spending, and net exports. It is often used to quantify the size of its economy. The $3.2 trillion is the \"real GDP,\" which is adjusted to account for inflation to make it easier to compare ..., title: What is the gross domestic product (GDP) in California, link: https://usafacts.org/answers/what-is-the-gross-domestic-product-gdp/state/california/', name='duckduckgo_results_json', id='39bd05eb-8b8e-43a2-acaf-64f935aceb52', tool_call_id='call_VDQnAz8dZzU0p9pkhhW5ByY5', artifact=[{'snippet': 'California remains the 5th largest economy in the world since 2017. California is the 5th largest economy in the world for the seventh consecutive year, with a nominal GDP of nearly $3.9 trillion in 2023 and a growth rate of 6.1% since the year prior, according to the U.S. Bureau of Economic Analysis (BEA). On a per capita basis, California is ...', 'title': \"California Remains the World's 5th Largest Economy\", 'link': 'https://www.gov.ca.gov/2024/04/16/california-remains-the-worlds-5th-largest-economy/'}, {'snippet': 'About $3.2 trillion in 2023. Gross domestic product (GDP) measures the value of goods and services a country or state produces — it\\'s the sum of consumer spending, business investment, government spending, and net exports. It is often used to quantify the size of its economy. The $3.2 trillion is the \"real GDP,\" which is adjusted to account for inflation to make it easier to compare ...', 'title': 'What is the gross domestic product (GDP) in California', 'link': 'https://usafacts.org/answers/what-is-the-gross-domestic-product-gdp/state/california/'}])]}\n",
      "{'messages': [AIMessage(content=\"In 2023, California's nominal GDP is nearly $3.9 trillion, making it the 5th largest economy in the world. The real GDP, which is adjusted for inflation, is about $3.2 trillion.\", additional_kwargs={'refusal': None}, response_metadata={'token_usage': {'completion_tokens': 49, 'prompt_tokens': 435, 'total_tokens': 484, 'completion_tokens_details': {'accepted_prediction_tokens': 0, 'audio_tokens': 0, 'reasoning_tokens': 0, 'rejected_prediction_tokens': 0}, 'prompt_tokens_details': {'audio_tokens': 0, 'cached_tokens': 0}}, 'model_name': 'gpt-4o-2024-08-06', 'system_fingerprint': 'fp_92f14e8683', 'finish_reason': 'stop', 'logprobs': None}, id='run-ab570a0d-e237-4fe6-8be1-6dc6b41b70ba-0', usage_metadata={'input_tokens': 435, 'output_tokens': 49, 'total_tokens': 484, 'input_token_details': {'audio': 0, 'cache_read': 0}, 'output_token_details': {'audio': 0, 'reasoning': 0}})]}\n",
      "{'messages': [AIMessage(content='Hello! How can I assist you today?', additional_kwargs={'refusal': None}, response_metadata={'token_usage': {'completion_tokens': 11, 'prompt_tokens': 137, 'total_tokens': 148, 'completion_tokens_details': {'accepted_prediction_tokens': 0, 'audio_tokens': 0, 'reasoning_tokens': 0, 'rejected_prediction_tokens': 0}, 'prompt_tokens_details': {'audio_tokens': 0, 'cached_tokens': 0}}, 'model_name': 'gpt-4o-2024-08-06', 'system_fingerprint': 'fp_92f14e8683', 'finish_reason': 'stop', 'logprobs': None}, id='run-867ad595-e17c-4cbe-ae77-2e42ca7245b2-0', usage_metadata={'input_tokens': 137, 'output_tokens': 11, 'total_tokens': 148, 'input_token_details': {'audio': 0, 'cache_read': 0}, 'output_token_details': {'audio': 0, 'reasoning': 0}})]}\n",
      "Good Bye\n"
     ]
    }
   ],
   "source": [
    "while True:\n",
    "    user_input = input(\"User: \")\n",
    "    if user_input.lower() in [\"q\", \"exit\"]:\n",
    "        print(\"Good Bye\")\n",
    "\n",
    "        break\n",
    "    for event in graph.stream({\"messages\": [(\"user\", user_input)]}, config):\n",
    "        for value in event.values():\n",
    "            print(value)\n",
    "            #print(\"Assistant:\", value[\"messages\"[-1]].content)"
   ]
  },
  {
   "cell_type": "code",
   "execution_count": null,
   "metadata": {},
   "outputs": [],
   "source": []
  }
 ],
 "metadata": {
  "kernelspec": {
   "display_name": "Python 3",
   "language": "python",
   "name": "python3"
  },
  "language_info": {
   "codemirror_mode": {
    "name": "ipython",
    "version": 3
   },
   "file_extension": ".py",
   "mimetype": "text/x-python",
   "name": "python",
   "nbconvert_exporter": "python",
   "pygments_lexer": "ipython3",
   "version": "3.11.11"
  }
 },
 "nbformat": 4,
 "nbformat_minor": 2
}
