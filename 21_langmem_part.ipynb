{
 "cells": [
  {
   "cell_type": "markdown",
   "id": "f11e4550",
   "metadata": {},
   "source": [
    "# Long Term Memory\n",
    "- Cross thread memory to store user-specific or application specific\n",
    "- Useful for applications like chatbot to remember user preference"
   ]
  },
  {
   "cell_type": "markdown",
   "id": "b76ca7d6",
   "metadata": {},
   "source": [
    "## Key Points\n",
    "- Namespace\n",
    "- embedding model"
   ]
  },
  {
   "cell_type": "code",
   "execution_count": 104,
   "id": "5a881745",
   "metadata": {},
   "outputs": [],
   "source": [
    "from langchain.embeddings import init_embeddings\n",
    "from langgraph.store.memory import InMemoryStore"
   ]
  },
  {
   "cell_type": "code",
   "execution_count": 105,
   "id": "fe645656",
   "metadata": {},
   "outputs": [],
   "source": [
    "embeddings = init_embeddings(\n",
    "    'openai: text-embedding-3-small'\n",
    ")"
   ]
  },
  {
   "cell_type": "code",
   "execution_count": 106,
   "id": "82f81e4e",
   "metadata": {},
   "outputs": [],
   "source": [
    "store = InMemoryStore(\n",
    "   index = { \"embed\": embeddings, \n",
    "    \"dim\": 1536}\n",
    ")"
   ]
  },
  {
   "cell_type": "code",
   "execution_count": 107,
   "id": "fb6b2768",
   "metadata": {},
   "outputs": [],
   "source": [
    "namespace = (\"user_1\", \"memories\")"
   ]
  },
  {
   "cell_type": "code",
   "execution_count": 108,
   "id": "31de23b8",
   "metadata": {},
   "outputs": [],
   "source": [
    "store.put(namespace, \"1\", {\"text\": \" I love pizza\"})"
   ]
  },
  {
   "cell_type": "code",
   "execution_count": 109,
   "id": "968c6a96",
   "metadata": {},
   "outputs": [],
   "source": [
    "store.put(namespace, \"2\", {\"text\": \"I prefer italina food\"})"
   ]
  },
  {
   "cell_type": "code",
   "execution_count": 110,
   "id": "a4c6dba1",
   "metadata": {},
   "outputs": [],
   "source": [
    "store.put(namespace, \"3\", {\"text\": \"I dont like spicy food\"})\n",
    "store.put(namespace, \"4\", {\"text\": \"I love japaneese food\"})"
   ]
  },
  {
   "cell_type": "code",
   "execution_count": 111,
   "id": "afb77039",
   "metadata": {},
   "outputs": [],
   "source": [
    "memories = store.search(\n",
    "    namespace, query=\"I like food\", limit=4\n",
    ")"
   ]
  },
  {
   "cell_type": "code",
   "execution_count": 112,
   "id": "5dc2998f",
   "metadata": {},
   "outputs": [
    {
     "data": {
      "text/plain": [
       "[Item(namespace=['user_1', 'memories'], key='2', value={'text': 'I prefer italina food'}, created_at='2025-06-12T12:24:37.510883+00:00', updated_at='2025-06-12T12:24:37.510896+00:00', score=0.4610445501208644),\n",
       " Item(namespace=['user_1', 'memories'], key='4', value={'text': 'I love japaneese food'}, created_at='2025-06-12T12:24:38.396728+00:00', updated_at='2025-06-12T12:24:38.396740+00:00', score=0.4510500287410169),\n",
       " Item(namespace=['user_1', 'memories'], key='3', value={'text': 'I dont like spicy food'}, created_at='2025-06-12T12:24:38.019889+00:00', updated_at='2025-06-12T12:24:38.019903+00:00', score=0.3952332248434571),\n",
       " Item(namespace=['user_1', 'memories'], key='1', value={'text': ' I love pizza'}, created_at='2025-06-12T12:24:36.897932+00:00', updated_at='2025-06-12T12:24:36.897948+00:00', score=0.37500770477215534)]"
      ]
     },
     "execution_count": 112,
     "metadata": {},
     "output_type": "execute_result"
    }
   ],
   "source": [
    "memories"
   ]
  },
  {
   "cell_type": "code",
   "execution_count": 113,
   "id": "28ff96a5",
   "metadata": {},
   "outputs": [],
   "source": [
    "from typing import Optional\n",
    "from langchain.chat_models import init_chat_model\n",
    "from langgraph.store.base import BaseStore\n",
    "from langgraph.graph import START, MessagesState, StateGraph\n"
   ]
  },
  {
   "cell_type": "code",
   "execution_count": 114,
   "id": "367eb568",
   "metadata": {},
   "outputs": [],
   "source": [
    "llm = init_chat_model(\"openai:gpt-4o-mini\")"
   ]
  },
  {
   "cell_type": "code",
   "execution_count": null,
   "id": "557e7fe2",
   "metadata": {},
   "outputs": [],
   "source": [
    "def chat(state, *, store: BaseStore):\n",
    "    msg = state[\"messages\"][-1]\n",
    "    print(f\"My message or my query {msg}\")\n",
    "\n",
    "    if msg.content.startswith(\"remember\"):\n",
    "        text = msg.content[len(\"remember\"):].strip()\n",
    "        store.put(namespace, \"6\", {\"text\": text})\n",
    "\n",
    "    items = store.search(namespace, query=msg.content, limit=5)\n",
    "        \n",
    "    memories = \"\\n\".join( item.value[\"text\"] for item in items)\n",
    "    print(f\"my memories {memories}\")\n",
    "    memories_prompt = f\" ## Memories of user \\n {memories}\" if memories else \"\"\n",
    "    response = llm.invoke(\n",
    "        [\n",
    "            {\"role\": \"system\", \"content\": f\" you are a helpful assistant. \\n {memories_prompt}\"},\n",
    "            *state[\"messages\"]\n",
    "        ]\n",
    "    )\n",
    "    return {\"messages\": [response]}\n"
   ]
  },
  {
   "cell_type": "code",
   "execution_count": null,
   "id": "3ad11e23",
   "metadata": {},
   "outputs": [],
   "source": []
  },
  {
   "cell_type": "code",
   "execution_count": 126,
   "id": "eb5bfd86",
   "metadata": {},
   "outputs": [
    {
     "data": {
      "text/plain": [
       "<langgraph.graph.state.StateGraph at 0x1359e1590>"
      ]
     },
     "execution_count": 126,
     "metadata": {},
     "output_type": "execute_result"
    }
   ],
   "source": [
    "builder = StateGraph(MessagesState)\n",
    "builder.add_node(chat)\n",
    "builder.add_edge(START, \"chat\")\n"
   ]
  },
  {
   "cell_type": "code",
   "execution_count": 127,
   "id": "f19fcc06",
   "metadata": {},
   "outputs": [],
   "source": [
    "graph = builder.compile(store=store)"
   ]
  },
  {
   "cell_type": "code",
   "execution_count": 128,
   "id": "98438106",
   "metadata": {},
   "outputs": [
    {
     "name": "stdout",
     "output_type": "stream",
     "text": [
      "Final answer\n"
     ]
    }
   ],
   "source": [
    "print(\"Final answer\")"
   ]
  },
  {
   "cell_type": "code",
   "execution_count": 131,
   "id": "aa833048",
   "metadata": {},
   "outputs": [
    {
     "name": "stdout",
     "output_type": "stream",
     "text": [
      "My message or my query content='which food do i like?' additional_kwargs={} response_metadata={} id='b1f68b73-7ad5-4772-b0bb-b14d62f21eb1'\n",
      "my memories I prefer italina food\n",
      "I love japaneese food\n",
      "I dont like spicy food\n",
      " I love pizza\n",
      "I love apples\n",
      " You  like  Italian  food ,  Japanese  food ,  pizza ,  and  apples .  You  also  do  not  like  spicy  food .  "
     ]
    }
   ],
   "source": [
    "for message, metadata in graph.stream(\n",
    "    input={\"messages\": [{\"role\": \"user\", \"content\": \"which food do i like?\"}]}, \n",
    "    stream_mode=\"messages\"\n",
    "):\n",
    "   \n",
    "    print(message.content, end=\" \")"
   ]
  },
  {
   "cell_type": "code",
   "execution_count": null,
   "id": "d701f111",
   "metadata": {},
   "outputs": [],
   "source": []
  },
  {
   "cell_type": "code",
   "execution_count": null,
   "id": "767c0fe8",
   "metadata": {},
   "outputs": [],
   "source": []
  }
 ],
 "metadata": {
  "kernelspec": {
   "display_name": "Python 3",
   "language": "python",
   "name": "python3"
  },
  "language_info": {
   "codemirror_mode": {
    "name": "ipython",
    "version": 3
   },
   "file_extension": ".py",
   "mimetype": "text/x-python",
   "name": "python",
   "nbconvert_exporter": "python",
   "pygments_lexer": "ipython3",
   "version": "3.11.11"
  }
 },
 "nbformat": 4,
 "nbformat_minor": 5
}
