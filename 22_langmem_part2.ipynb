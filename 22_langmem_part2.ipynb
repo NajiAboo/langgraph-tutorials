{
 "cells": [
  {
   "cell_type": "code",
   "execution_count": 3,
   "id": "8cd23451",
   "metadata": {},
   "outputs": [],
   "source": [
    "from langgraph.prebuilt import create_react_agent\n",
    "from langmem import create_manage_memory_tool, create_search_memory_tool"
   ]
  },
  {
   "cell_type": "code",
   "execution_count": 4,
   "id": "01392e5b",
   "metadata": {},
   "outputs": [],
   "source": [
    "from langgraph.store.memory import InMemoryStore"
   ]
  },
  {
   "cell_type": "code",
   "execution_count": 5,
   "id": "a9ef16d1",
   "metadata": {},
   "outputs": [],
   "source": [
    "store = InMemoryStore(\n",
    "    index={\n",
    "        \"dim\": 1536,\n",
    "        \"embed\": \"openai:text-embedding-3-small\"\n",
    "    }\n",
    ")"
   ]
  },
  {
   "cell_type": "code",
   "execution_count": 7,
   "id": "b0922a4c",
   "metadata": {},
   "outputs": [],
   "source": [
    "agent = create_react_agent(\n",
    "    model=\"openai:gpt-4o\",\n",
    "    tools=[\n",
    "        create_manage_memory_tool(namespace=(\"memories\",)),\n",
    "        create_search_memory_tool(namespace=(\"memories\",))\n",
    "    ],\n",
    "    store=store\n",
    ")"
   ]
  },
  {
   "cell_type": "code",
   "execution_count": 8,
   "id": "5bc7a2fe",
   "metadata": {},
   "outputs": [
    {
     "data": {
      "text/plain": [
       "{'messages': [HumanMessage(content='I prefer dark mode.', additional_kwargs={}, response_metadata={}, id='ed620db1-e09f-4793-88f4-af29cd698889'),\n",
       "  AIMessage(content='', additional_kwargs={'tool_calls': [{'id': 'call_kAfAsFZZ0G2jxQKdr0coSiwY', 'function': {'arguments': '{\"content\":\"User prefers dark mode.\",\"action\":\"create\"}', 'name': 'manage_memory'}, 'type': 'function'}], 'refusal': None}, response_metadata={'token_usage': {'completion_tokens': 21, 'prompt_tokens': 243, 'total_tokens': 264, 'completion_tokens_details': {'accepted_prediction_tokens': 0, 'audio_tokens': 0, 'reasoning_tokens': 0, 'rejected_prediction_tokens': 0}, 'prompt_tokens_details': {'audio_tokens': 0, 'cached_tokens': 0}}, 'model_name': 'gpt-4o-2024-08-06', 'system_fingerprint': 'fp_a288987b44', 'id': 'chatcmpl-BiJgSZ3k1z0DnfYEqfKK5e9sQl7fO', 'finish_reason': 'tool_calls', 'logprobs': None}, id='run--467d11c7-4ea9-4946-827a-f1ea937a550e-0', tool_calls=[{'name': 'manage_memory', 'args': {'content': 'User prefers dark mode.', 'action': 'create'}, 'id': 'call_kAfAsFZZ0G2jxQKdr0coSiwY', 'type': 'tool_call'}], usage_metadata={'input_tokens': 243, 'output_tokens': 21, 'total_tokens': 264, 'input_token_details': {'audio': 0, 'cache_read': 0}, 'output_token_details': {'audio': 0, 'reasoning': 0}}),\n",
       "  ToolMessage(content='created memory d770a661-1ffb-46e1-8126-eee5bf5c501e', name='manage_memory', id='c67fade1-028c-4ba8-b356-fa35cb0c1a34', tool_call_id='call_kAfAsFZZ0G2jxQKdr0coSiwY'),\n",
       "  AIMessage(content=\"Got it! I've noted that you prefer dark mode.\", additional_kwargs={'refusal': None}, response_metadata={'token_usage': {'completion_tokens': 12, 'prompt_tokens': 297, 'total_tokens': 309, 'completion_tokens_details': {'accepted_prediction_tokens': 0, 'audio_tokens': 0, 'reasoning_tokens': 0, 'rejected_prediction_tokens': 0}, 'prompt_tokens_details': {'audio_tokens': 0, 'cached_tokens': 0}}, 'model_name': 'gpt-4o-2024-08-06', 'system_fingerprint': 'fp_07871e2ad8', 'id': 'chatcmpl-BiJgUs2xKWL6IusXjlITmjZXstOfK', 'finish_reason': 'stop', 'logprobs': None}, id='run--b1931a30-0304-411f-a8b1-fe63b70902ba-0', usage_metadata={'input_tokens': 297, 'output_tokens': 12, 'total_tokens': 309, 'input_token_details': {'audio': 0, 'cache_read': 0}, 'output_token_details': {'audio': 0, 'reasoning': 0}})]}"
      ]
     },
     "execution_count": 8,
     "metadata": {},
     "output_type": "execute_result"
    }
   ],
   "source": [
    "agent.invoke(\n",
    "    {\n",
    "        \"messages\": [{'role': \"user\", \"content\": \"I prefer dark mode.\"}]\n",
    "    }\n",
    ")"
   ]
  },
  {
   "cell_type": "code",
   "execution_count": 9,
   "id": "d59e7913",
   "metadata": {},
   "outputs": [
    {
     "data": {
      "text/plain": [
       "{'messages': [HumanMessage(content='what is my preference', additional_kwargs={}, response_metadata={}, id='13a8572a-aa74-4712-9831-6a3d4556c849'),\n",
       "  AIMessage(content='', additional_kwargs={'tool_calls': [{'id': 'call_6E98or7MkQW4PtOFnEIJUd0f', 'function': {'arguments': '{\"query\":\"user preference\"}', 'name': 'search_memory'}, 'type': 'function'}], 'refusal': None}, response_metadata={'token_usage': {'completion_tokens': 15, 'prompt_tokens': 242, 'total_tokens': 257, 'completion_tokens_details': {'accepted_prediction_tokens': 0, 'audio_tokens': 0, 'reasoning_tokens': 0, 'rejected_prediction_tokens': 0}, 'prompt_tokens_details': {'audio_tokens': 0, 'cached_tokens': 0}}, 'model_name': 'gpt-4o-2024-08-06', 'system_fingerprint': 'fp_a288987b44', 'id': 'chatcmpl-BiJglvzLqOTYfErI7XimqP120AtTV', 'finish_reason': 'tool_calls', 'logprobs': None}, id='run--40659c3b-b6ff-4735-803f-8ad11cefca69-0', tool_calls=[{'name': 'search_memory', 'args': {'query': 'user preference'}, 'id': 'call_6E98or7MkQW4PtOFnEIJUd0f', 'type': 'tool_call'}], usage_metadata={'input_tokens': 242, 'output_tokens': 15, 'total_tokens': 257, 'input_token_details': {'audio': 0, 'cache_read': 0}, 'output_token_details': {'audio': 0, 'reasoning': 0}}),\n",
       "  ToolMessage(content='[{\"namespace\":[\"memories\"],\"key\":\"d770a661-1ffb-46e1-8126-eee5bf5c501e\",\"value\":{\"content\":\"User prefers dark mode.\"},\"created_at\":\"2025-06-14T11:49:58.118776+00:00\",\"updated_at\":\"2025-06-14T11:49:58.118784+00:00\",\"score\":0.38420238840766835}]', name='search_memory', id='d83ff93f-13e8-46fe-9355-40ca26652b61', tool_call_id='call_6E98or7MkQW4PtOFnEIJUd0f'),\n",
       "  AIMessage(content=\"Your current recorded preference is that you prefer dark mode. If there's anything else you'd like to add or update, feel free to let me know!\", additional_kwargs={'refusal': None}, response_metadata={'token_usage': {'completion_tokens': 30, 'prompt_tokens': 366, 'total_tokens': 396, 'completion_tokens_details': {'accepted_prediction_tokens': 0, 'audio_tokens': 0, 'reasoning_tokens': 0, 'rejected_prediction_tokens': 0}, 'prompt_tokens_details': {'audio_tokens': 0, 'cached_tokens': 0}}, 'model_name': 'gpt-4o-2024-08-06', 'system_fingerprint': 'fp_a288987b44', 'id': 'chatcmpl-BiJgmKxU5XSkgMDupp7bC63BIJOzP', 'finish_reason': 'stop', 'logprobs': None}, id='run--75c3db97-c977-4e16-bd81-6be07cbb94c7-0', usage_metadata={'input_tokens': 366, 'output_tokens': 30, 'total_tokens': 396, 'input_token_details': {'audio': 0, 'cache_read': 0}, 'output_token_details': {'audio': 0, 'reasoning': 0}})]}"
      ]
     },
     "execution_count": 9,
     "metadata": {},
     "output_type": "execute_result"
    }
   ],
   "source": [
    "agent.invoke(\n",
    "    {\n",
    "        \"messages\": [{'role': \"user\", \"content\": \"what is my preference\"}]\n",
    "    }\n",
    ")"
   ]
  },
  {
   "cell_type": "code",
   "execution_count": null,
   "id": "d2016d6e",
   "metadata": {},
   "outputs": [],
   "source": []
  }
 ],
 "metadata": {
  "kernelspec": {
   "display_name": "Python 3",
   "language": "python",
   "name": "python3"
  },
  "language_info": {
   "codemirror_mode": {
    "name": "ipython",
    "version": 3
   },
   "file_extension": ".py",
   "mimetype": "text/x-python",
   "name": "python",
   "nbconvert_exporter": "python",
   "pygments_lexer": "ipython3",
   "version": "3.11.11"
  }
 },
 "nbformat": 4,
 "nbformat_minor": 5
}
