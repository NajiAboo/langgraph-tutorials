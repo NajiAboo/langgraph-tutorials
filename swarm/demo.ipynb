{
 "cells": [
  {
   "cell_type": "code",
   "execution_count": 27,
   "id": "b74b0e04",
   "metadata": {},
   "outputs": [],
   "source": [
    "def arithmetic_tool(operation: str, a: float, b: float) -> float:\n",
    "    \"\"\"\n",
    "    Perform basic arithmetic operations.\n",
    "    \n",
    "    Args:\n",
    "        operation (str): One of '+', '-', '*', '/', '**', '%'\n",
    "        a (float): First operand\n",
    "        b (float): Second operand\n",
    "\n",
    "    Returns:\n",
    "        float: Result of the operation\n",
    "\n",
    "    Raises:\n",
    "        ValueError: If operation is unsupported or division by zero\n",
    "    \"\"\"\n",
    "    operations = {\n",
    "        '+': lambda x, y: x + y,\n",
    "        '-': lambda x, y: x - y,\n",
    "        '*': lambda x, y: x * y,\n",
    "        '/': lambda x, y: x / y if y != 0 else (_ for _ in ()).throw(ValueError(\"Division by zero\")),\n",
    "        '**': lambda x, y: x ** y,\n",
    "        '%': lambda x, y: x % y if y != 0 else (_ for _ in ()).throw(ValueError(\"Modulo by zero\")),\n",
    "    }\n",
    "\n",
    "    if operation not in operations:\n",
    "        raise ValueError(f\"Unsupported operation: {operation}\")\n",
    "\n",
    "    return operations[operation](a, b)"
   ]
  },
  {
   "cell_type": "code",
   "execution_count": 28,
   "id": "26406a2c",
   "metadata": {},
   "outputs": [],
   "source": [
    "def get_weather(place: str) -> int:\n",
    "    \"\"\"Return the current temperature in Fahrenheit for a given place.\"\"\"\n",
    "    place = place.lower().strip()  # Normalize input\n",
    "    if place == \"newyork\":\n",
    "        return 55  # ~13°C — typical spring/fall day\n",
    "    elif place == \"chicago\":\n",
    "        return 30  # ~ -1°C — plausible winter day\n",
    "    else:\n",
    "        return 40  # Default fallback (~4°C)        "
   ]
  },
  {
   "cell_type": "code",
   "execution_count": 29,
   "id": "d1267994",
   "metadata": {},
   "outputs": [
    {
     "data": {
      "text/plain": [
       "True"
      ]
     },
     "execution_count": 29,
     "metadata": {},
     "output_type": "execute_result"
    }
   ],
   "source": [
    "from dotenv import load_dotenv\n",
    "load_dotenv()"
   ]
  },
  {
   "cell_type": "code",
   "execution_count": 30,
   "id": "4c2556d2",
   "metadata": {},
   "outputs": [],
   "source": [
    "from langchain_openai import ChatOpenAI\n",
    "from langgraph.prebuilt import create_react_agent\n",
    "from langgraph_swarm import create_handoff_tool, create_swarm"
   ]
  },
  {
   "cell_type": "code",
   "execution_count": 31,
   "id": "f3c73647",
   "metadata": {},
   "outputs": [],
   "source": [
    "model1 = ChatOpenAI(model=\"gpt-4o\")\n",
    "model2 = ChatOpenAI(model=\"gpt-4o\")\n",
    "model3 = ChatOpenAI(model=\"gpt-4o\")"
   ]
  },
  {
   "cell_type": "code",
   "execution_count": 32,
   "id": "fa7b161c",
   "metadata": {},
   "outputs": [],
   "source": [
    "# welcome_agent\n",
    "# calculator_agent\n",
    "# weather_agent"
   ]
  },
  {
   "cell_type": "code",
   "execution_count": 33,
   "id": "db21350e",
   "metadata": {},
   "outputs": [],
   "source": [
    "welcome_agent_tools = [create_handoff_tool(agent_name=\"calculator_agent\"), create_handoff_tool(agent_name=\"weather_agent\")]"
   ]
  },
  {
   "cell_type": "code",
   "execution_count": 34,
   "id": "f7a29805",
   "metadata": {},
   "outputs": [],
   "source": [
    "welcome_agent = create_react_agent(\n",
    "    model=model1.bind_tools(welcome_agent_tools, parallel_tool_calls=False), \n",
    "    tools=welcome_agent_tools, \n",
    "    prompt=\"You are a welcome agent, Whenever a greetings says, you need to do the greeting back\", \n",
    "    name=\"welcome_agent\"\n",
    ")"
   ]
  },
  {
   "cell_type": "code",
   "execution_count": 35,
   "id": "1b6f4201",
   "metadata": {},
   "outputs": [],
   "source": [
    "calculator_agent_tools = [arithmetic_tool, create_handoff_tool(agent_name=\"welcome_agent\"), create_handoff_tool(agent_name=\"weather_agent\")]\n",
    "calculator_agent = create_react_agent(\n",
    "    model=model2.bind_tools(calculator_agent_tools, parallel_tool_calls=False), \n",
    "    tools=calculator_agent_tools,\n",
    "    prompt=\"Calculator agent for add, subtract, multiplication and division\", \n",
    "    name=\"calculator_agent\"\n",
    ")"
   ]
  },
  {
   "cell_type": "code",
   "execution_count": 36,
   "id": "d95b4de6",
   "metadata": {},
   "outputs": [],
   "source": [
    "weather_agent_tool =[get_weather, create_handoff_tool(agent_name='welcome_agent'), create_handoff_tool(agent_name=\"calculator_agent\")]\n",
    "weather_agent = create_react_agent(\n",
    "    model=model3.bind_tools(weather_agent_tool, parallel_tool_calls=False), \n",
    "    tools=weather_agent_tool, \n",
    "    prompt=\"YOu are responsible to return weather in a place\", \n",
    "    name=\"weather_agent\"\n",
    ")"
   ]
  },
  {
   "cell_type": "code",
   "execution_count": 37,
   "id": "25caf8f8",
   "metadata": {},
   "outputs": [],
   "source": [
    "workflow = create_swarm(\n",
    "    [calculator_agent, welcome_agent, weather_agent],\n",
    "    default_active_agent=\"welcome_agent\"\n",
    ")"
   ]
  },
  {
   "cell_type": "code",
   "execution_count": 38,
   "id": "cd057a68",
   "metadata": {},
   "outputs": [],
   "source": [
    "from langgraph.checkpoint.memory import InMemorySaver"
   ]
  },
  {
   "cell_type": "code",
   "execution_count": 39,
   "id": "13653329",
   "metadata": {},
   "outputs": [],
   "source": [
    "checkpointer = InMemorySaver()"
   ]
  },
  {
   "cell_type": "code",
   "execution_count": 40,
   "id": "4c492a38",
   "metadata": {},
   "outputs": [],
   "source": [
    "langgraph_app = workflow.compile(checkpointer=checkpointer)"
   ]
  },
  {
   "cell_type": "code",
   "execution_count": 51,
   "id": "977337ab",
   "metadata": {},
   "outputs": [],
   "source": [
    "config = {\"configurable\": {\"thread_id\": \"10\"}}"
   ]
  },
  {
   "cell_type": "markdown",
   "id": "6adf0e9f",
   "metadata": {},
   "source": []
  },
  {
   "cell_type": "code",
   "execution_count": 56,
   "id": "e9bb0fa3",
   "metadata": {},
   "outputs": [],
   "source": [
    "turn = langgraph_app.invoke({\n",
    "    \"messages\": [{\"role\": \"user\", \"content\": \"Add 30 and 30\"}]\n",
    "}, config)"
   ]
  },
  {
   "cell_type": "code",
   "execution_count": 57,
   "id": "dd45b6d7",
   "metadata": {},
   "outputs": [
    {
     "data": {
      "text/plain": [
       "{'messages': [HumanMessage(content='hi', additional_kwargs={}, response_metadata={}, id='f07df76c-1886-4b64-a2e4-35df6c4e71cb'),\n",
       "  AIMessage(content='Hello! How can I assist you today?', additional_kwargs={'refusal': None}, response_metadata={'token_usage': {'completion_tokens': 10, 'prompt_tokens': 82, 'total_tokens': 92, 'completion_tokens_details': {'accepted_prediction_tokens': 0, 'audio_tokens': 0, 'reasoning_tokens': 0, 'rejected_prediction_tokens': 0}, 'prompt_tokens_details': {'audio_tokens': 0, 'cached_tokens': 0}}, 'model_name': 'gpt-4o-2024-08-06', 'system_fingerprint': 'fp_07871e2ad8', 'id': 'chatcmpl-CIA2RxWUtFAm3JxKmHJgRxKMcE8AE', 'finish_reason': 'stop', 'logprobs': None}, name='welcome_agent', id='run--76123622-2653-43e8-bc2b-5f2e750f491a-0', usage_metadata={'input_tokens': 82, 'output_tokens': 10, 'total_tokens': 92, 'input_token_details': {'audio': 0, 'cache_read': 0}, 'output_token_details': {'audio': 0, 'reasoning': 0}}),\n",
       "  HumanMessage(content='Give me weather in chicago', additional_kwargs={}, response_metadata={}, id='0b7d9a28-1e01-4876-ac46-382876bf642f'),\n",
       "  AIMessage(content='', additional_kwargs={'tool_calls': [{'id': 'call_Ry1J3uqRV0pUXdEupCrxKsoi', 'function': {'arguments': '{}', 'name': 'transfer_to_weather_agent'}, 'type': 'function'}], 'refusal': None}, response_metadata={'token_usage': {'completion_tokens': 12, 'prompt_tokens': 107, 'total_tokens': 119, 'completion_tokens_details': {'accepted_prediction_tokens': 0, 'audio_tokens': 0, 'reasoning_tokens': 0, 'rejected_prediction_tokens': 0}, 'prompt_tokens_details': {'audio_tokens': 0, 'cached_tokens': 0}}, 'model_name': 'gpt-4o-2024-08-06', 'system_fingerprint': 'fp_cbf1785567', 'id': 'chatcmpl-CIA2s6SBUiMGwkfqKXu5mSR8jwSjg', 'finish_reason': 'tool_calls', 'logprobs': None}, name='welcome_agent', id='run--1b5c6bd2-da53-4845-b7c7-cfada514c1e4-0', tool_calls=[{'name': 'transfer_to_weather_agent', 'args': {}, 'id': 'call_Ry1J3uqRV0pUXdEupCrxKsoi', 'type': 'tool_call'}], usage_metadata={'input_tokens': 107, 'output_tokens': 12, 'total_tokens': 119, 'input_token_details': {'audio': 0, 'cache_read': 0}, 'output_token_details': {'audio': 0, 'reasoning': 0}}),\n",
       "  ToolMessage(content='Successfully transferred to weather_agent', name='transfer_to_weather_agent', id='ad4c43d8-0eea-4474-9959-b28b4af8fb20', tool_call_id='call_Ry1J3uqRV0pUXdEupCrxKsoi'),\n",
       "  AIMessage(content='', additional_kwargs={'tool_calls': [{'id': 'call_T6ZvMhD0MizTp6Y3VQYCCtnz', 'function': {'arguments': '{\"place\":\"Chicago\"}', 'name': 'get_weather'}, 'type': 'function'}], 'refusal': None}, response_metadata={'token_usage': {'completion_tokens': 14, 'prompt_tokens': 155, 'total_tokens': 169, 'completion_tokens_details': {'accepted_prediction_tokens': 0, 'audio_tokens': 0, 'reasoning_tokens': 0, 'rejected_prediction_tokens': 0}, 'prompt_tokens_details': {'audio_tokens': 0, 'cached_tokens': 0}}, 'model_name': 'gpt-4o-2024-08-06', 'system_fingerprint': 'fp_cbf1785567', 'id': 'chatcmpl-CIA2trhjwsCYDQuxTjZCg0kAgCUNP', 'finish_reason': 'tool_calls', 'logprobs': None}, name='weather_agent', id='run--c31c4d4a-fb70-4bbb-ad18-b903033fae30-0', tool_calls=[{'name': 'get_weather', 'args': {'place': 'Chicago'}, 'id': 'call_T6ZvMhD0MizTp6Y3VQYCCtnz', 'type': 'tool_call'}], usage_metadata={'input_tokens': 155, 'output_tokens': 14, 'total_tokens': 169, 'input_token_details': {'audio': 0, 'cache_read': 0}, 'output_token_details': {'audio': 0, 'reasoning': 0}}),\n",
       "  ToolMessage(content='30', name='get_weather', id='c5d1ec97-02f6-47ad-899e-bda3353732ac', tool_call_id='call_T6ZvMhD0MizTp6Y3VQYCCtnz'),\n",
       "  AIMessage(content='The current temperature in Chicago is 30°F.', additional_kwargs={'refusal': None}, response_metadata={'token_usage': {'completion_tokens': 11, 'prompt_tokens': 181, 'total_tokens': 192, 'completion_tokens_details': {'accepted_prediction_tokens': 0, 'audio_tokens': 0, 'reasoning_tokens': 0, 'rejected_prediction_tokens': 0}, 'prompt_tokens_details': {'audio_tokens': 0, 'cached_tokens': 0}}, 'model_name': 'gpt-4o-2024-08-06', 'system_fingerprint': 'fp_cbf1785567', 'id': 'chatcmpl-CIA2uY05QaPIQZtpz7NRl2b3f1NEQ', 'finish_reason': 'stop', 'logprobs': None}, name='weather_agent', id='run--26c923c9-466f-4951-80a0-40de512d4cf6-0', usage_metadata={'input_tokens': 181, 'output_tokens': 11, 'total_tokens': 192, 'input_token_details': {'audio': 0, 'cache_read': 0}, 'output_token_details': {'audio': 0, 'reasoning': 0}}),\n",
       "  HumanMessage(content='Add 30 and 30', additional_kwargs={}, response_metadata={}, id='e9fbb31e-e30f-4e9a-af41-dc7c6925dba0'),\n",
       "  AIMessage(content='', additional_kwargs={'tool_calls': [{'id': 'call_PxQQQm0PH25pyIPDmIk6yRPI', 'function': {'arguments': '{}', 'name': 'transfer_to_calculator_agent'}, 'type': 'function'}], 'refusal': None}, response_metadata={'token_usage': {'completion_tokens': 13, 'prompt_tokens': 208, 'total_tokens': 221, 'completion_tokens_details': {'accepted_prediction_tokens': 0, 'audio_tokens': 0, 'reasoning_tokens': 0, 'rejected_prediction_tokens': 0}, 'prompt_tokens_details': {'audio_tokens': 0, 'cached_tokens': 0}}, 'model_name': 'gpt-4o-2024-08-06', 'system_fingerprint': 'fp_cbf1785567', 'id': 'chatcmpl-CIA3Ry4RwlB4KlESrAy8uAKJO36Ie', 'finish_reason': 'tool_calls', 'logprobs': None}, name='weather_agent', id='run--51d532eb-521b-437e-86d3-67fb46fcc548-0', tool_calls=[{'name': 'transfer_to_calculator_agent', 'args': {}, 'id': 'call_PxQQQm0PH25pyIPDmIk6yRPI', 'type': 'tool_call'}], usage_metadata={'input_tokens': 208, 'output_tokens': 13, 'total_tokens': 221, 'input_token_details': {'audio': 0, 'cache_read': 0}, 'output_token_details': {'audio': 0, 'reasoning': 0}}),\n",
       "  ToolMessage(content='Successfully transferred to calculator_agent', name='transfer_to_calculator_agent', id='3050d27f-8772-44e3-b892-bd6f10ffdc72', tool_call_id='call_PxQQQm0PH25pyIPDmIk6yRPI'),\n",
       "  AIMessage(content='', additional_kwargs={'tool_calls': [{'id': 'call_66Imgz5Mxh1FRIgC2ndR3gfN', 'function': {'arguments': '{\"operation\":\"+\",\"a\":30,\"b\":30}', 'name': 'arithmetic_tool'}, 'type': 'function'}], 'refusal': None}, response_metadata={'token_usage': {'completion_tokens': 22, 'prompt_tokens': 260, 'total_tokens': 282, 'completion_tokens_details': {'accepted_prediction_tokens': 0, 'audio_tokens': 0, 'reasoning_tokens': 0, 'rejected_prediction_tokens': 0}, 'prompt_tokens_details': {'audio_tokens': 0, 'cached_tokens': 0}}, 'model_name': 'gpt-4o-2024-08-06', 'system_fingerprint': 'fp_1827dd0c55', 'id': 'chatcmpl-CIA3ST86JGkdes8TJFrodPsJzgLAN', 'finish_reason': 'tool_calls', 'logprobs': None}, name='calculator_agent', id='run--f8c52366-dd48-496a-8494-1c366b2e5760-0', tool_calls=[{'name': 'arithmetic_tool', 'args': {'operation': '+', 'a': 30, 'b': 30}, 'id': 'call_66Imgz5Mxh1FRIgC2ndR3gfN', 'type': 'tool_call'}], usage_metadata={'input_tokens': 260, 'output_tokens': 22, 'total_tokens': 282, 'input_token_details': {'audio': 0, 'cache_read': 0}, 'output_token_details': {'audio': 0, 'reasoning': 0}}),\n",
       "  ToolMessage(content='60.0', name='arithmetic_tool', id='65ef8347-bd0b-44bc-889f-ecf76b0f1cdf', tool_call_id='call_66Imgz5Mxh1FRIgC2ndR3gfN'),\n",
       "  AIMessage(content='30 + 30 equals 60.', additional_kwargs={'refusal': None}, response_metadata={'token_usage': {'completion_tokens': 9, 'prompt_tokens': 297, 'total_tokens': 306, 'completion_tokens_details': {'accepted_prediction_tokens': 0, 'audio_tokens': 0, 'reasoning_tokens': 0, 'rejected_prediction_tokens': 0}, 'prompt_tokens_details': {'audio_tokens': 0, 'cached_tokens': 0}}, 'model_name': 'gpt-4o-2024-08-06', 'system_fingerprint': 'fp_1827dd0c55', 'id': 'chatcmpl-CIA3TErBp648fYswe84kXUecafJOF', 'finish_reason': 'stop', 'logprobs': None}, name='calculator_agent', id='run--31c447f1-6117-4130-8689-6bc45a6f06f3-0', usage_metadata={'input_tokens': 297, 'output_tokens': 9, 'total_tokens': 306, 'input_token_details': {'audio': 0, 'cache_read': 0}, 'output_token_details': {'audio': 0, 'reasoning': 0}})],\n",
       " 'active_agent': 'calculator_agent'}"
      ]
     },
     "execution_count": 57,
     "metadata": {},
     "output_type": "execute_result"
    }
   ],
   "source": [
    "turn"
   ]
  },
  {
   "cell_type": "code",
   "execution_count": null,
   "id": "204f255b",
   "metadata": {},
   "outputs": [],
   "source": []
  },
  {
   "cell_type": "code",
   "execution_count": 59,
   "id": "f2ccda96",
   "metadata": {},
   "outputs": [
    {
     "name": "stdout",
     "output_type": "stream",
     "text": [
      "The sum of the temperatures in New York (40°F) and Chicago (30°F) is 70°F.\n"
     ]
    }
   ],
   "source": [
    "import asyncio\n",
    "\n",
    "async for event in langgraph_app.astream_events(\n",
    "    {\n",
    "        \"messages\": [\n",
    "            {\"role\": \"user\", \"content\": \"Give me sum of Weather in newyork and chicago\"}\n",
    "        ]\n",
    "    },\n",
    "    config,\n",
    "):\n",
    "    if event.get(\"event\") == \"on_chat_model_stream\":\n",
    "        data = event.get(\"data\", {})\n",
    "        chunk = data.get(\"chunk\")\n",
    "\n",
    "        if not chunk:\n",
    "            continue\n",
    "\n",
    "        content = getattr(chunk, \"content\", \"\")\n",
    "        additional_kwargs = getattr(chunk, \"additional_kwargs\", {})\n",
    "        response_metadata = getattr(chunk, \"response_metadata\", {})\n",
    "\n",
    "        if content and additional_kwargs == {}:\n",
    "            print(content, end=\"\", flush=True)\n",
    "            await asyncio.sleep(0.01)  # ✅ async-friendly sleep\n",
    "\n",
    "        if response_metadata.get(\"finish_reason\") == \"stop\":\n",
    "            print()\n",
    "            break\n"
   ]
  },
  {
   "cell_type": "code",
   "execution_count": null,
   "id": "ada85def",
   "metadata": {},
   "outputs": [],
   "source": []
  },
  {
   "cell_type": "markdown",
   "id": "4aede8fb",
   "metadata": {},
   "source": []
  }
 ],
 "metadata": {
  "kernelspec": {
   "display_name": "Python 3",
   "language": "python",
   "name": "python3"
  },
  "language_info": {
   "codemirror_mode": {
    "name": "ipython",
    "version": 3
   },
   "file_extension": ".py",
   "mimetype": "text/x-python",
   "name": "python",
   "nbconvert_exporter": "python",
   "pygments_lexer": "ipython3",
   "version": "3.11.11"
  }
 },
 "nbformat": 4,
 "nbformat_minor": 5
}
