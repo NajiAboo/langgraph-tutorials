{
 "cells": [
  {
   "cell_type": "code",
   "execution_count": 3,
   "id": "41cf9483",
   "metadata": {},
   "outputs": [],
   "source": [
    "from langchain_core.messages import AnyMessage\n",
    "from langchain_core.runnables import RunnableConfig\n",
    "from langgraph.prebuilt import create_react_agent\n",
    "from langgraph.prebuilt.chat_agent_executor import AgentState"
   ]
  },
  {
   "cell_type": "code",
   "execution_count": 1,
   "id": "0dd0cf46",
   "metadata": {},
   "outputs": [],
   "source": [
    "def get_weather(city: str) -> str:\n",
    "    \"\"\" Get weather for a given city.\"\"\"\n",
    "    return f\"It's always sunny in {city}\""
   ]
  },
  {
   "cell_type": "code",
   "execution_count": 7,
   "id": "ed20de93",
   "metadata": {},
   "outputs": [],
   "source": [
    "def prompt(state: AgentState, config: RunnableConfig) -> list[AnyMessage]:\n",
    "    user_name = config['configurable'].get(\"user_name\")\n",
    "    system_prompt = f\"YOu are a helpful assistant. User name is {user_name}\"\n",
    "    return [{\"role\": \"system\", \"content\": system_prompt}] + state[\"messages\"]"
   ]
  },
  {
   "cell_type": "code",
   "execution_count": 8,
   "id": "cf57a030",
   "metadata": {},
   "outputs": [],
   "source": [
    "agent = create_react_agent(\n",
    "    model='gpt-4o',\n",
    "    tools=[get_weather],\n",
    "    prompt=prompt\n",
    ")"
   ]
  },
  {
   "cell_type": "code",
   "execution_count": 9,
   "id": "a3528bf7",
   "metadata": {},
   "outputs": [
    {
     "data": {
      "text/plain": [
       "{'messages': [HumanMessage(content='hi', additional_kwargs={}, response_metadata={}, id='22eae9a9-4f47-4a6e-a0b3-1803b2c8fc3c'),\n",
       "  AIMessage(content='Hello, John! How can I assist you today?', additional_kwargs={'refusal': None}, response_metadata={'token_usage': {'completion_tokens': 12, 'prompt_tokens': 58, 'total_tokens': 70, 'completion_tokens_details': {'accepted_prediction_tokens': 0, 'audio_tokens': 0, 'reasoning_tokens': 0, 'rejected_prediction_tokens': 0}, 'prompt_tokens_details': {'audio_tokens': 0, 'cached_tokens': 0}}, 'model_name': 'gpt-4o-2024-08-06', 'system_fingerprint': 'fp_90122d973c', 'id': 'chatcmpl-BYtVLdarNjaaDcy12DDMdQy4INr59', 'finish_reason': 'stop', 'logprobs': None}, id='run-d4396ef7-4573-453c-8c0d-addf47841c9b-0', usage_metadata={'input_tokens': 58, 'output_tokens': 12, 'total_tokens': 70, 'input_token_details': {'audio': 0, 'cache_read': 0}, 'output_token_details': {'audio': 0, 'reasoning': 0}})]}"
      ]
     },
     "execution_count": 9,
     "metadata": {},
     "output_type": "execute_result"
    }
   ],
   "source": [
    "agent.invoke(\n",
    "    {\"messages\": [{\"role\": \"user\", \"content\": \"hi\"}]},\n",
    "    config={\"configurable\": {\"user_name\": \"John Smith\"}}\n",
    ")"
   ]
  },
  {
   "cell_type": "code",
   "execution_count": null,
   "id": "8559a6c1",
   "metadata": {},
   "outputs": [],
   "source": []
  },
  {
   "cell_type": "code",
   "execution_count": 10,
   "id": "b3e36759",
   "metadata": {},
   "outputs": [],
   "source": [
    "from typing import Annotated\n",
    "from langgraph.prebuilt import InjectedState"
   ]
  },
  {
   "cell_type": "code",
   "execution_count": 11,
   "id": "624d1a26",
   "metadata": {},
   "outputs": [],
   "source": [
    "class CustomState(AgentState):\n",
    "    user_id : str"
   ]
  },
  {
   "cell_type": "code",
   "execution_count": 13,
   "id": "5dd258e6",
   "metadata": {},
   "outputs": [],
   "source": [
    "def get_user_info(state: Annotated[CustomState, InjectedState]) -> str:\n",
    "    \"\"\" Look up user info \"\"\"\n",
    "    user_id = state[\"user_id\"]\n",
    "    return \"User is John Smith\" if user_id == \"user_123\" else \"Unknown User\""
   ]
  },
  {
   "cell_type": "code",
   "execution_count": 14,
   "id": "b9e89935",
   "metadata": {},
   "outputs": [],
   "source": [
    "aget_state = create_react_agent(\n",
    "    model='gpt-4o',\n",
    "    tools=[get_user_info],\n",
    "    state_schema=CustomState\n",
    ")"
   ]
  },
  {
   "cell_type": "code",
   "execution_count": null,
   "id": "c4b6cbf6",
   "metadata": {},
   "outputs": [],
   "source": []
  },
  {
   "cell_type": "code",
   "execution_count": null,
   "id": "7e49143a",
   "metadata": {},
   "outputs": [],
   "source": []
  },
  {
   "cell_type": "code",
   "execution_count": null,
   "id": "bcd8ac89",
   "metadata": {},
   "outputs": [],
   "source": []
  }
 ],
 "metadata": {
  "kernelspec": {
   "display_name": "Python 3",
   "language": "python",
   "name": "python3"
  },
  "language_info": {
   "codemirror_mode": {
    "name": "ipython",
    "version": 3
   },
   "file_extension": ".py",
   "mimetype": "text/x-python",
   "name": "python",
   "nbconvert_exporter": "python",
   "pygments_lexer": "ipython3",
   "version": "3.11.11"
  }
 },
 "nbformat": 4,
 "nbformat_minor": 5
}
